{
 "cells": [
  {
   "cell_type": "markdown",
   "id": "685bbb37-4e5f-45fc-9b29-042ef93d9fbf",
   "metadata": {},
   "source": [
    "# Max-Cut (10,000 Vertices) on Dynex n.quantum computing cloud"
   ]
  },
  {
   "cell_type": "code",
   "execution_count": 1,
   "id": "de8faed6-5623-44a5-9153-47bae82f45bb",
   "metadata": {},
   "outputs": [],
   "source": [
    "import dynex\n",
    "import networkx as nx\n",
    "import matplotlib\n",
    "from matplotlib import pyplot as plt\n",
    "from collections import defaultdict"
   ]
  },
  {
   "cell_type": "markdown",
   "id": "19678bac-1814-4194-a965-bfbe3e61dd31",
   "metadata": {},
   "source": [
    "## Simple Max-Cut graph"
   ]
  },
  {
   "cell_type": "code",
   "execution_count": 5,
   "id": "ff19a59e-b2d5-4acc-bd6a-eab15ef70ca2",
   "metadata": {},
   "outputs": [],
   "source": [
    "# Create empty graph\n",
    "G = nx.Graph()"
   ]
  },
  {
   "cell_type": "code",
   "execution_count": 6,
   "id": "27933996-27eb-4c78-950e-c1197ec1e627",
   "metadata": {},
   "outputs": [],
   "source": [
    "# Add edges to the graph (also adds nodes)\n",
    "G.add_edges_from([(1,2),(1,3),(2,4),(3,4),(3,5),(4,5)])"
   ]
  },
  {
   "cell_type": "code",
   "execution_count": 9,
   "id": "3ecf8315-2eac-4d17-8118-124b2e61f334",
   "metadata": {},
   "outputs": [],
   "source": [
    "# ------- Set up our QUBO dictionary -------\n",
    "\n",
    "# Initialize our Q matrix\n",
    "Q = defaultdict(int)\n",
    "\n",
    "# Update Q matrix for every edge in the graph\n",
    "for i, j in G.edges:\n",
    "    Q[(i,i)]+= -1\n",
    "    Q[(j,j)]+= -1\n",
    "    Q[(i,j)]+= 2"
   ]
  },
  {
   "cell_type": "code",
   "execution_count": 17,
   "id": "f04d31fa-0b53-4c03-a43d-73886b437814",
   "metadata": {},
   "outputs": [
    {
     "name": "stdout",
     "output_type": "stream",
     "text": [
      "[DYNEX] PRECISION SET TO 0.0001\n",
      "[DYNEX] SAMPLER INITIALISED\n",
      "Dynex (testnet) branch-and-bound Ising/Qubo sampler\n",
      "---------------------------------------------------\n",
      "c first lower bound: 70000\n",
      "o 70000\n",
      "c 1 branches 12 propagates\n",
      "c ** dynex-testnet-bnb time = 0.000133000000 seconds\n",
      "\n",
      "c solution file written: /root/dynex/dynexcloud/tmp/b67dfd84fb4282de20781ab41489f5fd.dnx.1000000.1000000.-1.70000\n",
      "╭────────────┬─────────────┬───────────┬───────────────────────────┬─────────┬─────────┬────────────────╮\n",
      "│   DYNEXJOB │   BLOCK FEE │ ELAPSED   │ WORKERS READ              │ CHIPS   │ STEPS   │ GROUND STATE   │\n",
      "├────────────┼─────────────┼───────────┼───────────────────────────┼─────────┼─────────┼────────────────┤\n",
      "│         -1 │           0 │           │ *** WAITING FOR READS *** │         │         │                │\n",
      "╰────────────┴─────────────┴───────────┴───────────────────────────┴─────────┴─────────┴────────────────╯\n",
      "\n",
      "[DYNEX] FINISHED READ AFTER 0.00 SECONDS\n",
      "[DYNEX] SAMPLESET READY\n",
      "Result:\n",
      "   1  2  3  4  5 energy num_oc.\n",
      "0  0  1  1  0  0   -5.0       1\n",
      "['BINARY', 1 rows, 1 samples, 5 variables]\n"
     ]
    }
   ],
   "source": [
    "# Sample on Dynex\n",
    "sampleset = dynex.sample_qubo(Q, 0.0, mainnet=False, description='Dynex SDK job', num_reads=50000, annealing_time = 200, debugging=True, bnb=False);\n",
    "print('Result:')\n",
    "print(sampleset)"
   ]
  },
  {
   "cell_type": "code",
   "execution_count": 21,
   "id": "2e4a3979-0577-488b-9349-3d599ab72ac2",
   "metadata": {},
   "outputs": [
    {
     "name": "stdout",
     "output_type": "stream",
     "text": [
      "Maxcut result: 5\n"
     ]
    },
    {
     "name": "stderr",
     "output_type": "stream",
     "text": [
      "/tmp/ipykernel_1434920/591714125.py:17: DeprecationWarning: `alltrue` is deprecated as of NumPy 1.25.0, and will be removed in NumPy 2.0. Please use `all` instead.\n",
      "  nx.draw_networkx_edges(G, pos, edgelist=uncut_edges, style='solid', width=3)\n"
     ]
    },
    {
     "data": {
      "text/plain": [
       "{1: Text(-0.6584219450731676, -0.5546281579337784, '1'),\n",
       " 2: Text(-0.801115786721148, 0.31126312712251003, '2'),\n",
       " 3: Text(0.29827486278183307, -0.3631900170796597, '3'),\n",
       " 4: Text(0.16126286901248335, 0.43911207651906525, '4'),\n",
       " 5: Text(1.0, 0.16744297137186198, '5')}"
      ]
     },
     "execution_count": 21,
     "metadata": {},
     "output_type": "execute_result"
    },
    {
     "data": {
      "image/png": "[encoded data removed]",
      "text/plain": [
       "<Figure size 640x480 with 1 Axes>"
      ]
     },
     "metadata": {},
     "output_type": "display_data"
    }
   ],
   "source": [
    "# Grab best result\n",
    "lut = sampleset.first.sample\n",
    "\n",
    "# Interpret best result in terms of nodes and edges\n",
    "S0 = [node for node in G.nodes if not lut[node]]\n",
    "S1 = [node for node in G.nodes if lut[node]]\n",
    "cut_edges = [(u, v) for u, v in G.edges if lut[u]!=lut[v]]\n",
    "uncut_edges = [(u, v) for u, v in G.edges if lut[u]==lut[v]]\n",
    "\n",
    "print('Maxcut result:',len(cut_edges))\n",
    "\n",
    "# Display best result\n",
    "pos = nx.spring_layout(G)\n",
    "nx.draw_networkx_nodes(G, pos, nodelist=S0, node_color='r')\n",
    "nx.draw_networkx_nodes(G, pos, nodelist=S1, node_color='c')\n",
    "nx.draw_networkx_edges(G, pos, edgelist=cut_edges, style='dashdot', alpha=0.5, width=3)\n",
    "nx.draw_networkx_edges(G, pos, edgelist=uncut_edges, style='solid', width=3)\n",
    "nx.draw_networkx_labels(G, pos)"
   ]
  },
  {
   "cell_type": "markdown",
   "id": "cbbd8013-af32-40f0-aa22-3b631b70a5ff",
   "metadata": {},
   "source": [
    "## 10,000 Vertices"
   ]
  },
  {
   "cell_type": "code",
   "execution_count": 112,
   "id": "daadf6b0-3d38-4d61-a24d-1fee10a9a404",
   "metadata": {},
   "outputs": [],
   "source": [
    "import numpy as np"
   ]
  },
  {
   "cell_type": "code",
   "execution_count": 113,
   "id": "b40563ad-2b3f-494c-af55-257d9ee57e10",
   "metadata": {},
   "outputs": [],
   "source": [
    "filename = 'G70.dat' "
   ]
  },
  {
   "cell_type": "code",
   "execution_count": 114,
   "id": "7965273a-67e1-4cbd-9e88-67f52dce8d6f",
   "metadata": {},
   "outputs": [],
   "source": [
    "f = open(filename, \"r\").readlines()"
   ]
  },
  {
   "cell_type": "code",
   "execution_count": 115,
   "id": "33cef8e0-6a51-4936-a6f2-d3bb443cbc77",
   "metadata": {
    "scrolled": true
   },
   "outputs": [],
   "source": [
    "b_matrix=False\n",
    "bin_size = f[0].split(\" \")[0]\n",
    "Q = np.zeros([int(bin_size) + 1, int(bin_size) + 1])\n",
    "init_bin = np.zeros([int(bin_size) + 1])\n",
    "init_bin[-1] = 1\n",
    "for ele in f[1:]:\n",
    "    i, j, v = ele.split()\n",
    "    if b_matrix == True :\n",
    "        Q[int(i) - 1, int(j) - 1] += int(v)\n",
    "        if (int(i) != int(j)):\n",
    "            Q[int(j) - 1, int(i) - 1] += int(v)\n",
    "    else :\n",
    "        if (int(i) == int(j)) :\n",
    "            print('No edge connected at the same Node',int(i),int(j))\n",
    "        else :\n",
    "            Q[int(i), int(j)] += int(v)\n",
    "            Q[int(j), int(i)] += int(v)\n",
    "            Q[int(i), int(i)] += -int(v)\n",
    "            Q[int(j), int(j)] += -int(v)"
   ]
  },
  {
   "cell_type": "code",
   "execution_count": 117,
   "id": "47d63c4f-bf67-4fb5-8d3d-33e127577b20",
   "metadata": {},
   "outputs": [
    {
     "name": "stdout",
     "output_type": "stream",
     "text": [
      "╭────────────┬─────────────┬───────────┬────────────────┬─────────┬─────────┬────────────────╮\n",
      "│   DYNEXJOB │   BLOCK FEE │   ELAPSED │   WORKERS READ │   CHIPS │   STEPS │   GROUND STATE │\n",
      "├────────────┼─────────────┼───────────┼────────────────┼─────────┼─────────┼────────────────┤\n",
      "│       7305 │        6.59 │     10.99 │              7 │  112064 │   10000 │   107140000.00 │\n",
      "╰────────────┴─────────────┴───────────┴────────────────┴─────────┴─────────┴────────────────╯\n",
      "╭────────────┬─────────────────┬─────────┬───────┬──────────────┬─────────────────┬─────────────────────────────┬───────────────┬──────────╮\n",
      "│     WORKER │         VERSION │   CHIPS │   LOC │       ENERGY │         RUNTIME │                 LAST UPDATE │         STEPS │   STATUS │\n",
      "├────────────┼─────────────────┼─────────┼───────┼──────────────┼─────────────────┼─────────────────────────────┼───────────────┼──────────┤\n",
      "│ 88fb..fa04 │ 2.3.5f.BZM.v21. │     768 │ 18653 │         0.00 │    8.970541596s │ 2024-04-29T09:30:37.297813Z │    33 (0.33%) │  \u001b[1;31mSTOPPED\u001b[0m │\n",
      "├────────────┼─────────────────┼─────────┼───────┼──────────────┼─────────────────┼─────────────────────────────┼───────────────┼──────────┤\n",
      "│ 9e85..b77f │ 2.3.5.OZM.130.L │  156672 │  4168 │   4110000.00 │   20.941848131s │ 2024-04-29T09:30:25.326508Z │ 7308 (73.08%) │  \u001b[1;31mSTOPPED\u001b[0m │\n",
      "├────────────┼─────────────────┼─────────┼───────┼──────────────┼─────────────────┼─────────────────────────────┼───────────────┼──────────┤\n",
      "│ 4c64..5bfd │ 2.3.5.OZM.127.L │  100000 │  2246 │ 107140000.00 │    2.876022869s │ 2024-04-29T09:30:43.392334Z │     0 (0.00%) │  \u001b[1;31mSTOPPED\u001b[0m │\n",
      "├────────────┼─────────────────┼─────────┼───────┼──────────────┼─────────────────┼─────────────────────────────┼───────────────┼──────────┤\n",
      "│ c159..0191 │ 2.3.5.OZM.130.L │    9888 │  4194 │ 108880000.00 │ 2m57.174449648s │ 2024-04-29T09:27:49.093908Z │     0 (0.00%) │  \u001b[1;31mSTOPPED\u001b[0m │\n",
      "├────────────┼─────────────────┼─────────┼───────┼──────────────┼─────────────────┼─────────────────────────────┼───────────────┼──────────┤\n",
      "│ 2081..887f │ 2.3.5.OZM.130.L │   35776 │  4198 │ 109000000.00 │   35.253428419s │  2024-04-29T09:30:11.01493Z │ 4577 (45.77%) │  \u001b[1;31mSTOPPED\u001b[0m │\n",
      "├────────────┼─────────────────┼─────────┼───────┼──────────────┼─────────────────┼─────────────────────────────┼───────────────┼──────────┤\n",
      "│ a244..6686 │ 2.3.5.OZM.130.L │   84480 │  4184 │ 109080000.00 │    2.222569255s │  2024-04-29T09:30:44.04579Z │ 7690 (76.90%) │  \u001b[1;31mSTOPPED\u001b[0m │\n",
      "├────────────┼─────────────────┼─────────┼───────┼──────────────┼─────────────────┼─────────────────────────────┼───────────────┼──────────┤\n",
      "│ f787..5026 │ 2.3.5.OZM.130.W │  107520 │  4673 │ 116530000.00 │ 1m26.031062862s │ 2024-04-29T09:29:20.237297Z │ 4999 (49.99%) │  \u001b[1;31mSTOPPED\u001b[0m │\n",
      "├────────────┼─────────────────┼─────────┼───────┼──────────────┼─────────────────┼─────────────────────────────┼───────────────┼──────────┤\n",
      "│ daec..e5a0 │ 2.3.5.OZM.130.W │   17888 │  5067 │ 116860000.00 │   20.249642451s │ 2024-04-29T09:30:26.018718Z │ 7586 (75.86%) │  \u001b[1;31mSTOPPED\u001b[0m │\n",
      "├────────────┼─────────────────┼─────────┼───────┼──────────────┼─────────────────┼─────────────────────────────┼───────────────┼──────────┤\n",
      "│ f81a..a486 │ 2.3.5.OZM.130.W │   25152 │  4682 │ 118040000.00 │ 1m12.581749149s │ 2024-04-29T09:29:33.686612Z │ 3927 (39.27%) │  \u001b[1;31mSTOPPED\u001b[0m │\n",
      "├────────────┼─────────────────┼─────────┼───────┼──────────────┼─────────────────┼─────────────────────────────┼───────────────┼──────────┤\n",
      "│ eee1..488c │ 2.3.5.OZM.129.W │   11360 │  5965 │ 140490000.00 │    8.295820668s │ 2024-04-29T09:30:37.972541Z │ 4690 (46.90%) │  \u001b[1;31mSTOPPED\u001b[0m │\n",
      "╰────────────┴─────────────────┴─────────┴───────┴──────────────┴─────────────────┴─────────────────────────────┴───────────────┴──────────╯\n",
      "[DYNEX] FINISHED READ AFTER 10.99 SECONDS\n",
      "[DYNEX] SAMPLESET READY\n",
      "Result:\n",
      "   0  1  2  3  4  5  6  7  8  9 10 11 12 13 14 15 16 ... 10000  energy num_oc.\n",
      "0  1  1  1  0  0  0  0  1  1  1  1  0  1  1  0  1  0 ...     1 -9284.0       1\n",
      "4  1  1  1  1  0  0  0  1  1  1  0  1  1  0  0  1  0 ...     1 -9246.0       1\n",
      "2  1  1  1  0  0  0  0  0  1  0  1  1  1  0  0  0  0 ...     1 -9240.0       1\n",
      "1  1  1  1  0  0  0  1  0  0  1  0  0  0  1  0  0  1 ...     0 -9212.0       1\n",
      "6  0  1  1  1  0  0  0  0  0  1  0  0  0  0  0  1  1 ...     1 -9160.0       1\n",
      "3  1  0  0  0  0  0  1  0  1  0  0  1  0  0  0  0  0 ...     0 -9110.0       1\n",
      "5  1  0  1  0  1  1  0  0  0  1  0  1  1  0  1  0  0 ...     0 -9080.0       1\n",
      "['BINARY', 7 rows, 7 samples, 10001 variables]\n"
     ]
    }
   ],
   "source": [
    "# Sample on Dynex\n",
    "sampleset = dynex.sample_qubo(Q, 0.0, mainnet=True, num_reads=100000, annealing_time = 10000, alpha=0.05, beta=0.2);\n",
    "print('Result:')\n",
    "print(sampleset)"
   ]
  },
  {
   "cell_type": "code",
   "execution_count": null,
   "id": "5e242e72-a150-4d4d-bb00-371b8c623e88",
   "metadata": {},
   "outputs": [],
   "source": []
  }
 ],
 "metadata": {
  "kernelspec": {
   "display_name": "Python 3 (ipykernel)",
   "language": "python",
   "name": "python3"
  },
  "language_info": {
   "codemirror_mode": {
    "name": "ipython",
    "version": 3
   },
   "file_extension": ".py",
   "mimetype": "text/x-python",
   "name": "python",
   "nbconvert_exporter": "python",
   "pygments_lexer": "ipython3",
   "version": "3.10.12"
  }
 },
 "nbformat": 4,
 "nbformat_minor": 5
}
