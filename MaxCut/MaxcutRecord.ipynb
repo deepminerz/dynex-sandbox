{
 "cells": [
  {
   "cell_type": "markdown",
   "id": "685bbb37-4e5f-45fc-9b29-042ef93d9fbf",
   "metadata": {},
   "source": [
    "# Max-Cut (10,000 Vertices) on Dynex n.quantum computing cloud"
   ]
  },
  {
   "cell_type": "code",
   "execution_count": null,
   "id": "de8faed6-5623-44a5-9153-47bae82f45bb",
   "metadata": {},
   "outputs": [],
   "source": [
    "import dynex\n",
    "import networkx as nx\n",
    "import matplotlib\n",
    "from matplotlib import pyplot as plt\n",
    "from collections import defaultdict"
   ]
  },
  {
   "cell_type": "markdown",
   "id": "19678bac-1814-4194-a965-bfbe3e61dd31",
   "metadata": {},
   "source": [
    "## Simple Max-Cut graph"
   ]
  },
  {
   "cell_type": "code",
   "execution_count": null,
   "id": "ff19a59e-b2d5-4acc-bd6a-eab15ef70ca2",
   "metadata": {},
   "outputs": [],
   "source": [
    "# Create empty graph\n",
    "G = nx.Graph()"
   ]
  },
  {
   "cell_type": "code",
   "execution_count": null,
   "id": "27933996-27eb-4c78-950e-c1197ec1e627",
   "metadata": {},
   "outputs": [],
   "source": [
    "# Add edges to the graph (also adds nodes)\n",
    "G.add_edges_from([(1,2),(1,3),(2,4),(3,4),(3,5),(4,5)])"
   ]
  },
  {
   "cell_type": "code",
   "execution_count": null,
   "id": "3ecf8315-2eac-4d17-8118-124b2e61f334",
   "metadata": {},
   "outputs": [],
   "source": [
    "# ------- Set up our QUBO dictionary -------\n",
    "\n",
    "# Initialize our Q matrix\n",
    "Q = defaultdict(int)\n",
    "\n",
    "# Update Q matrix for every edge in the graph\n",
    "for i, j in G.edges:\n",
    "    Q[(i,i)]+= -1\n",
    "    Q[(j,j)]+= -1\n",
    "    Q[(i,j)]+= 2"
   ]
  },
  {
   "cell_type": "code",
   "execution_count": null,
   "id": "f04d31fa-0b53-4c03-a43d-73886b437814",
   "metadata": {},
   "outputs": [],
   "source": [
    "# Sample on Dynex\n",
    "sampleset = dynex.sample_qubo(Q, 0.0, mainnet=False, description='Dynex SDK job', num_reads=50000, annealing_time = 200, debugging=True);\n",
    "print('Result:')\n",
    "print(sampleset)"
   ]
  },
  {
   "cell_type": "code",
   "execution_count": null,
   "id": "2e4a3979-0577-488b-9349-3d599ab72ac2",
   "metadata": {},
   "outputs": [],
   "source": [
    "# Grab best result\n",
    "lut = sampleset.first.sample\n",
    "\n",
    "# Interpret best result in terms of nodes and edges\n",
    "S0 = [node for node in G.nodes if not lut[node]]\n",
    "S1 = [node for node in G.nodes if lut[node]]\n",
    "cut_edges = [(u, v) for u, v in G.edges if lut[u]!=lut[v]]\n",
    "uncut_edges = [(u, v) for u, v in G.edges if lut[u]==lut[v]]\n",
    "\n",
    "print('Maxcut result:',len(cut_edges))\n",
    "\n",
    "# Display best result\n",
    "pos = nx.spring_layout(G)\n",
    "nx.draw_networkx_nodes(G, pos, nodelist=S0, node_color='r')\n",
    "nx.draw_networkx_nodes(G, pos, nodelist=S1, node_color='c')\n",
    "nx.draw_networkx_edges(G, pos, edgelist=cut_edges, style='dashdot', alpha=0.5, width=3)\n",
    "nx.draw_networkx_edges(G, pos, edgelist=uncut_edges, style='solid', width=3)\n",
    "nx.draw_networkx_labels(G, pos)"
   ]
  },
  {
   "cell_type": "markdown",
   "id": "cbbd8013-af32-40f0-aa22-3b631b70a5ff",
   "metadata": {},
   "source": [
    "## 10,000 Vertices"
   ]
  },
  {
   "cell_type": "code",
   "execution_count": null,
   "id": "daadf6b0-3d38-4d61-a24d-1fee10a9a404",
   "metadata": {},
   "outputs": [],
   "source": [
    "import numpy as np"
   ]
  },
  {
   "cell_type": "code",
   "execution_count": null,
   "id": "b40563ad-2b3f-494c-af55-257d9ee57e10",
   "metadata": {},
   "outputs": [],
   "source": [
    "filename = 'G70.dat' "
   ]
  },
  {
   "cell_type": "code",
   "execution_count": null,
   "id": "7965273a-67e1-4cbd-9e88-67f52dce8d6f",
   "metadata": {},
   "outputs": [],
   "source": [
    "f = open(filename, \"r\").readlines()"
   ]
  },
  {
   "cell_type": "code",
   "execution_count": null,
   "id": "33cef8e0-6a51-4936-a6f2-d3bb443cbc77",
   "metadata": {
    "scrolled": true
   },
   "outputs": [],
   "source": [
    "b_matrix=False\n",
    "bin_size = f[0].split(\" \")[0]\n",
    "Q = np.zeros([int(bin_size) + 1, int(bin_size) + 1])\n",
    "init_bin = np.zeros([int(bin_size) + 1])\n",
    "init_bin[-1] = 1\n",
    "for ele in f[1:]:\n",
    "    i, j, v = ele.split()\n",
    "    if b_matrix == True :\n",
    "        Q[int(i) - 1, int(j) - 1] += int(v)\n",
    "        if (int(i) != int(j)):\n",
    "            Q[int(j) - 1, int(i) - 1] += int(v)\n",
    "    else :\n",
    "        if (int(i) == int(j)) :\n",
    "            print('No edge connected at the same Node',int(i),int(j))\n",
    "        else :\n",
    "            Q[int(i), int(j)] += int(v)\n",
    "            Q[int(j), int(i)] += int(v)\n",
    "            Q[int(i), int(i)] += -int(v)\n",
    "            Q[int(j), int(j)] += -int(v)"
   ]
  },
  {
   "cell_type": "code",
   "execution_count": null,
   "id": "47d63c4f-bf67-4fb5-8d3d-33e127577b20",
   "metadata": {},
   "outputs": [],
   "source": [
    "# Sample on Dynex\n",
    "sampleset = dynex.sample_qubo(Q, 0.0, mainnet=True, num_reads=100000, annealing_time = 10000, alpha=0.05, beta=0.2);\n",
    "print('Result:')\n",
    "print(sampleset)"
   ]
  },
  {
   "cell_type": "code",
   "execution_count": null,
   "id": "5e242e72-a150-4d4d-bb00-371b8c623e88",
   "metadata": {},
   "outputs": [],
   "source": []
  }
 ],
 "metadata": {
  "kernelspec": {
   "display_name": "Python 3 (ipykernel)",
   "language": "python",
   "name": "python3"
  },
  "language_info": {
   "codemirror_mode": {
    "name": "ipython",
    "version": 3
   },
   "file_extension": ".py",
   "mimetype": "text/x-python",
   "name": "python",
   "nbconvert_exporter": "python",
   "pygments_lexer": "ipython3",
   "version": "3.10.12"
  }
 },
 "nbformat": 4,
 "nbformat_minor": 5
}
