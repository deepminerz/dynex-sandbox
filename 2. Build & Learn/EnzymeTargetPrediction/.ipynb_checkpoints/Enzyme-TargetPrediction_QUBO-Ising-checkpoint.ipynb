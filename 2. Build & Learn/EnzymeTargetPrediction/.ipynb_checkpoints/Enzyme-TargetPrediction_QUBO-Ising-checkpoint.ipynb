{
 "cells": [
  {
   "cell_type": "markdown",
   "id": "228e129b",
   "metadata": {},
   "source": [
    "# Enzyme-Target Prediction"
   ]
  },
  {
   "cell_type": "code",
   "execution_count": 1,
   "id": "01451575",
   "metadata": {},
   "outputs": [],
   "source": [
    "import dimod\n",
    "from dimod import BinaryQuadraticModel, SimulatedAnnealingSampler\n",
    "import pandas as pd\n",
    "from collections import defaultdict, Counter\n",
    "from rdkit import Chem, DataStructs\n",
    "from rdkit.Chem import AllChem ,Descriptors, Draw\n",
    "import matplotlib.pyplot as plt\n",
    "import numpy as np\n",
    "from PIL import Image\n",
    "import dynex"
   ]
  },
  {
   "cell_type": "markdown",
   "id": "f950e5c1",
   "metadata": {},
   "source": [
    "# **Loading Datasets**"
   ]
  },
  {
   "cell_type": "code",
   "execution_count": 2,
   "id": "20565707",
   "metadata": {},
   "outputs": [],
   "source": [
    "df = pd.read_csv('Transformations.csv', encoding='latin1', nrows=1000) \n",
    "df1 = pd.read_csv('substances.csv', encoding='latin1', nrows=1000) \n",
    "df2 = pd.read_csv('metabolicdb.csv', encoding='latin1', nrows=1000) "
   ]
  },
  {
   "cell_type": "markdown",
   "id": "e9d097ad",
   "metadata": {},
   "source": [
    "### Check the datatypes"
   ]
  },
  {
   "cell_type": "code",
   "execution_count": 3,
   "id": "416f294d",
   "metadata": {},
   "outputs": [
    {
     "name": "stdout",
     "output_type": "stream",
     "text": [
      "Data types in df:\n",
      "Predecessor_CID     int64\n",
      "Successor_CID       int64\n",
      "Enzyme             object\n",
      "dtype: object\n",
      "\n",
      "Data types in df1:\n",
      "InChI          object\n",
      "PubChem_CID     int64\n",
      "SMILES         object\n",
      "dtype: object\n",
      "\n",
      "Data types in df2:\n",
      "substrate_cid    float64\n",
      "prod_cid          object\n",
      "enzyme            object\n",
      "dtype: object\n"
     ]
    }
   ],
   "source": [
    "print(\"Data types in df:\")\n",
    "print(df[['Predecessor_CID', 'Successor_CID', 'Enzyme']].dtypes)\n",
    "print(\"\\nData types in df1:\")\n",
    "print(df1[['InChI', 'PubChem_CID', 'SMILES']].dtypes)\n",
    "print(\"\\nData types in df2:\")\n",
    "print(df2[['substrate_cid', 'prod_cid', 'enzyme']].dtypes)"
   ]
  },
  {
   "cell_type": "markdown",
   "id": "ae7d32d7",
   "metadata": {},
   "source": [
    "### Merging Datasets"
   ]
  },
  {
   "cell_type": "code",
   "execution_count": 4,
   "id": "5540b730",
   "metadata": {},
   "outputs": [],
   "source": [
    "df['Predecessor_Name'] = df['Predecessor_Name'].astype(str)\n",
    "df['Successor_CID'] = df['Successor_CID'].astype(float)\n",
    "df1['SubstanceName'] = df1['SubstanceName'].astype(str)\n",
    "df1['PubChem_CID'] = df1['PubChem_CID'].astype(float)\n",
    "df2['substrate_cid'] = df2['substrate_cid'].astype(str)\n",
    "df2['prod_cid'] = df2['prod_cid'].astype(str)\n",
    "\n",
    "# First merge\n",
    "mergedDf1 = pd.merge(df, df1, \n",
    "                      left_on=['Successor_CID'], \n",
    "                      right_on=['PubChem_CID'], \n",
    "                      how='inner')\n",
    "\n",
    "# Second merge\n",
    "mergedDf = pd.merge(mergedDf1, df2, \n",
    "                     left_on=['Enzyme'], \n",
    "                     right_on=['enzyme'], \n",
    "                     how='inner')"
   ]
  },
  {
   "cell_type": "markdown",
   "id": "6a80e565",
   "metadata": {},
   "source": [
    "# Initialization:"
   ]
  },
  {
   "cell_type": "markdown",
   "id": "f8ff522d",
   "metadata": {},
   "source": [
    "- Preprocessing dataset \n",
    "- Calculate Enzyme Frequencies\n",
    "- Set the threshold for **high frequency enzymes**\n",
    "- Group by **Transformation** [Type] and Enzyme, then count the occurrences\n",
    "- Filter transformation types specific to **single enzymes**"
   ]
  },
  {
   "cell_type": "code",
   "execution_count": 5,
   "id": "ba84496d",
   "metadata": {},
   "outputs": [
    {
     "name": "stdout",
     "output_type": "stream",
     "text": [
      "[INFO]: PHASE-1 DONE !\n",
      "[INFO]: PHASE-2 DONE !\n",
      "[INFO]: PHASE-3 DONE !\n",
      "[INFO]: PHASE-4 DONE !\n",
      "CPU times: user 221 ms, sys: 1.02 ms, total: 222 ms\n",
      "Wall time: 220 ms\n"
     ]
    }
   ],
   "source": [
    "%%time\n",
    "enzymeCounter = Counter()\n",
    "allPossiblePairs = set()\n",
    "allPossibleEnzymes = set()\n",
    "def updateSetsAndCounter(row):\n",
    "    enzymes = row['Enzyme'].split('; ')\n",
    "    enzymeCounter.update(enzymes)\n",
    "    allPossiblePairs.add((row['Predecessor_CID'], row['Successor_CID']))\n",
    "    allPossibleEnzymes.update(enzymes)\n",
    "mergedDf.apply(updateSetsAndCounter, axis=1)\n",
    "print(\"[INFO]: PHASE-1 DONE !\")\n",
    "\n",
    "enzymeFrequenciesDf = pd.DataFrame.from_dict(enzymeCounter, orient='index', columns=['Frequency']).reset_index()\n",
    "enzymeFrequenciesDf.rename(columns={'index': 'Enzyme'}, inplace=True)\n",
    "enzymeFrequenciesDf.sort_values(by='Frequency', ascending=False, inplace=True)\n",
    "print(\"[INFO]: PHASE-2 DONE !\")\n",
    "\n",
    "highFrequencyEnzymes = set(enzymeFrequenciesDf[enzymeFrequenciesDf['Frequency'] >= 10]['Enzyme'])\n",
    "print(\"[INFO]: PHASE-3 DONE !\")\n",
    "\n",
    "transformationEnzymeGroups = mergedDf.groupby(['Transformation', 'Enzyme']).size().reset_index(name='Counts')\n",
    "enzymeSpecificTransformationsSet = set(\n",
    "    transformationEnzymeGroups.groupby('Transformation')\n",
    "    .filter(lambda x: len(x) == 1)['Transformation'])\n",
    "print(\"[INFO]: PHASE-4 DONE !\")"
   ]
  },
  {
   "cell_type": "markdown",
   "id": "6d8ecd82",
   "metadata": {},
   "source": [
    "### Calculating weights based **high frequency enzymes** / **Transformations** / **Biosystem [Human]**"
   ]
  },
  {
   "cell_type": "code",
   "execution_count": 6,
   "id": "fde647f9",
   "metadata": {
    "scrolled": true
   },
   "outputs": [
    {
     "name": "stdout",
     "output_type": "stream",
     "text": [
      "[INFO]: PHASE-5 DONE !\n",
      "[INFO]: PHASE-6 DONE !\n",
      "[INFO]: PHASE-7 DONE !\n",
      "CPU times: user 54.2 s, sys: 703 ms, total: 54.9 s\n",
      "Wall time: 54.9 s\n"
     ]
    }
   ],
   "source": [
    "%%time\n",
    "def calculateWeights(row):\n",
    "    rowBasedWeight = 10 * (row['Enzyme'] in highFrequencyEnzymes)\n",
    "    rowBasedWeight += 5 * (row['Transformation'] in enzymeSpecificTransformationsSet)\n",
    "    rowBasedWeight += 3 * (row['Biosystem'] == 'Human')\n",
    "    return rowBasedWeight\n",
    "mergedDf['Row_Based_Weight'] = mergedDf.apply(calculateWeights, axis=1)\n",
    "print(\"[INFO]: PHASE-5 DONE !\")\n",
    "\n",
    "def calculateChemicalStructureWeight(inchi, smiles):\n",
    "    weight = 0\n",
    "    molInchi = Chem.MolFromInchi(inchi)\n",
    "    molSmiles = Chem.MolFromSmiles(smiles)\n",
    "    if molInchi and molSmiles:\n",
    "        mwInchi = Descriptors.MolWt(molInchi)\n",
    "        mwSmiles = Descriptors.MolWt(molSmiles)\n",
    "        fpInchi = Chem.RDKFingerprint(molInchi)\n",
    "        fpSmiles = Chem.RDKFingerprint(molSmiles)\n",
    "        tanimotoSimilarity = DataStructs.FingerprintSimilarity(fpInchi, fpSmiles)\n",
    "        weight = mwInchi * tanimotoSimilarity + mwSmiles\n",
    "    return weight\n",
    "print(\"[INFO]: PHASE-6 DONE !\")\n",
    "\n",
    "\n",
    "Q = defaultdict(int)\n",
    "N = 5 # at least have 5 pairs that catalyze with X enzyme\n",
    "\n",
    "# Updating Q Model (Dictionary) [Q: QUBO Model]\n",
    "def updateQ(row):\n",
    "    try:\n",
    "        enzymes = row['Enzyme'].split('; ')\n",
    "        target = row['Successor_CID']\n",
    "        predecessor = row['Predecessor_CID']\n",
    "        weight1 = row['Row_Based_Weight']\n",
    "        weight2 = calculateChemicalStructureWeight(row['InChI'], row['SMILES'])\n",
    "        totalWeight = weight1 + weight2\n",
    "        for enzyme in enzymes:\n",
    "            enzyme = enzyme.strip()\n",
    "            pair = f\"{enzyme}_{predecessor}_{target}\"\n",
    "            Q[(pair, pair)] += -totalWeight\n",
    "            for otherPredecessor, otherTarget in allPossiblePairs:\n",
    "                otherPair = f\"{enzyme}_{otherPredecessor}_{otherTarget}\"\n",
    "                Q[(pair, otherPair)] += 2 * N\n",
    "    except Exception as e:\n",
    "        print(f\"An error occurred finding in chemical informatics: {e}\")\n",
    "        print(f\"Skipping row: {row}\")\n",
    "mergedDf.apply(updateQ, axis=1)\n",
    "print(\"[INFO]: PHASE-7 DONE !\")"
   ]
  },
  {
   "cell_type": "markdown",
   "id": "7a2709e5",
   "metadata": {},
   "source": [
    "## Initializing Constrains + Adjacencies for Q model"
   ]
  },
  {
   "cell_type": "code",
   "execution_count": 7,
   "id": "b2ab2409",
   "metadata": {},
   "outputs": [
    {
     "name": "stdout",
     "output_type": "stream",
     "text": [
      "[INFO]: PHASE-8 DONE !\n",
      "[INFO]: PHASE-9 DONE !\n",
      "[INFO]: PHASE-10 DONE !\n"
     ]
    }
   ],
   "source": [
    "def updatePairConstraint(predecessor, target):\n",
    "    pairsForThisReaction = [\n",
    "        f\"{enzyme.strip()}_{predecessor}_{target}\"\n",
    "        for enzyme in allPossibleEnzymes\n",
    "    ]\n",
    "    for i, pair1 in enumerate(pairsForThisReaction):\n",
    "        for j, pair2 in enumerate(pairsForThisReaction):\n",
    "            if i != j:\n",
    "                Q[(pair1, pair2)] -= 2  # EXPERIMENTAL::Encourage at least one enzyme to catalyze each (predecessor, target)\n",
    "print(\"[INFO]: PHASE-8 DONE !\")\n",
    "\n",
    "for predecessor, target in allPossiblePairs:\n",
    "    updatePairConstraint(predecessor, target)\n",
    "pairToIndex = {pair: i for i, pair in enumerate(allPossiblePairs)}\n",
    "enzymeToIndex = {enzyme: j for j, enzyme in enumerate(allPossibleEnzymes)}\n",
    "adjacencyMatrix = np.zeros((len(allPossiblePairs), len(allPossibleEnzymes)))\n",
    "def updateAdjacencyMatrix(pair, i):\n",
    "    for enzyme, j in enzymeToIndex.items():\n",
    "        pairStr = f\"{enzyme.strip()}_{pair[0]}_{pair[1]}\"\n",
    "        if (pairStr, pairStr) in Q:\n",
    "            adjacencyMatrix[i, j] = 1            \n",
    "print(\"[INFO]: PHASE-9 DONE !\")\n",
    "\n",
    "for pair, i in pairToIndex.items():\n",
    "    updateAdjacencyMatrix(pair, i)\n",
    "def refineConstraints(adjacencyMatrix):\n",
    "    stronglyConnectedEnzymes = np.sum(adjacencyMatrix, axis=0) > 1\n",
    "    stronglyConnectedPairs = np.sum(adjacencyMatrix, axis=1) > 1    \n",
    "    for pair, i in pairToIndex.items():\n",
    "        for enzyme, j in enzymeToIndex.items():\n",
    "            pairStr = f\"{enzyme.strip()}_{pair[0]}_{pair[1]}\"\n",
    "            qVal = Q.get((pairStr, pairStr), 0)\n",
    "            if qVal:\n",
    "                if stronglyConnectedEnzymes[j]:\n",
    "                    Q[(pairStr, pairStr)] = qVal * 1.5  # Increase by 50%\n",
    "                if stronglyConnectedPairs[i]:\n",
    "                    Q[(pairStr, pairStr)] = qVal * 1.5  # Increase by 50%\n",
    "\n",
    "refineConstraints(adjacencyMatrix)\n",
    "print(\"[INFO]: PHASE-10 DONE !\")"
   ]
  },
  {
   "cell_type": "markdown",
   "id": "1742a7b7",
   "metadata": {},
   "source": [
    "# Initialize QUBO [BQM] using Dimod"
   ]
  },
  {
   "cell_type": "code",
   "execution_count": 8,
   "id": "0129561d",
   "metadata": {},
   "outputs": [
    {
     "name": "stdout",
     "output_type": "stream",
     "text": [
      "CPU times: user 2.71 s, sys: 7.85 ms, total: 2.72 s\n",
      "Wall time: 2.71 s\n"
     ]
    }
   ],
   "source": [
    "%%time\n",
    "bqm = BinaryQuadraticModel.from_qubo(Q)"
   ]
  },
  {
   "cell_type": "markdown",
   "id": "8fa1ef70",
   "metadata": {},
   "source": [
    "## Applying Constrains/Adjancencies to BQM"
   ]
  },
  {
   "cell_type": "code",
   "execution_count": 9,
   "id": "ad855979",
   "metadata": {},
   "outputs": [],
   "source": [
    "for i, (predecessor, target) in enumerate(allPossiblePairs):\n",
    "    for j, enzyme in enumerate(allPossibleEnzymes):\n",
    "        pairStr = f\"{enzyme.strip()}_{predecessor}_{target}\"\n",
    "        if adjacencyMatrix[i, j] == 1:\n",
    "            if (pairStr, pairStr) in Q:\n",
    "                bqm.set_linear(pairStr, Q[(pairStr, pairStr)])"
   ]
  },
  {
   "cell_type": "markdown",
   "id": "b353d296",
   "metadata": {},
   "source": [
    "## Compute using DIMOD [Simulated Annealing Sampler]"
   ]
  },
  {
   "cell_type": "code",
   "execution_count": 10,
   "id": "d0d6ec64",
   "metadata": {},
   "outputs": [
    {
     "name": "stdout",
     "output_type": "stream",
     "text": [
      "[DYNEX] SAMPLER INITIALISED\n",
      "NP solver version 2.1.1\n",
      "file: /home/y3ti/EnzymeTargetPrediction/tmp/13781962fe9bc5c03fcb2a1fa581c141.dnx\n",
      "job type: ML\n",
      "device: 0\n",
      "Max chips: 10000\n",
      "Test vector: Off\n",
      "alpha: 20\n",
      "beta: 20\n",
      "gamma: 1\n",
      "delta: 1\n",
      "epsilon: 1\n",
      "zeta: 1\n",
      "min stepsize 6e-08\n",
      "CN POW: Off\n",
      "formulation file loaded\n",
      "Device: NVIDIA RTX A2000\n",
      "Base memory required: 16017976 bytes\n",
      "Min memory required per DYNEX chip: 21412076 bytes\n",
      "Maximum DYNEX chips fitting in memory: 280\n",
      "chip_from - chip_to: 0 - 279\n",
      "chip: -1 New loc: 325991 at step: 2 backbone: \n",
      "chip: 176 New energy: 1.53771e+07 at step: 3 backbone: \n",
      "chip: 198 New energy: 1.52176e+07 at step: 12 backbone: \n",
      "chip: 198 New energy: 1.46773e+07 at step: 13 backbone: \n",
      "chip: 198 New energy: 1.42395e+07 at step: 14 backbone: \n",
      "chip: 235 New energy: 1.37804e+07 at step: 15 backbone: \n",
      "chip: 235 New energy: 1.3505e+07 at step: 16 backbone: \n",
      "chip: 198 New energy: 1.31705e+07 at step: 17 backbone: \n",
      "chip: 198 New energy: 1.26349e+07 at step: 18 backbone: \n",
      "chip: 131 New energy: 1.25224e+07 at step: 19 backbone: \n",
      "chip: 198 New energy: 1.22501e+07 at step: 20 backbone: \n",
      "chip: 235 New energy: 1.12513e+07 at step: 21 backbone: \n",
      "chip: 131 New energy: 1.08504e+07 at step: 22 backbone: \n",
      "chip: 273 New energy: 1.07511e+07 at step: 24 backbone: \n",
      "chip: 148 New energy: 1.02163e+07 at step: 25 backbone: \n",
      "chip: 59 New energy: 9.60936e+06 at step: 26 backbone: \n",
      "chip: 199 New energy: 9.14911e+06 at step: 27 backbone: \n",
      "chip: 178 New energy: 9.07554e+06 at step: 32 backbone: \n",
      "chip: 184 New energy: 9.06711e+06 at step: 97 backbone: \n",
      "chip: 184 New energy: 9.05814e+06 at step: 98 backbone: \n",
      "chip: 184 New energy: 9.04857e+06 at step: 120 backbone: \n",
      "chip: 184 New energy: 9.04841e+06 at step: 121 backbone: \n",
      "chip: 184 New energy: 9.00477e+06 at step: 122 backbone: \n",
      "chip: 184 New energy: 9.00376e+06 at step: 123 backbone: \n",
      "chip: 184 New energy: 8.98194e+06 at step: 125 backbone: \n",
      "chip: 184 New energy: 8.96293e+06 at step: 133 backbone: \n",
      "chip: 184 New energy: 8.94082e+06 at step: 134 backbone: \n",
      "chip: 200 New energy: 8.8714e+06 at step: 138 backbone: \n",
      "chip: 200 New energy: 8.86225e+06 at step: 139 backbone: \n",
      "chip: 138 New energy: 8.79884e+06 at step: 140 backbone: \n",
      "280 Dynex chips | integration_steps = 160 | Local minima = 325991* | Lowest energy = 8798840.00* | hashrate = 2233.08 | uptime: 20.06s\n",
      "chip: 57 New energy: 8770300.00 at step: 162 backbone: \n",
      "chip: 57 New energy: 8585399.00 at step: 164 backbone: \n",
      "chip: 57 New energy: 8567736.00 at step: 165 backbone: \n",
      "chip: 57 New energy: 8558579.00 at step: 166 backbone: \n",
      "chip: 57 New energy: 8558447.00 at step: 167 backbone: \n",
      "chip: 214 New energy: 8548009.00 at step: 199 backbone: \n",
      "chip: 139 New energy: 8330885.00 at step: 208 backbone: \n",
      "chip: 248 New energy: 8246816.00 at step: 278 backbone: \n",
      "chip: 248 New energy: 8109413.00 at step: 283 backbone: \n",
      "chip: 248 New energy: 8100915.00 at step: 293 backbone: \n",
      "chip: 248 New energy: 8030456.00 at step: 296 backbone: \n",
      "chip: 248 New energy: 8013450.00 at step: 303 backbone: \n",
      "280 Dynex chips | integration_steps = 316 | Local minima = 325991 | Lowest energy = 8013450.00* | hashrate = 2179.86 | uptime: 40.10s\n",
      "chip: 195 New energy: 7705810.00 at step: 333 backbone: \n",
      "chip: 195 New energy: 7696549.00 at step: 334 backbone: \n",
      "chip: 27 New energy: 7628486.00 at step: 419 backbone: \n",
      "chip: 27 New energy: 7606650.00 at step: 420 backbone: \n",
      "280 Dynex chips | integration_steps = 472 | Local minima = 325991 | Lowest energy = 7606650.00* | hashrate = 2179.10 | uptime: 60.15s\n",
      "chip: 27 New energy: 7603268.00 at step: 493 backbone: \n",
      "chip: 27 New energy: 7593931.00 at step: 501 backbone: \n",
      "chip: 27 New energy: 7584594.00 at step: 511 backbone: \n",
      "chip: 27 New energy: 7575289.00 at step: 513 backbone: \n",
      "chip: 27 New energy: 7571235.00 at step: 515 backbone: \n",
      "chip: 27 New energy: 7561930.00 at step: 518 backbone: \n",
      "chip: 31 New energy: 7493945.00 at step: 545 backbone: \n",
      "280 Dynex chips | integration_steps = 626 | Local minima = 325991 | Lowest energy = 7493945.00* | hashrate = 2147.09 | uptime: 80.23s\n",
      "chip: 107 New energy: 7489178.00 at step: 689 backbone: \n",
      "chip: 107 New energy: 7488971.00 at step: 692 backbone: \n",
      "chip: 107 New energy: 7488883.00 at step: 712 backbone: \n",
      "chip: 107 New energy: 7488488.00 at step: 718 backbone: \n",
      "280 Dynex chips | integration_steps = 779 | Local minima = 325991 | Lowest energy = 7488488.00* | hashrate = 2129.54 | uptime: 100.35s\n",
      "chip: 107 New energy: 7479716.00 at step: 856 backbone: \n",
      "chip: 107 New energy: 7470387.00 at step: 860 backbone: \n",
      "chip: 107 New energy: 7456944.00 at step: 861 backbone: \n",
      "chip: 107 New energy: 7447439.00 at step: 869 backbone: \n",
      "chip: 107 New energy: 7428701.00 at step: 870 backbone: \n",
      "chip: 107 New energy: 7419348.00 at step: 873 backbone: \n",
      "280 Dynex chips | integration_steps = 931 | Local minima = 325991 | Lowest energy = 7419348.00* | hashrate = 2120.58 | uptime: 120.42s\n",
      "Maximum number of steps 1000 reached\n",
      "Reporting state for energy 7419348.00 reached at step 0\n",
      "State written to file: /home/y3ti/EnzymeTargetPrediction/tmp/13781962fe9bc5c03fcb2a1fa581c141.dnx.280.1000.325991.7419348.000000\n",
      "╭────────────┬──────────┬─────────────────┬─────────────┬───────────┬───────────────────────────┬────────────┬─────────┬────────────────╮\n",
      "│   DYNEXJOB │   QUBITS │   QUANTUM GATES │   BLOCK FEE │ ELAPSED   │ WORKERS READ              │ CIRCUITS   │ STEPS   │ GROUND STATE   │\n",
      "├────────────┼──────────┼─────────────────┼─────────────┼───────────┼───────────────────────────┼────────────┼─────────┼────────────────┤\n",
      "│         -1 │    13988 │         1324255 │           0 │           │ *** WAITING FOR READS *** │            │         │                │\n",
      "╰────────────┴──────────┴─────────────────┴─────────────┴───────────┴───────────────────────────┴────────────┴─────────┴────────────────╯\n",
      "\n",
      "[DYNEX] FINISHED READ AFTER 0.48 SECONDS\n",
      "[DYNEX] SAMPLESET READY\n",
      "CPU times: user 6.25 s, sys: 1.07 s, total: 7.31 s\n",
      "Wall time: 2min 20s\n"
     ]
    }
   ],
   "source": [
    "%%time\n",
    "model = dynex.BQM(bqm);\n",
    "sampler = dynex.DynexSampler(model, mainnet=False, description='Enzyme Target Prediction', bnb=False)\n",
    "sampleset = sampler.sample(num_reads=10000, annealing_time = 1000, debugging=False);\n",
    "bestSol = sampleset.first.sample;"
   ]
  },
  {
   "cell_type": "code",
   "execution_count": 11,
   "id": "47562a7c-a068-4534-974e-a67fee86bf48",
   "metadata": {},
   "outputs": [],
   "source": [
    "#print('DYNEX RESULT:',bestSol)"
   ]
  },
  {
   "cell_type": "markdown",
   "id": "5b2e3a6f",
   "metadata": {},
   "source": [
    "# Loading Best Solution"
   ]
  },
  {
   "cell_type": "code",
   "execution_count": 12,
   "id": "bef5cea5",
   "metadata": {},
   "outputs": [],
   "source": [
    "optimalPairs = [pair for pair, value in bestSol.items() if value == 1]\n",
    "optimalTransformations = {}\n",
    "\n",
    "for pair in optimalPairs:\n",
    "    _, predecessor, target = pair.split('_')\n",
    "    predQuery = df1.loc[df1['PubChem_CID'] == int(predecessor), 'SMILES']\n",
    "    targetQuery = df1.loc[df1['PubChem_CID'] == float(target), 'SMILES']\n",
    "    predecessorSmiles = predQuery.iloc[0] if not predQuery.empty else 'Not Found'\n",
    "    targetSmiles = targetQuery.iloc[0] if not targetQuery.empty else 'Not Found'\n",
    "    optimalTransformations[predecessorSmiles] = targetSmiles\n",
    "\n",
    "    #print(f\"Optimal transformation: {predecessorSmiles} -> {targetSmiles}\")"
   ]
  },
  {
   "cell_type": "markdown",
   "id": "3e2c6156",
   "metadata": {},
   "source": [
    "## - Visualization"
   ]
  },
  {
   "cell_type": "code",
   "execution_count": 13,
   "id": "592bd665",
   "metadata": {},
   "outputs": [
    {
     "data": {
      "image/png": "[encoded data removed]",
      "text/plain": [
       "<Figure size 300x300 with 1 Axes>"
      ]
     },
     "metadata": {},
     "output_type": "display_data"
    },
    {
     "data": {
      "image/png": "[encoded data removed]",
      "text/plain": [
       "<Figure size 300x300 with 1 Axes>"
      ]
     },
     "metadata": {},
     "output_type": "display_data"
    }
   ],
   "source": [
    "def Visualize(predecessorSmiles):\n",
    "    targetSmiles = optimalTransformations.get(predecessorSmiles, \"Not found\")\n",
    "    if targetSmiles == \"Not found\":\n",
    "        print(\"Predecessor SMILES not found in the optimal transformations.\")\n",
    "        return\n",
    "    # Drawing predecessor molecule\n",
    "    predMol = Chem.MolFromSmiles(predecessorSmiles)\n",
    "    predImg = Draw.MolToMPL(predMol, size=(300, 300), kekulize=True)\n",
    "    plt.title(\"Predecessor Molecule\")\n",
    "    plt.axis(\"off\")\n",
    "    plt.show()\n",
    "    \n",
    "    # Drawing target molecule\n",
    "    targetMol = Chem.MolFromSmiles(targetSmiles)\n",
    "    targetImg = Draw.MolToMPL(targetMol, size=(300, 300), kekulize=True)\n",
    "    plt.title(\"Predicted Target Molecule\")\n",
    "    plt.axis(\"off\")\n",
    "    plt.show()\n",
    "\n",
    "predecessorSmiles = \"C[C@]12CCC(=O)C=C1CC[C@H]1[C@@H]3CC[C@@H]([C@@]3(C)CC[C@H]21)O\" # EXAMPLE \n",
    "Visualize(predecessorSmiles)"
   ]
  },
  {
   "cell_type": "code",
   "execution_count": null,
   "id": "21e8d144",
   "metadata": {},
   "outputs": [],
   "source": []
  }
 ],
 "metadata": {
  "kernelspec": {
   "display_name": "Python 3 (ipykernel)",
   "language": "python",
   "name": "python3"
  },
  "language_info": {
   "codemirror_mode": {
    "name": "ipython",
    "version": 3
   },
   "file_extension": ".py",
   "mimetype": "text/x-python",
   "name": "python",
   "nbconvert_exporter": "python",
   "pygments_lexer": "ipython3",
   "version": "3.10.12"
  }
 },
 "nbformat": 4,
 "nbformat_minor": 5
}
