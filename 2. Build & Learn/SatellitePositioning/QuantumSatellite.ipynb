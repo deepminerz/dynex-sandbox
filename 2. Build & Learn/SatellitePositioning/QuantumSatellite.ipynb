{
 "cells": [
  {
   "cell_type": "markdown",
   "id": "ce1b6407-06b9-43c7-8447-c3ab0233072a",
   "metadata": {},
   "source": [
    "# Quantum Satellite Placement"
   ]
  },
  {
   "cell_type": "code",
   "execution_count": null,
   "id": "baa1cc04-1b67-498c-b804-f78491204ce8",
   "metadata": {},
   "outputs": [],
   "source": [
    "import itertools\n",
    "import json\n",
    "import math\n",
    "import sys\n",
    "import matplotlib.pyplot as plt\n",
    "import dimod\n",
    "import dynex\n",
    "import matplotlib.pyplot as plt\n",
    "from matplotlib.offsetbox import OffsetImage, AnnotationBbox"
   ]
  },
  {
   "cell_type": "markdown",
   "id": "7f7ecbbd-5408-4bed-8133-c409c5141cc8",
   "metadata": {},
   "source": [
    "Suppose you have a set of N satellites and k targets on Earth that you want to observe. Each of your satellites has varying capabilities for Earth observation; in particular, the amount of ground that they can observe for a set amount of time is different. Since there are k targets, you would like to have k constellations to monitor said targets. How do you group your satellites into k constellations such that the coverage of each constellation is maximized? This is what's being computed in the demo"
   ]
  },
  {
   "cell_type": "markdown",
   "id": "bd69d7cc-8197-4ae6-bc1b-87942fbd93ba",
   "metadata": {},
   "source": [
    "## Helper functions"
   ]
  },
  {
   "cell_type": "code",
   "execution_count": null,
   "id": "18737945-9d32-494c-b1c7-3f7bf55157c4",
   "metadata": {},
   "outputs": [],
   "source": [
    "def calculate_score(constellation, data):\n",
    "    \"\"\" Function to calculate constellation score.\"\"\"\n",
    "\n",
    "    score = 1\n",
    "    for v in constellation:\n",
    "        score *= (1 - data['coverage'][str(v)])\n",
    "    score = 1 - score\n",
    "    return score"
   ]
  },
  {
   "cell_type": "code",
   "execution_count": null,
   "id": "fec7c374-1dd7-446f-a87a-6caa62d76abe",
   "metadata": {},
   "outputs": [],
   "source": [
    "def build_bqm(data, constellation_size):\n",
    "    \"\"\" Build the bqm for the problem.\"\"\"\n",
    "\n",
    "    # don't consider constellations with average score less than score_threshold\n",
    "    score_threshold = .4\n",
    "\n",
    "    bqm = dimod.BinaryQuadraticModel.empty(dimod.BINARY)\n",
    "\n",
    "    # first we want to favor combinations with a high score\n",
    "    for constellation in itertools.combinations(range(data['num_satellites']), constellation_size):\n",
    "        # the score is the probability of at least one satellite in the constelation having line of sight over the target at any one time.\n",
    "        score = calculate_score(constellation, data)\n",
    "\n",
    "        # to make it smaller, throw out the combinations with a score below\n",
    "        # a set threshold\n",
    "        if score < score_threshold:\n",
    "            continue\n",
    "\n",
    "        # we subtract the score because we want to minimize the energy\n",
    "        bqm.add_variable(frozenset(constellation), -score)\n",
    "\n",
    "    # next we want to penalize pairs that share a satellite. We choose 2 because\n",
    "    # because we don't want it to be advantageous to pick both in the case that\n",
    "    # they both have 100% coverage\n",
    "    for c0, c1 in itertools.combinations(bqm.variables, 2):\n",
    "        if c0.isdisjoint(c1):\n",
    "            continue\n",
    "        bqm.add_interaction(c0, c1, 2)\n",
    "\n",
    "    # finally we wish to choose num_constellations variables. We pick strength of 1\n",
    "    # because we don't want it to be advantageous to violate the constraint by\n",
    "    # picking more variables\n",
    "    bqm.update(dimod.generators.combinations(bqm.variables, data['num_constellations'], strength=1))\n",
    "\n",
    "    return bqm"
   ]
  },
  {
   "cell_type": "code",
   "execution_count": null,
   "id": "200d7b1f-a760-4c80-9186-42bd005784a1",
   "metadata": {},
   "outputs": [],
   "source": [
    "def getImage(path, zoom=1):\n",
    "    return OffsetImage(plt.imread(path), zoom=zoom)\n",
    "\n",
    "def viz(constellations, data):\n",
    "    \"\"\" Visualize the solution\"\"\"\n",
    "    \n",
    "    angle = 2*math.pi / data[\"num_satellites\"]\n",
    "    plt.figure(figsize=(10,6))\n",
    "    img = plt.imread(\"satellite-data/earth.jpg\")\n",
    "    \n",
    "    fig = plt.figure()\n",
    "    fig.patch.set_facecolor('xkcd:black')\n",
    "    \n",
    "    plt.title('Satellite Constellations\\n'+str(data['num_satellites'])+' satellites, '+str(data['num_constellations'])+' targets', color='white')\n",
    "    plt.imshow(img, zorder=0, extent=[-1.5, 1.5, -1, 1])\n",
    "    \n",
    "    s = 0\n",
    "    for c in constellations:\n",
    "        x = []\n",
    "        y = []\n",
    "        label = []\n",
    "        for satellite in c:\n",
    "            coverage = 1 - data[\"coverage\"][str(satellite)]\n",
    "            label.append(satellite)\n",
    "            x.append(coverage*math.cos(s*angle))\n",
    "            y.append(coverage*math.sin(s*angle)+0.3)\n",
    "            s += 1\n",
    "    \n",
    "        x.append(x[0])\n",
    "        y.append(y[0])\n",
    "        label.append(label[0])\n",
    "        plt.plot(x, y, zorder=1, marker = 'o', markersize=10, color='white')\n",
    "    plt.tight_layout()\n",
    "    plt.axis('off')\n",
    "    plt.show()"
   ]
  },
  {
   "cell_type": "markdown",
   "id": "ac2f2d64-2df7-46f2-b559-1fe6281ca298",
   "metadata": {},
   "source": [
    "## Quantum Solution"
   ]
  },
  {
   "cell_type": "code",
   "execution_count": null,
   "id": "b4ac3558-333f-473d-9049-e8752df9d449",
   "metadata": {},
   "outputs": [],
   "source": [
    "with open('satellite-data/small.json', 'r') as fp:\n",
    "    data = json.load(fp)"
   ]
  },
  {
   "cell_type": "code",
   "execution_count": null,
   "id": "3bd2addc-9e8b-4e1a-a231-ef61bc226a44",
   "metadata": {},
   "outputs": [],
   "source": [
    "print('Number of satellites:',data['num_satellites']);\n",
    "print('Number of targets on earth to observe:',data['num_constellations']);"
   ]
  },
  {
   "cell_type": "code",
   "execution_count": null,
   "id": "abbee7c1-cd57-4626-9e44-cefa768bc952",
   "metadata": {},
   "outputs": [],
   "source": [
    "# each of the x satellites (labelled 0..n-1) has a coverage score. This could be\n",
    "# calculated as the percentage of time that the Earth region is in range of the\n",
    "# satellite\n",
    "\n",
    "constellation_size = data['num_satellites'] // data['num_constellations']\n",
    "\n",
    "bqm = build_bqm(data, constellation_size)"
   ]
  },
  {
   "cell_type": "code",
   "execution_count": null,
   "id": "a4dc2c2e-032a-48e6-9d2a-3990452f793c",
   "metadata": {},
   "outputs": [],
   "source": [
    "sampleset = dynex.sample(bqm, mainnet=False, num_reads=10000, annealing_time=1000, description='Satellite Positioning');\n",
    "print(sampleset)"
   ]
  },
  {
   "cell_type": "code",
   "execution_count": null,
   "id": "81752d4b-7cb7-4df5-a0fb-a097733e934a",
   "metadata": {},
   "outputs": [],
   "source": [
    "constellations = [constellation\n",
    "                for constellation, chosen in sampleset.first.sample.items()\n",
    "                if chosen]\n",
    "\n",
    "tot = 0\n",
    "for constellation in constellations:\n",
    "    score = calculate_score(constellation, data)\n",
    "    print(\"Constellation: \" + str(constellation) + \", Score: \" + str(score))\n",
    "    tot += score\n",
    "print(\"Total Score: \" + str(tot))\n",
    "print(\"Normalized Score (tot / # constellations): \" + str((tot / data['num_constellations'])))\n",
    "\n",
    "viz(constellations, data)"
   ]
  },
  {
   "cell_type": "code",
   "execution_count": null,
   "id": "05f06716-b975-443c-93ed-da708f52b954",
   "metadata": {},
   "outputs": [],
   "source": []
  }
 ],
 "metadata": {
  "kernelspec": {
   "display_name": "Python 3 (ipykernel)",
   "language": "python",
   "name": "python3"
  },
  "language_info": {
   "codemirror_mode": {
    "name": "ipython",
    "version": 3
   },
   "file_extension": ".py",
   "mimetype": "text/x-python",
   "name": "python",
   "nbconvert_exporter": "python",
   "pygments_lexer": "ipython3",
   "version": "3.10.12"
  }
 },
 "nbformat": 4,
 "nbformat_minor": 5
}
