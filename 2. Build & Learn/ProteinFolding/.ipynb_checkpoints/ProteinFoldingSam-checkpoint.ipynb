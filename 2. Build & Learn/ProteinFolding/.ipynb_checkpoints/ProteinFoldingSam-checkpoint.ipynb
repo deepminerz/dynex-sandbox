{
 "cells": [
  {
   "cell_type": "markdown",
   "metadata": {
    "editable": true,
    "slideshow": {
     "slide_type": ""
    },
    "tags": []
   },
   "source": [
    "Classical Protein Folding"
   ]
  },
  {
   "cell_type": "code",
   "execution_count": 1,
   "metadata": {},
   "outputs": [],
   "source": [
    "import numpy as np \n",
    "import pandas as pd\n",
    "import time as time\n",
    "import matplotlib.pyplot as plt\n",
    "np.set_printoptions(threshold=np.inf)"
   ]
  },
  {
   "cell_type": "code",
   "execution_count": 2,
   "metadata": {},
   "outputs": [],
   "source": [
    "aminoAcid = 5 # Number of Amino Acid\n",
    "def RandDivision(aminoAcid):\n",
    "    hydrophobic = np.random.randint(1, aminoAcid)\n",
    "    polar = aminoAcid - hydrophobic\n",
    "    aminoacids = ['H'] * hydrophobic + ['P'] * polar\n",
    "    np.random.shuffle(aminoacids)\n",
    "    return hydrophobic, polar, aminoacids"
   ]
  },
  {
   "cell_type": "code",
   "execution_count": 3,
   "metadata": {},
   "outputs": [],
   "source": [
    "def DetermineDirection(preRow, preCol, curRow, curCol):\n",
    "    \"\"\"\n",
    "    Determines the cardinal direction of the current move in comparison to the previous move.\n",
    "    \"\"\"\n",
    "    cmv = (curRow - preRow, curCol - preCol)\n",
    "    vectors = {\n",
    "        'up': (-1, 0),\n",
    "        'down': (1, 0),\n",
    "        'left': (0, -1),\n",
    "        'right': (0, 1)\n",
    "    }\n",
    "    for direction, vector in vectors.items():\n",
    "        if cmv == vector:\n",
    "            return direction\n",
    "    return None"
   ]
  },
  {
   "cell_type": "code",
   "execution_count": 4,
   "metadata": {},
   "outputs": [],
   "source": [
    "def DeterministicNeighbors(lRow, lCol, relativeDirection):\n",
    "    \"\"\"\n",
    "    Determine neighbors based on a \"left, middle, right\" heuristic, always prioritizing left.\n",
    "    The 'relative_direction' parameter indicates the direction relative to the last move.\n",
    "    \"\"\"\n",
    "    if relativeDirection == 'down':\n",
    "        # Moving down: left is right on the grid, right is left on the grid\n",
    "        left = (lRow, lCol + 1)  # Right on the grid\n",
    "        middle = (lRow + 1, lCol)  # Down\n",
    "        right = (lRow, lCol - 1)  # Left on the grid\n",
    "    elif relativeDirection == 'up':\n",
    "        # Moving up: left is left on the grid, right is right on the grid\n",
    "        left = (lRow, lCol - 1)  # Left on the grid\n",
    "        middle = (lRow - 1, lCol)  # Up\n",
    "        right = (lRow, lCol + 1)  # Right on the grid\n",
    "    elif relativeDirection == 'left':\n",
    "        # Moving left: left is down on the grid, right is up on the grid\n",
    "        left = (lRow + 1, lCol)  # Down\n",
    "        middle = (lRow, lCol - 1)  # Left\n",
    "        right = (lRow - 1, lCol)  # Up\n",
    "    else:  # relative_direction == 'right'\n",
    "        # Moving right: left is up on the grid, right is down on the grid\n",
    "        left = (lRow - 1, lCol)  # Up\n",
    "        middle = (lRow, lCol + 1)  # Right\n",
    "        right = (lRow + 1, lCol)  # Down\n",
    "    neighbors = [left, middle, right]\n",
    "    return neighbors"
   ]
  },
  {
   "cell_type": "code",
   "execution_count": 5,
   "metadata": {},
   "outputs": [],
   "source": [
    "def PlaceAminoAcid(grid, aminoAcidC, aminoAcidO, btCount, lastAminoR=None, lastAminoC=None, btED=0, fenced=None, fenceLim=0, fences=0, acidsPlaced=0):\n",
    "    gSize = len(grid)\n",
    "    # Base case: if no amino acids left, return True\n",
    "    if not aminoAcidC:\n",
    "        return True, btCount\n",
    "    # For the first amino acid\n",
    "    if lastAminoR is None or lastAminoC is None:\n",
    "        firstAminoR = gSize // 2\n",
    "        firstAminoC = gSize // 2\n",
    "        aaType = aminoAcidC.pop(0)\n",
    "        grid[firstAminoR, firstAminoC] = aaType\n",
    "        aminoAcidO.append((aaType, (firstAminoR, firstAminoC)))\n",
    "        return PlaceAminoAcid(grid, aminoAcidC, aminoAcidO, btCount, firstAminoR, firstAminoC, btED, fenced, fenceLim, fences, acidsPlaced)\n",
    "    # Handling all other acids\n",
    "    neighbors = [\n",
    "        (lastAminoR - 1, lastAminoC),\n",
    "        (lastAminoR + 1, lastAminoC),\n",
    "        (lastAminoR, lastAminoC - 1),\n",
    "        (lastAminoR, lastAminoC + 1)\n",
    "    ]\n",
    "    valNeighbors = [(row, col) for row, col in neighbors if 0 <= row < gSize and 0 <= col < gSize and grid[row, col] == '']\n",
    "    np.random.shuffle(valNeighbors)\n",
    "    aaType = aminoAcidC.pop(0)\n",
    "    if len(valNeighbors) > 0:\n",
    "        grid[valNeighbors[0][0], valNeighbors[0][1]] = aaType\n",
    "        aminoAcidO.append((aaType, (valNeighbors[0][0], valNeighbors[0][1])))\n",
    "        acidsPlaced += 1  # Increment acid placement counter\n",
    "        return PlaceAminoAcid(grid, aminoAcidC, aminoAcidO, btCount, valNeighbors[0][0], valNeighbors[0][1], 0, fenced, fenceLim, fences, acidsPlaced)  # Recursive call\n",
    "    else:\n",
    "        # Backtracking logic\n",
    "        btCount += 1\n",
    "        btED = 1\n",
    "        fenceLim += 1\n",
    "        aminoAcidC.insert(0, aaType)\n",
    "        grid[lastAminoR, lastAminoC] = ''\n",
    "        aminoAcidO.pop()\n",
    "        # Remove fences if the number of acids placed exceeds the number of fences\n",
    "        if acidsPlaced > fences:\n",
    "            # Remove all fences\n",
    "            for i in range(gSize):\n",
    "                for j in range(gSize):\n",
    "                    if grid[i, j] == 'F':\n",
    "                        grid[i, j] = ''\n",
    "            fences = 0  # Reset fence count\n",
    "        # Reset acid placement counter after backtracking\n",
    "        acidsPlaced = 0\n",
    "        if not aminoAcidO:  # If all acids have been removed, return failure\n",
    "            return False, btCount\n",
    "        # Repeat the process for the last acid in the order\n",
    "        _, (prevR, prevC) = aminoAcidO[-1]\n",
    "        return PlaceAminoAcid(grid, aminoAcidC, aminoAcidO, btCount, prevR, prevC, btED, fenced, fenceLim, fences, acidsPlaced)\n",
    "    # If no neighbors lead to a solution, return False\n",
    "    return False, btCount"
   ]
  },
  {
   "cell_type": "code",
   "execution_count": 6,
   "metadata": {},
   "outputs": [],
   "source": [
    "def InitGrid(aminoAcids, hydrophobics, polars):\n",
    "    aminoAcidC = aminoAcids.copy()\n",
    "    amniAcidCount = len(aminoAcids)\n",
    "    grid_size = amniAcidCount * 2\n",
    "    grid = np.full((grid_size, grid_size), fill_value='', dtype=object)\n",
    "    aminoAcidO = []\n",
    "    _, btCount = PlaceAminoAcid(grid, aminoAcidC, aminoAcidO, 0)\n",
    "    return grid, aminoAcidO, btCount"
   ]
  },
  {
   "cell_type": "code",
   "execution_count": 7,
   "metadata": {},
   "outputs": [],
   "source": [
    "def DetermineDirections(aminoAcidO):\n",
    "    \"\"\"\n",
    "    Determines the direction of each amino acid placement relative to the previous one.\n",
    "    Directions are 'left', 'straight', 'right', considering the orientation of the movement from the previous point.\n",
    "    \"\"\"\n",
    "    directions = ['start']  # First amino acid has no direction\n",
    "    # Define movement vectors for easier comparison\n",
    "    mv = {\n",
    "        'up': (-1, 0),\n",
    "        'down': (1, 0),\n",
    "        'left': (0, -1),\n",
    "        'right': (0, 1)\n",
    "    }\n",
    "    for i in range(1, len(aminoAcidO)):\n",
    "        # Get the current and previous amino acid's row and column\n",
    "        _, (cR, cC) = aminoAcidO[i]\n",
    "        _, (pR, pC) = aminoAcidO[i - 1]\n",
    "        # Determine the movement vector from the previous amino acid\n",
    "        mV = (cR - pR, cC - pC)\n",
    "        if i == 1:\n",
    "            # For the second amino acid, we don't have a previous direction, so we set it as straight\n",
    "            direction = 'straight'\n",
    "        else:\n",
    "            # Get the previous movement vector\n",
    "            _, (ppR, ppC) = aminoAcidO[i - 2]\n",
    "            pmV = (pR - ppR, pC - ppC)\n",
    "            # Determine direction based on previous movement vector\n",
    "            if pmV in [mv['up'], mv['down']]:\n",
    "                # Moving vertically\n",
    "                if mV == mv['left']:\n",
    "                    direction = 'left' if pmV == mv['up'] else 'right'\n",
    "                elif mV == mv['right']:\n",
    "                    direction = 'right' if pmV == mv['up'] else 'left'\n",
    "                else:\n",
    "                    direction = 'straight'\n",
    "            else:\n",
    "                # Moving horizontally\n",
    "                if mV == mv['up']:\n",
    "                    direction = 'left' if pmV == mv['right'] else 'right'\n",
    "                elif mV == mv['down']:\n",
    "                    direction = 'right' if pmV == mv['right'] else 'left'\n",
    "                else:\n",
    "                    direction = 'straight'\n",
    "        directions.append(direction)\n",
    "    return directions"
   ]
  },
  {
   "cell_type": "code",
   "execution_count": 8,
   "metadata": {},
   "outputs": [],
   "source": [
    "def TrimGrid(grid):\n",
    "    nonEmptyR = np.any(grid != '', axis=1)\n",
    "    nonEmptyC = np.any(grid != '', axis=0)\n",
    "    tGrid = grid[nonEmptyR][:, nonEmptyC]\n",
    "    return tGrid"
   ]
  },
  {
   "cell_type": "code",
   "execution_count": 9,
   "metadata": {},
   "outputs": [],
   "source": [
    "def Find_H_PairsGrid(grid):\n",
    "    adjacentH_AA = set()\n",
    "    for row in range(grid.shape[0]):\n",
    "        for col in range(grid.shape[1]):\n",
    "            cA = grid[row, col]\n",
    "            if cA == 'H':\n",
    "                # Check the neighboring positions (up, down, left, right) relative to the current position\n",
    "                neighbors = [\n",
    "                    (row - 1, col),\n",
    "                    (row + 1, col),\n",
    "                    (row, col - 1),\n",
    "                    (row, col + 1)\n",
    "                ]\n",
    "                for nRow, nColumn in neighbors:\n",
    "                    # Check if the neighbor is within the grid bounds\n",
    "                    if 0 <= nRow < grid.shape[0] and 0 <= nColumn < grid.shape[1]:\n",
    "                        nA = grid[nRow, nColumn]\n",
    "                        # Check if the neighbor is also 'H'\n",
    "                        if nA == 'H':\n",
    "                            # Use frozenset to ensure that the order of coordinates doesn't matter\n",
    "                            aminoAcidPair = frozenset({(row, col), (nRow, nColumn)})\n",
    "                            adjacentH_AA.add(aminoAcidPair)                      \n",
    "    return adjacentH_AA"
   ]
  },
  {
   "cell_type": "code",
   "execution_count": 10,
   "metadata": {},
   "outputs": [],
   "source": [
    "def Find_H_PairsOrder(aminoAcidO):\n",
    "    adjacentH_AA = set()  \n",
    "    for i in range(len(aminoAcidO) - 1):\n",
    "        cA, current_position = aminoAcidO[i]\n",
    "        nextA, nPosition = aminoAcidO[i + 1]\n",
    "        if cA == 'H' and nextA == 'H':\n",
    "            amino_acid_pair = frozenset({current_position, nPosition})\n",
    "            adjacentH_AA.add(amino_acid_pair)\n",
    "    return adjacentH_AA"
   ]
  },
  {
   "cell_type": "code",
   "execution_count": 11,
   "metadata": {},
   "outputs": [],
   "source": [
    "def Calculate_H_Bonds(grid, aminoAcidO):\n",
    "    gridHPairs = Find_H_PairsGrid(grid)\n",
    "    orderHPairs = Find_H_PairsOrder(aminoAcidO)\n",
    "    return gridHPairs - orderHPairs"
   ]
  },
  {
   "cell_type": "code",
   "execution_count": 12,
   "metadata": {},
   "outputs": [],
   "source": [
    "def GenerateSamples(N, aminoAcidCount):\n",
    "    samples = []\n",
    "    for _ in range(N):\n",
    "        hydrophobics, polars, aminoAcids = RandDivision(aminoAcidCount)\n",
    "        print(\"Amino Acid String:\", \"\".join(aminoAcids))\n",
    "        aminoAcidC = aminoAcids.copy()\n",
    "        initGrid, aminoAcidO, btCount = InitGrid(aminoAcidC, hydrophobics, polars)\n",
    "        tGrid = TrimGrid(initGrid)\n",
    "        proteinDim = tGrid.shape\n",
    "        aminoAcidGrid = np.count_nonzero(initGrid != '')\n",
    "        aminoAcidDirections =  DetermineDirections(aminoAcidO)\n",
    "        hbonds = len(Calculate_H_Bonds(initGrid, aminoAcidO))\n",
    "        hratio = hbonds / aminoAcidGrid\n",
    "        backtracks = btCount\n",
    "        samples.append((hydrophobics,\n",
    "                               polars,\n",
    "                               aminoAcids,\n",
    "                               initGrid,\n",
    "                               aminoAcidGrid,\n",
    "                               aminoAcidO,\n",
    "                               aminoAcidDirections,\n",
    "                               tGrid, \n",
    "                               proteinDim,\n",
    "                               hbonds,\n",
    "                               hratio,\n",
    "                               backtracks,\n",
    "                              ))\n",
    "    return samples,\"\".join(aminoAcids)\n",
    "\n",
    "\n",
    "def Visualize(aminoAcidO):\n",
    "    _, ax = plt.subplots(figsize=(12, 12))\n",
    "    ax.set_aspect('equal')\n",
    "    color_map = {'H': 'purple', 'P': 'grey', '': 'white'}\n",
    "    size_map = {'H': 150, 'P': 150, '': 0}  \n",
    "    arrow_properties = dict(facecolor='black', edgecolor='red', width=0.07, head_width=0.5, head_length=0.2, lw=0.2)\n",
    "    positions = np.array([(pos[1], pos[0]) for _, pos in aminoAcidO])  # Reversing coordinates for correct plotting\n",
    "    if len(positions) > 1:  \n",
    "        for i in range(1, len(positions)):\n",
    "            ax.arrow(positions[i-1][0], -positions[i-1][1], positions[i][0] - positions[i-1][0], -(positions[i][1] - positions[i-1][1]),\n",
    "                     **arrow_properties, length_includes_head=True, zorder=3)\n",
    "    for type_pos in aminoAcidO:\n",
    "        aa_type, (aa_row, aa_col) = type_pos\n",
    "        ax.scatter(aa_col, -aa_row, s=size_map[aa_type], c=color_map[aa_type], zorder=2)\n",
    "        ax.text(aa_col, -aa_row, aa_type, color='white', ha='center', va='center', fontsize=12, zorder=3)\n",
    "    if len(positions) > 0:\n",
    "        x_min, x_max = positions[:, 0].min(), positions[:, 0].max()\n",
    "        y_min, y_max = positions[:, 1].min(), positions[:, 1].max()\n",
    "        ax.set_xlim(x_min - 5, x_max + 5)\n",
    "        ax.set_ylim(-y_max - 5, -y_min + 5)\n",
    "    ax.axis('off')   \n",
    "    plt.show()"
   ]
  },
  {
   "cell_type": "code",
   "execution_count": 13,
   "metadata": {},
   "outputs": [
    {
     "name": "stdout",
     "output_type": "stream",
     "text": [
      "Amino Acid String: PPHPP\n",
      "created and processed 1 samples for amino acid length of 5 using Dual Intel Xeon E5-2640 v3 @ 2.60GHz: 0.00 seconds\n"
     ]
    },
    {
     "data": {
      "image/png": "[encoded data removed]",
      "text/plain": [
       "<Figure size 1200x1200 with 1 Axes>"
      ]
     },
     "metadata": {},
     "output_type": "display_data"
    },
    {
     "data": {
      "text/plain": [
       "[('P', (5, 5)), ('P', (5, 4)), ('H', (5, 3)), ('P', (5, 2)), ('P', (6, 2))]"
      ]
     },
     "execution_count": 13,
     "metadata": {},
     "output_type": "execute_result"
    }
   ],
   "source": [
    "N = 1\n",
    "AACount = 5 # Amino Acid Count\n",
    "start_time = time.time()\n",
    "sample, aminoAcids = GenerateSamples(1, AACount)\n",
    "end_time = time.time()\n",
    "total_time = end_time - start_time\n",
    "print(f\"created and processed {N} samples for amino acid length of {AACount} using Dual Intel Xeon E5-2640 v3 @ 2.60GHz: {total_time:.2f} seconds\")\n",
    "Visualize(sample[0][5])\n",
    "sample[0][5]"
   ]
  },
  {
   "cell_type": "markdown",
   "metadata": {},
   "source": [
    "--------------------------------------------------------------"
   ]
  },
  {
   "cell_type": "markdown",
   "metadata": {},
   "source": [
    "Quantum Protein Folding"
   ]
  },
  {
   "cell_type": "code",
   "execution_count": 14,
   "metadata": {},
   "outputs": [],
   "source": [
    "import matplotlib.lines as mlines\n",
    "import dimod\n",
    "import matplotlib.pyplot as plt\n",
    "import dynex"
   ]
  },
  {
   "cell_type": "code",
   "execution_count": 15,
   "metadata": {},
   "outputs": [
    {
     "name": "stdout",
     "output_type": "stream",
     "text": [
      "[DYNEX] TEST: dimod BQM construction...\n",
      "[DYNEX] PASSED\n",
      "[DYNEX] TEST: Dynex Sampler object...\n",
      "[DYNEX] PASSED\n",
      "[DYNEX] TEST: submitting sample file...\n",
      "[DYNEX] PASSED\n",
      "[DYNEX] TEST: retrieving samples...\n",
      "[DYNEX] PASSED\n",
      "[DYNEX] TEST RESULT: ALL TESTS PASSED\n"
     ]
    }
   ],
   "source": [
    "dynex.test();"
   ]
  },
  {
   "cell_type": "code",
   "execution_count": 16,
   "metadata": {},
   "outputs": [
    {
     "name": "stdout",
     "output_type": "stream",
     "text": [
      "╭────────────┬──────────┬─────────────────┬─────────────┬───────────┬────────────────┬────────────┬─────────┬────────────────╮\n",
      "│   DYNEXJOB │   QUBITS │   QUANTUM GATES │   BLOCK FEE │   ELAPSED │   WORKERS READ │   CIRCUITS │   STEPS │   GROUND STATE │\n",
      "├────────────┼──────────┼─────────────────┼─────────────┼───────────┼────────────────┼────────────┼─────────┼────────────────┤\n",
      "│       7948 │       31 │             213 │        0.07 │      0.48 │              1 │        992 │     100 │      126000.00 │\n",
      "╰────────────┴──────────┴─────────────────┴─────────────┴───────────┴────────────────┴────────────┴─────────┴────────────────╯\n",
      "╭────────────┬─────────────────┬────────────┬───────┬───────────┬──────────────┬─────────────────────────────┬───────────┬──────────╮\n",
      "│     WORKER │         VERSION │   CIRCUITS │   LOC │    ENERGY │      RUNTIME │                 LAST UPDATE │     STEPS │   STATUS │\n",
      "├────────────┼─────────────────┼────────────┼───────┼───────────┼──────────────┼─────────────────────────────┼───────────┼──────────┤\n",
      "│ 5f78..aeb7 │ 2.3.5.OZM.130.L │    8906496 │     0 │      0.00 │ 5.732732375s │ 2024-05-07T12:28:22.548305Z │ 0 (0.00%) │  \u001b[1;31mSTOPPED\u001b[0m │\n",
      "├────────────┼─────────────────┼────────────┼───────┼───────────┼──────────────┼─────────────────────────────┼───────────┼──────────┤\n",
      "│ 945c..43d0 │ 2.3.5.OZM.128.W │        992 │     0 │      0.00 │ 6.948679169s │  2024-05-07T12:28:21.33236Z │ 0 (0.00%) │  \u001b[1;31mSTOPPED\u001b[0m │\n",
      "├────────────┼─────────────────┼────────────┼───────┼───────────┼──────────────┼─────────────────────────────┼───────────┼──────────┤\n",
      "│ 7b76..7bff │ 2.3.5.OZM.132.L │    8843968 │     0 │      0.00 │ 5.562446688s │ 2024-05-07T12:28:22.718593Z │ 0 (0.00%) │  \u001b[1;31mSTOPPED\u001b[0m │\n",
      "├────────────┼─────────────────┼────────────┼───────┼───────────┼──────────────┼─────────────────────────────┼───────────┼──────────┤\n",
      "│ e52e..11e4 │ 2.3.5.OZM.132.L │    6540960 │     0 │      0.00 │ 9.229132045s │ 2024-05-07T12:28:19.051908Z │ 0 (0.00%) │  \u001b[1;31mSTOPPED\u001b[0m │\n",
      "├────────────┼─────────────────┼────────────┼───────┼───────────┼──────────────┼─────────────────────────────┼───────────┼──────────┤\n",
      "│ fd22..2aac │ 2.3.5.OZM.127.L │        992 │    37 │ 126000.00 │ 358.084473ms │ 2024-05-07T12:28:27.922956Z │ 0 (0.00%) │  \u001b[1;31mSTOPPED\u001b[0m │\n",
      "├────────────┼─────────────────┼────────────┼───────┼───────────┼──────────────┼─────────────────────────────┼───────────┼──────────┤\n",
      "│ dcfd..7dbe │ 2.3.5.OZM.127.L │        992 │    39 │ 126000.00 │  6.72724103s │   2024-05-07T12:28:21.5538Z │ 0 (0.00%) │  \u001b[1;31mSTOPPED\u001b[0m │\n",
      "╰────────────┴─────────────────┴────────────┴───────┴───────────┴──────────────┴─────────────────────────────┴───────────┴──────────╯\n",
      "[DYNEX] FINISHED READ AFTER 48.09 SECONDS\n",
      "[DYNEX] SAMPLESET READY\n"
     ]
    },
    {
     "data": {
      "text/plain": [
       "{0: (2, 0), 1: (2, 1), 2: (1, 1), 3: (1, 2), 4: (0, 2)}"
      ]
     },
     "execution_count": 16,
     "metadata": {},
     "output_type": "execute_result"
    }
   ],
   "source": [
    "# Protein sequence and grid dimensions\n",
    "sequence = \"PPHPP\" # HP = 5\n",
    "\n",
    "N = len(sequence)\n",
    "L = (len(sequence) // 2) + 1  # Assuming a 5x5 grid for simplicity\n",
    "\n",
    "# Create binary variables for each bead at each grid point (checkerboard pattern)\n",
    "variables = {(i, j, k): f\"x_{i}_{j}_{k}\" for i in range(N) for j in range(L) for k in range(L)\n",
    "             if (j + k) % 2 == i % 2}  # Even/Odd site placement based on bead index\n",
    "\n",
    "# Define the interaction matrix for the HP model\n",
    "def interaction(h1, h2):\n",
    "    return -1 if h1 == 'H' and h2 == 'H' else 0\n",
    "\n",
    "# Initialize the QUBO dictionary\n",
    "Q = {}\n",
    "\n",
    "# Add HP energy terms\n",
    "for f in range(N):\n",
    "    for fp in range(f + 2, N):  # Ensure non-adjacent beads in sequence\n",
    "        if interaction(sequence[f], sequence[fp]) != 0:\n",
    "            for j in range(L):\n",
    "                for k in range(L):\n",
    "                    for jp in range(L):\n",
    "                        for kp in range(L):\n",
    "                            if abs(j - jp) + abs(k - kp) == 1:  # Neighbors on the grid\n",
    "                                if (j + k) % 2 == f % 2 and (jp + kp) % 2 == fp % 2:  # Correct sites\n",
    "                                    pair = (variables[f, j, k], variables[fp, jp, kp])\n",
    "                                    if pair in Q:\n",
    "                                        Q[pair] += interaction(sequence[f], sequence[fp])\n",
    "                                    else:\n",
    "                                        Q[pair] = interaction(sequence[f], sequence[fp])\n",
    "\n",
    "# Constraint to ensure each bead is placed at exactly one location\n",
    "for i in range(N):\n",
    "    for j in range(L):\n",
    "        for k in range(L):\n",
    "            if (j + k) % 2 == i % 2:\n",
    "                one_site = [variables[i, jp, kp] for jp in range(L) for kp in range(L) if (jp + kp) % 2 == i % 2 and (jp, kp) != (j, k)]\n",
    "                for var in one_site:\n",
    "                    Q[(variables[i, j, k], var)] = Q.get((variables[i, j, k], var), 0) + 2  # Quadratic penalty for being at multiple locations\n",
    "\n",
    "# Enhanced self-avoidance constraint\n",
    "for j in range(L):\n",
    "    for k in range(L):\n",
    "        beads = [variables[i, j, k] for i in range(N) if (i, j, k) in variables]\n",
    "        if len(beads) > 1:  # Only necessary if more than one bead could occupy this site\n",
    "            for b1 in range(len(beads)):\n",
    "                for b2 in range(b1 + 1, len(beads)):\n",
    "                    Q[(beads[b1], beads[b2])] = Q.get((beads[b1], beads[b2]), 0) + 10  # Significantly increased penalty for overlap\n",
    "\n",
    "# Add the connectivity constraint between consecutive beads with increased penalty\n",
    "for i in range(N - 1):\n",
    "    for j in range(L):\n",
    "        for k in range(L):\n",
    "            if (j + k) % 2 == i % 2:  # Even or odd site based on the bead index\n",
    "                possible_next_positions = [(jp, kp) for jp in range(L) for kp in range(L)\n",
    "                                           if abs(j - jp) + abs(k - kp) == 1 and (jp + kp) % 2 == (i + 1) % 2]\n",
    "                if possible_next_positions:  # Ensure there are possible positions\n",
    "                    next_bead_vars = [variables[i + 1, jp, kp] for jp, kp in possible_next_positions]\n",
    "                    # Apply a stronger penalty if not adjacent\n",
    "                    for next_var in next_bead_vars:\n",
    "                        Q[(variables[i, j, k], next_var)] = Q.get((variables[i, j, k], next_var), 0) - 3  # Negative for attraction\n",
    "\n",
    "\n",
    "\n",
    "# Create the Binary Quadratic Model\n",
    "bqm = dimod.BinaryQuadraticModel.from_qubo(Q)\n",
    "\n",
    "\n",
    "# ------------- Classical Simulated Annealing Sampler -------------\n",
    "#sampler = dimod.SimulatedAnnealingSampler()\n",
    "#sampleset = sampler.sample(bqm, num_reads=100)\n",
    "\n",
    "\n",
    "# ------------- Dynex -------------\n",
    "model = dynex.BQM(bqm)\n",
    "sampler = dynex.DynexSampler(model, mainnet=False, description='Quantum Protein Folding', bnb=False)\n",
    "sampleset = sampler.sample(num_reads=1000, annealing_time=100, debugging=False)\n",
    "\n",
    "\n",
    "\n",
    "lowest_energy_sample = sampleset.first.sample\n",
    "\n",
    "# Extract the positions of the beads from the variable names in the lowest energy sample\n",
    "positions = {}\n",
    "for variable_name, value in lowest_energy_sample.items():\n",
    "    if value == 1:\n",
    "        # The variable name format is \"x_i_j_k\", we need to extract i, j, k\n",
    "        parts = variable_name.split('_')\n",
    "        i = int(parts[1])\n",
    "        j = int(parts[2])\n",
    "        k = int(parts[3])\n",
    "        positions[i] = (j, k)\n",
    "\n",
    "positions"
   ]
  },
  {
   "cell_type": "code",
   "execution_count": 17,
   "metadata": {},
   "outputs": [
    {
     "data": {
      "image/png": "[encoded data removed]",
      "text/plain": [
       "<Figure size 700x700 with 1 Axes>"
      ]
     },
     "metadata": {},
     "output_type": "display_data"
    }
   ],
   "source": [
    "# Create a plot\n",
    "fig, ax = plt.subplots(figsize=(7, 7))\n",
    "ax.set_xlim(-0.5, 4.5)\n",
    "ax.set_ylim(-0.5, 4.5)\n",
    "ax.set_xticks(range(L+1))\n",
    "ax.set_yticks(range(L+1))\n",
    "ax.grid(True)\n",
    "\n",
    "# Define colors for hydrophobic (H) and polar (P) beads\n",
    "colors = {'H': 'blue', 'P': 'red'}\n",
    "\n",
    "# Plot each bead in the sequence and connect with lines\n",
    "for index in range(len(positions)):\n",
    "    j, k = positions[index]\n",
    "    color = colors[sequence[index]]\n",
    "    ax.plot(j, k, 'o', markersize=12, color=color)  # Plot points\n",
    "    ax.text(j, k, f'{index}', color='white', ha='center', va='center')  # Label points\n",
    "\n",
    "    # Draw lines between sequential beads\n",
    "    if index > 0:\n",
    "        prev_j, prev_k = positions[index - 1]\n",
    "        ax.plot([prev_j, j], [prev_k, k], color='black') \n",
    "hydrophobic_legend = mlines.Line2D([], [], color='blue', marker='o',\n",
    "                                   markersize=10, label='Hydrophobic (H)', linestyle='None')\n",
    "polar_legend = mlines.Line2D([], [], color='red', marker='o',\n",
    "                             markersize=10, label='Polar (P)', linestyle='None')\n",
    "ax.legend(handles=[hydrophobic_legend, polar_legend])\n",
    "ax.set_xlabel('Grid x-coordinate')\n",
    "ax.set_ylabel('Grid y-coordinate')\n",
    "ax.set_title('Quantum Protein Folding for HP = 5')\n",
    "plt.show()"
   ]
  },
  {
   "cell_type": "code",
   "execution_count": null,
   "metadata": {},
   "outputs": [],
   "source": []
  }
 ],
 "metadata": {
  "kernelspec": {
   "display_name": "Python 3 (ipykernel)",
   "language": "python",
   "name": "python3"
  },
  "language_info": {
   "codemirror_mode": {
    "name": "ipython",
    "version": 3
   },
   "file_extension": ".py",
   "mimetype": "text/x-python",
   "name": "python",
   "nbconvert_exporter": "python",
   "pygments_lexer": "ipython3",
   "version": "3.10.12"
  }
 },
 "nbformat": 4,
 "nbformat_minor": 4
}
