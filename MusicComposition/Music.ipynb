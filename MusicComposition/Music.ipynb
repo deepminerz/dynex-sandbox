{
 "cells": [
  {
   "cell_type": "markdown",
   "id": "inner-dodge",
   "metadata": {},
   "source": [
    "## Music Composition Using Quantum Annealing"
   ]
  },
  {
   "cell_type": "markdown",
   "id": "entertaining-cathedral",
   "metadata": {},
   "source": [
    "Original Code: Özlem Salehi (osalehi@iitis.pl)\n",
    "\n",
    "Adapted to run on Dynex by: Y3TI & Sam Rehmeh"
   ]
  },
  {
   "cell_type": "markdown",
   "id": "figured-airport",
   "metadata": {},
   "source": [
    "---"
   ]
  },
  {
   "cell_type": "markdown",
   "id": "quarterly-pillow",
   "metadata": {},
   "source": [
    "### Installation"
   ]
  },
  {
   "cell_type": "markdown",
   "id": "greenhouse-tuner",
   "metadata": {},
   "source": [
    "In order to run the codes, you need to install the following packages:\n",
    "- Ocean Software\n",
    "- pickle"
   ]
  },
  {
   "cell_type": "markdown",
   "id": "cathedral-vegetation",
   "metadata": {},
   "source": [
    "To install Ocean Software, you may use the command `pip install dwave-ocean-sdk`. You can visit [Ocean](https://docs.ocean.dwavesys.com/en/stable/overview/install.html) webpage for further information. \n",
    "\n",
    "After the installation, follow the guidelines in the Ocean webpage to configure your system. Depending on your country of residence, you may not be able to access D-Wave machines. Nevertheless, you can still run the codes using simulated annealer.\n",
    "\n",
    "We will use the [pickle](https://docs.python.org/3.8/library/pickle.html) module to save data. You can install it by the command `pip install pickle` or omit it if you don't want to save the outputs.\n"
   ]
  },
  {
   "cell_type": "markdown",
   "id": "optical-judge",
   "metadata": {},
   "source": [
    "### Imports"
   ]
  },
  {
   "cell_type": "markdown",
   "id": "pharmaceutical-lafayette",
   "metadata": {},
   "source": [
    "You need to import the following to run the codes. If you have made a successfull installation, you should be able to run the following cell without any error. "
   ]
  },
  {
   "cell_type": "code",
   "execution_count": 2,
   "id": "identical-virtue",
   "metadata": {},
   "outputs": [],
   "source": [
    "# D-Wave modules\n",
    "import dimod\n",
    "import neal\n",
    "from dwave.system.samplers.leap_hybrid_sampler import LeapHybridSampler\n",
    "from dwave.system import EmbeddingComposite, DWaveSampler\n",
    "import dwave_networkx as dnx \n",
    "import dynex\n",
    "# Pyqubo will be used formulate the models\n",
    "from pyqubo import Binary, Constraint, LogEncInteger\n",
    "\n",
    "# pickle will be used for saving data\n",
    "import pickle\n",
    "\n",
    "# This is a built in module which we will use in the header of the for loops.\n",
    "from itertools import product"
   ]
  },
  {
   "cell_type": "markdown",
   "id": "behavioral-freeware",
   "metadata": {},
   "source": [
    "### Helper functions "
   ]
  },
  {
   "cell_type": "markdown",
   "id": "bound-belief",
   "metadata": {},
   "source": [
    "We will list some functions that will be used in the rest of the notebook."
   ]
  },
  {
   "cell_type": "markdown",
   "id": "standing-education",
   "metadata": {},
   "source": [
    "<b>Storing results</b>\n",
    "\n",
    "The sampleset returned by D-Wave is converted in to a serializable object which is convenient for storing and pickle is used to store it."
   ]
  },
  {
   "cell_type": "code",
   "execution_count": 3,
   "id": "specified-netherlands",
   "metadata": {},
   "outputs": [],
   "source": [
    "def store_results(filename, sampleset):\n",
    "    \"\"\"Stores the sampleset obtained from D-Wave\n",
    "    \n",
    "    :param filename: name of the file \n",
    "    :type filename: string\n",
    "    :param sampleset: sampleset to be stored\n",
    "    :type sampleset: dimod.SampleSet\n",
    "    \"\"\"\n",
    "    sdf = sampleset.to_serializable()\n",
    "    with open(filename, 'wb') as handle:\n",
    "        pickle.dump(sdf, handle)"
   ]
  },
  {
   "cell_type": "markdown",
   "id": "detected-twelve",
   "metadata": {},
   "source": [
    "<b> Annealing experiment</b>\n",
    "\n",
    "This function is used to perform the annealing experiment. Annealing type is either 's', 'h' or 'q', representing simulated, hybrid and quantum respectively. The parameter `ns` which stands for number of sweeps is needed only for simulated annealing. `at` is the annealing time for quantum annealing and `cs` determines the chain strength. For hybrid annealing, no parameters are used. If any of the parameters are not provided, then their default values are used."
   ]
  },
  {
   "cell_type": "code",
   "execution_count": 4,
   "id": "hispanic-chicken",
   "metadata": {},
   "outputs": [],
   "source": [
    "def anneal(bqm, anneal_type, ns=1000, nr=1000, at=20, cs=1):\n",
    "    \"\"\"Runs an annealing experiment and returns the sampleset\n",
    "    \n",
    "    :param bqm: binary quadratic model to be sampled\n",
    "    :type bqm: BinaryQuadraticModel\n",
    "    :param type: type of the annealing (simulated, hybrid, quantum)\n",
    "    :type: string\n",
    "    :param ns: Number of sweeps\n",
    "    :type ns: int\n",
    "    :param nr: Number of samples\n",
    "    :type nr: int\n",
    "    :param at: Annealing time\n",
    "    :type at: int\n",
    "    :param cs: Chain strength \n",
    "    :type cs: float\n",
    "    :return: sampleset\n",
    "    :rtype: dimod.SampleSet\n",
    "    \"\"\"\n",
    "    if anneal_type == 's':\n",
    "        s = neal.SimulatedAnnealingSampler()\n",
    "        sampleset = s.sample(bqm, beta_range=(5, 100), num_sweeps=ns, num_reads=ns,\n",
    "                             beta_schedule_type='geometric')\n",
    "    elif anneal_type == 'h':\n",
    "        s = LeapHybridSampler()\n",
    "        sampleset = s.sample(bqm)\n",
    "    elif anneal_type == 'q':\n",
    "        s = EmbeddingComposite(DWaveSampler())\n",
    "        sampleset = s.sample(bqm, chain_strength = cs, annealing_time = at, num_reads=1000)\n",
    "\n",
    "    results, energies = [], []\n",
    "\n",
    "    for datum in sampleset.data(fields=[\"sample\", \"energy\"]):\n",
    "        energies.append(datum.energy)\n",
    "        results.append(datum[0])\n",
    "    return sampleset"
   ]
  },
  {
   "cell_type": "markdown",
   "id": "f5218cc4-93db-4a51-8152-8cae71c700cc",
   "metadata": {},
   "source": [
    "### DYNEX Experiment"
   ]
  },
  {
   "cell_type": "code",
   "execution_count": 24,
   "id": "08032384-f475-4f47-b8ee-ebe6a5e0d7ad",
   "metadata": {},
   "outputs": [],
   "source": [
    "def DYNEX(bqm, num_reads=10000, annealing_time=1000):\n",
    "    model = dynex.BQM(bqm)\n",
    "    sampler = dynex.DynexSampler(model, mainnet=False, description='Music Composition', bnb=False)\n",
    "    sampleset = sampler.sample(num_reads=100000, annealing_time = 1000, debugging=False)\n",
    "    solution = sampleset.first.sample\n",
    "    energy = sampleset.first.energy\n",
    "    return solution, energy"
   ]
  },
  {
   "cell_type": "markdown",
   "id": "renewable-longer",
   "metadata": {},
   "source": [
    "<b> Converting sample into a pitch sequence </b>\n",
    "\n",
    "The output we get from D-Wave is not a pitch sequence but a list of binary variables and their values. After getting this output, we need to convert it into a pitch sequence."
   ]
  },
  {
   "cell_type": "code",
   "execution_count": 25,
   "id": "elegant-kitchen",
   "metadata": {},
   "outputs": [],
   "source": [
    "def translate_sample(sample, P, n):\n",
    "    \"\"\"Converts a given sample into a pitch sequence\n",
    "     \n",
    "    :param sample: A dictionary representing a sample where keys are the variable names and values are either 0 or 1\n",
    "    :param type sample: dict\n",
    "    :param P: List of the pitches\n",
    "    :param type P: list\n",
    "    :param n: Number of notes in the sequence\n",
    "    :param type n: int\n",
    "    :return: sequence of pitches\n",
    "    :rtype: list\n",
    "    \"\"\"\n",
    "    seq = []\n",
    "    for i,p in product(range(1,n+1),P):\n",
    "        if sample[f\"x_{i}_{p}\"]==1:\n",
    "            seq.append(p)\n",
    "    return seq"
   ]
  },
  {
   "cell_type": "markdown",
   "id": "encouraging-absorption",
   "metadata": {},
   "source": [
    "<b> Converting sample into a chord sequence"
   ]
  },
  {
   "cell_type": "markdown",
   "id": "secure-primary",
   "metadata": {},
   "source": [
    "In case we would like to create a chord sequence, there will be three notes at each time point. The following function creates a chord sequence from the sample."
   ]
  },
  {
   "cell_type": "code",
   "execution_count": 26,
   "id": "noticed-narrative",
   "metadata": {},
   "outputs": [],
   "source": [
    "from itertools import product\n",
    "\n",
    "def translate_chord(sample,P,n):\n",
    "    \"\"\"Converts a given sample into a chord sequence\n",
    "     \n",
    "    :param sample: A dictionary representing a sample where keys are the variable names and values are either 0 or 1\n",
    "    :param type sample: dict\n",
    "    :param P: List of the pitches\n",
    "    :param type P: list\n",
    "    :param n: Number of notes in the sequence\n",
    "    :param type n: int\n",
    "    :return: sequence of chords\n",
    "    :rtype: list\n",
    "    \"\"\"\n",
    "    seq = {i:[] for i in range(1,n+1)}\n",
    "    for i,p in product(range(1,n+1),P):\n",
    "        if sample[f\"x_{i}_{p}\"]==1:\n",
    "            seq[i].append(p)\n",
    "    return seq"
   ]
  },
  {
   "cell_type": "markdown",
   "id": "experienced-conspiracy",
   "metadata": {},
   "source": [
    "<b> Checking if constraints are broken using pyqubo"
   ]
  },
  {
   "cell_type": "markdown",
   "id": "attached-cycling",
   "metadata": {},
   "source": [
    "pyqubo has a built-in method to check whether the constraints defined using the `Constraint` keyword are broken or not. (It does not detect if there are penalty values resulting from the terms directly added to the objective.)"
   ]
  },
  {
   "cell_type": "code",
   "execution_count": 27,
   "id": "modular-registrar",
   "metadata": {},
   "outputs": [],
   "source": [
    "def check_constraints(sample, model):    \n",
    "    \"\"\"Prints the violated constraints in a given sample\n",
    "     \n",
    "    :param sample: A dictionary representing a sample where keys are the variable names and values are either 0 or 1\n",
    "    :param type sample: dict\n",
    "    :param model: Model that is representing the qubo problem\n",
    "    :param type P: Pyqubo model\n",
    "    \"\"\"\n",
    "    dec = model.decode_sample(sample, vartype='BINARY')\n",
    "    print(dec.constraints(only_broken=True))"
   ]
  },
  {
   "cell_type": "markdown",
   "id": "legal-thermal",
   "metadata": {},
   "source": [
    "----"
   ]
  },
  {
   "cell_type": "markdown",
   "id": "indian-italic",
   "metadata": {},
   "source": [
    "### Example 1 (Page 13) - Basic model for melody generation"
   ]
  },
  {
   "cell_type": "markdown",
   "id": "laden-forum",
   "metadata": {},
   "source": [
    "<b> Creating the model"
   ]
  },
  {
   "cell_type": "markdown",
   "id": "allied-formation",
   "metadata": {},
   "source": [
    "We first create a list of pitches `P` and set `n`, which is the number of notes in the music piece to be generated. "
   ]
  },
  {
   "cell_type": "code",
   "execution_count": 141,
   "id": "intensive-paint",
   "metadata": {},
   "outputs": [],
   "source": [
    "P = ['C4', 'D4', 'E4','G4' ]\n",
    "n = 5"
   ]
  },
  {
   "cell_type": "markdown",
   "id": "central-adobe",
   "metadata": {},
   "source": [
    "Next we add the single note constraint, which is defined as \n",
    "$\n",
    "\\left ( 1- \\sum_{j \\in P} x_{i,j} \\right )^2\n",
    "$\n",
    "for each $i=1,\\dots,5$. (Eq. 18)\n",
    "\n",
    "We use pyqubo to formulate the model. \n",
    "\n",
    "- $H$ will represent our QUBO formulation.\n",
    "- Note that we have a for loop going through each $i$ and we add the constraint corresponding to $i$ to $H$.\n",
    "- `Binary(x)` keyword defines a binary variable with name `x`\n",
    "-  `sum(Binary(f\"x_{i}_{j}\") for j in P)` represents the sum $\\sum_{j \\in P} x_{i,j}$\n",
    "- `Constraint((1-sum(Binary(f\"x_{i}_{p}\") for p in P))**2, f\"Single_note_{i}\")` adds the constraint $\n",
    "\\left ( 1- \\sum_{j \\in P} x_{i,j} \\right )^2\n",
    "$ to the model with the name `Single_note_{i}`\n"
   ]
  },
  {
   "cell_type": "code",
   "execution_count": 142,
   "id": "aquatic-platform",
   "metadata": {},
   "outputs": [],
   "source": [
    "H = 0\n",
    "for i in range(1,n+1):\n",
    "    H += Constraint((1-sum(Binary(f\"x_{i}_{j}\") for j in P))**2, f\"Single_note_{i}\")"
   ]
  },
  {
   "cell_type": "markdown",
   "id": "previous-repair",
   "metadata": {},
   "source": [
    "We can print `H` to see what it looks like."
   ]
  },
  {
   "cell_type": "code",
   "execution_count": 143,
   "id": "eleven-detector",
   "metadata": {},
   "outputs": [
    {
     "data": {
      "text/plain": [
       "(Constraint(((1.000000 + (-1.000000 * (Binary('x_5_G4') + Binary('x_5_E4') + Binary('x_5_D4') + 0.000000 + Binary('x_5_C4')))) * (1.000000 + (-1.000000 * (Binary('x_5_G4') + Binary('x_5_E4') + Binary('x_5_D4') + 0.000000 + Binary('x_5_C4'))))), 'Single_note_5') + Constraint(((1.000000 + (-1.000000 * (Binary('x_4_G4') + Binary('x_4_E4') + Binary('x_4_D4') + 0.000000 + Binary('x_4_C4')))) * (1.000000 + (-1.000000 * (Binary('x_4_G4') + Binary('x_4_E4') + Binary('x_4_D4') + 0.000000 + Binary('x_4_C4'))))), 'Single_note_4') + Constraint(((1.000000 + (-1.000000 * (Binary('x_3_G4') + Binary('x_3_E4') + Binary('x_3_D4') + 0.000000 + Binary('x_3_C4')))) * (1.000000 + (-1.000000 * (Binary('x_3_G4') + Binary('x_3_E4') + Binary('x_3_D4') + 0.000000 + Binary('x_3_C4'))))), 'Single_note_3') + Constraint(((1.000000 + (-1.000000 * (Binary('x_2_G4') + Binary('x_2_E4') + Binary('x_2_D4') + 0.000000 + Binary('x_2_C4')))) * (1.000000 + (-1.000000 * (Binary('x_2_G4') + Binary('x_2_E4') + Binary('x_2_D4') + 0.000000 + Binary('x_2_C4'))))), 'Single_note_2') + 0.000000 + Constraint(((1.000000 + (-1.000000 * (Binary('x_1_G4') + Binary('x_1_E4') + Binary('x_1_D4') + 0.000000 + Binary('x_1_C4')))) * (1.000000 + (-1.000000 * (Binary('x_1_G4') + Binary('x_1_E4') + Binary('x_1_D4') + 0.000000 + Binary('x_1_C4'))))), 'Single_note_1'))"
      ]
     },
     "execution_count": 143,
     "metadata": {},
     "output_type": "execute_result"
    }
   ],
   "source": [
    "H"
   ]
  },
  {
   "cell_type": "markdown",
   "id": "generic-tractor",
   "metadata": {},
   "source": [
    "<b> Running the experiment"
   ]
  },
  {
   "cell_type": "markdown",
   "id": "exciting-syndrome",
   "metadata": {},
   "source": [
    "To run an annealing experiment using Ocean SDK, we need a BinaryQuadraticModel.\n",
    "\n",
    "First we use pyqubo's `compile` function to generate the `model` object, which is then converted into a QUBO using `to_qubo()` function of pyqubo. \n",
    "\n",
    "From `qubo` and `of` representing the QUBO model and the offset respectively, we create a BinaryQuadraticModel object of D-Wave."
   ]
  },
  {
   "cell_type": "code",
   "execution_count": 144,
   "id": "aquatic-closer",
   "metadata": {},
   "outputs": [],
   "source": [
    "model = H.compile()\n",
    "qubo, of = model.to_qubo()\n",
    "bqm = dimod.BinaryQuadraticModel.from_qubo(qubo,of)"
   ]
  },
  {
   "cell_type": "markdown",
   "id": "mediterranean-skiing",
   "metadata": {},
   "source": [
    "Let's print `bqm` as well."
   ]
  },
  {
   "cell_type": "code",
   "execution_count": 145,
   "id": "homeless-testing",
   "metadata": {},
   "outputs": [
    {
     "data": {
      "text/plain": [
       "BinaryQuadraticModel({'x_1_G4': -1.0, 'x_1_D4': -1.0, 'x_3_D4': -1.0, 'x_5_C4': -1.0, 'x_5_D4': -1.0, 'x_4_G4': -1.0, 'x_4_C4': -1.0, 'x_4_E4': -1.0, 'x_5_G4': -1.0, 'x_4_D4': -1.0, 'x_5_E4': -1.0, 'x_3_G4': -1.0, 'x_3_E4': -1.0, 'x_3_C4': -1.0, 'x_2_D4': -1.0, 'x_2_E4': -1.0, 'x_2_C4': -1.0, 'x_1_C4': -1.0, 'x_2_G4': -1.0, 'x_1_E4': -1.0}, {('x_1_D4', 'x_1_G4'): 2.0, ('x_5_D4', 'x_5_C4'): 2.0, ('x_4_C4', 'x_4_G4'): 2.0, ('x_4_E4', 'x_4_G4'): 2.0, ('x_4_E4', 'x_4_C4'): 2.0, ('x_5_G4', 'x_5_C4'): 2.0, ('x_5_G4', 'x_5_D4'): 2.0, ('x_4_D4', 'x_4_G4'): 2.0, ('x_4_D4', 'x_4_C4'): 2.0, ('x_4_D4', 'x_4_E4'): 2.0, ('x_5_E4', 'x_5_C4'): 2.0, ('x_5_E4', 'x_5_D4'): 2.0, ('x_5_E4', 'x_5_G4'): 2.0, ('x_3_G4', 'x_3_D4'): 2.0, ('x_3_E4', 'x_3_D4'): 2.0, ('x_3_E4', 'x_3_G4'): 2.0, ('x_3_C4', 'x_3_D4'): 2.0, ('x_3_C4', 'x_3_G4'): 2.0, ('x_3_C4', 'x_3_E4'): 2.0, ('x_2_E4', 'x_2_D4'): 2.0, ('x_2_C4', 'x_2_D4'): 2.0, ('x_2_C4', 'x_2_E4'): 2.0, ('x_1_C4', 'x_1_G4'): 2.0, ('x_1_C4', 'x_1_D4'): 2.0, ('x_2_G4', 'x_2_D4'): 2.0, ('x_2_G4', 'x_2_E4'): 2.0, ('x_2_G4', 'x_2_C4'): 2.0, ('x_1_E4', 'x_1_G4'): 2.0, ('x_1_E4', 'x_1_D4'): 2.0, ('x_1_E4', 'x_1_C4'): 2.0}, 5.0, 'BINARY')"
      ]
     },
     "execution_count": 145,
     "metadata": {},
     "output_type": "execute_result"
    }
   ],
   "source": [
    "bqm"
   ]
  },
  {
   "cell_type": "markdown",
   "id": "illegal-surgeon",
   "metadata": {},
   "source": [
    "The next step is to run the experiment. We use the `anneal` function we have previously written. In this example, we select quantum annealing by providing the parameter `q`. As we don't provide any additional parameters, default parameters will be used for annealing time and chain strength."
   ]
  },
  {
   "cell_type": "markdown",
   "id": "occupied-mount",
   "metadata": {},
   "source": [
    "<i>Note: If you did not configure D-Wave access or you can not configure it due to your country of residence, then you can use 's' keyword to use simulated annealer instead. "
   ]
  },
  {
   "cell_type": "markdown",
   "id": "cc37ab5f-82ea-41e8-8629-5959edcbd276",
   "metadata": {},
   "source": [
    "#### Let's quantum-compute it on DYNEX"
   ]
  },
  {
   "cell_type": "code",
   "execution_count": 146,
   "id": "proprietary-stake",
   "metadata": {},
   "outputs": [
    {
     "name": "stdout",
     "output_type": "stream",
     "text": [
      "[DYNEX] SAMPLER INITIALISED\n",
      "[DYNEX|TESTNET] *** WAITING FOR READS ***\n",
      "╭────────────┬──────────┬─────────────────┬─────────────┬───────────┬───────────────────────────┬────────────┬─────────┬────────────────╮\n",
      "│   DYNEXJOB │   QUBITS │   QUANTUM GATES │   BLOCK FEE │ ELAPSED   │ WORKERS READ              │ CIRCUITS   │ STEPS   │ GROUND STATE   │\n",
      "├────────────┼──────────┼─────────────────┼─────────────┼───────────┼───────────────────────────┼────────────┼─────────┼────────────────┤\n",
      "│         -1 │       28 │              58 │           0 │           │ *** WAITING FOR READS *** │            │         │                │\n",
      "╰────────────┴──────────┴─────────────────┴─────────────┴───────────┴───────────────────────────┴────────────┴─────────┴────────────────╯\n",
      "\n",
      "[DYNEX] FINISHED READ AFTER 0.31 SECONDS\n",
      "[DYNEX] SAMPLESET READY\n"
     ]
    }
   ],
   "source": [
    "sampleset, energy = DYNEX(bqm)"
   ]
  },
  {
   "cell_type": "markdown",
   "id": "prescribed-victorian",
   "metadata": {},
   "source": [
    "<b> Interpreting the results"
   ]
  },
  {
   "cell_type": "markdown",
   "id": "congressional-university",
   "metadata": {},
   "source": [
    "Let's see what samples look like. "
   ]
  },
  {
   "cell_type": "code",
   "execution_count": 147,
   "id": "small-preview",
   "metadata": {},
   "outputs": [
    {
     "name": "stdout",
     "output_type": "stream",
     "text": [
      "{'x_1_C4': 0, 'x_1_D4': 0, 'x_1_E4': 1, 'x_1_G4': 0, 'x_2_C4': 0, 'x_2_D4': 0, 'x_2_E4': 0, 'x_2_G4': 1, 'x_3_C4': 0, 'x_3_D4': 0, 'x_3_E4': 1, 'x_3_G4': 0, 'x_4_C4': 0, 'x_4_D4': 1, 'x_4_E4': 0, 'x_4_G4': 0, 'x_5_C4': 0, 'x_5_D4': 1, 'x_5_E4': 0, 'x_5_G4': 0} 0.0\n"
     ]
    }
   ],
   "source": [
    "print(sampleset, energy)"
   ]
  },
  {
   "cell_type": "markdown",
   "id": "photographic-sight",
   "metadata": {},
   "source": [
    "When you consider a line from the samples list, the list is the value of the binary variables, 0 indicates that the energy is 0, and 1 indicates that this specific sample is observed only once.\n",
    "`[0, 1, 0, 0, 0, 0, 0, 1, 0, 0, 0, 1, 1, 0, 0, 0, 0, 1, 0, 0], 0., 1)`"
   ]
  },
  {
   "cell_type": "markdown",
   "id": "sized-jackson",
   "metadata": {},
   "source": [
    "The order of the variables can be seen from the list of variables.\n",
    "\n",
    "`Variables(['x_1_C4', 'x_1_D4', 'x_1_E4', 'x_1_G4', 'x_2_C4', 'x_2_D4', 'x_2_E4', 'x_2_G4', 'x_3_C4', 'x_3_D4', 'x_3_E4', 'x_3_G4', 'x_4_C4', 'x_4_D4', 'x_4_E4', 'x_4_G4', 'x_5_C4', 'x_5_D4', 'x_5_E4', 'x_5_G4']`"
   ]
  },
  {
   "cell_type": "markdown",
   "id": "weighted-insurance",
   "metadata": {},
   "source": [
    "As the lowest energy sample has energy 0, we expect that no constraint is violated. We can check it also using pyqubo. The returned dictionary will contain the list of violated constraints, or {} in case no constraint is violated. "
   ]
  },
  {
   "cell_type": "code",
   "execution_count": 35,
   "id": "respective-climb",
   "metadata": {},
   "outputs": [
    {
     "name": "stdout",
     "output_type": "stream",
     "text": [
      "{}\n"
     ]
    }
   ],
   "source": [
    "check_constraints(sampleset, model) "
   ]
  },
  {
   "cell_type": "markdown",
   "id": "known-serial",
   "metadata": {},
   "source": [
    "If you want to store the results, you can run the following cell. "
   ]
  },
  {
   "cell_type": "code",
   "execution_count": 38,
   "id": "valued-indianapolis",
   "metadata": {},
   "outputs": [],
   "source": [
    "filename =\"experiment1\"\n",
    "solution = dimod.SampleSet.from_samples(sampleset, energy=energy, vartype=dimod.BINARY)\n",
    "store_results(filename, solution)"
   ]
  },
  {
   "cell_type": "markdown",
   "id": "ordered-stationery",
   "metadata": {},
   "source": [
    "---"
   ]
  },
  {
   "cell_type": "markdown",
   "id": "moral-french",
   "metadata": {},
   "source": [
    "### Example 2 (page 14) - Avoiding certain consecutive notes"
   ]
  },
  {
   "cell_type": "markdown",
   "id": "choice-petite",
   "metadata": {},
   "source": [
    "<b> Creating the model"
   ]
  },
  {
   "cell_type": "markdown",
   "id": "pregnant-respect",
   "metadata": {},
   "source": [
    "We use the same `P` and `n` as before."
   ]
  },
  {
   "cell_type": "code",
   "execution_count": 148,
   "id": "naval-maryland",
   "metadata": {},
   "outputs": [],
   "source": [
    "P = ['C4', 'D4', 'E4','G4' ]\n",
    "n = 5"
   ]
  },
  {
   "cell_type": "markdown",
   "id": "aware-extreme",
   "metadata": {},
   "source": [
    "First we define the single note constraint. (Eq. 18)"
   ]
  },
  {
   "cell_type": "code",
   "execution_count": 149,
   "id": "special-alcohol",
   "metadata": {},
   "outputs": [],
   "source": [
    "H = 0\n",
    "for i in range(1,n+1):\n",
    "    H += Constraint((1-sum(Binary(f\"x_{i}_{p}\") for p in P))**2, f\"Single_note_{i}\")"
   ]
  },
  {
   "cell_type": "markdown",
   "id": "naked-period",
   "metadata": {},
   "source": [
    "We want to enforce that G4 does not follow D4. We add the term ` Binary(f\"x_{i}_D4\")*Binary(f\"x_{i+1}_G4\")` directly to the objective for each $i$. Note that the penalty coefficient is 1 in this case. (Eq.20)"
   ]
  },
  {
   "cell_type": "code",
   "execution_count": 150,
   "id": "reduced-campbell",
   "metadata": {},
   "outputs": [],
   "source": [
    "for i in range(1,n+1):\n",
    "    H += Binary(f\"x_{i}_D4\")*Binary(f\"x_{i+1}_G4\")     "
   ]
  },
  {
   "cell_type": "markdown",
   "id": "monthly-thread",
   "metadata": {},
   "source": [
    "We will force that the same note does not appear more than twice in a row. (Eq. 22)\n",
    "\n",
    "$ x_{i,j} + x_{i+1,j} + x_{i+2,j} \\leq 2$\n",
    "\n",
    "As we have an inequality, we need to introduce a slack variable $s_{i,j}$. \n",
    "\n",
    "$ x_{i,j} + x_{i+1,j} + x_{i+2,j} +s_{i,j} = 2$\n",
    "\n",
    "The upper bound for the slack variable is 2, as all three binary variables can be equal to 0 simulatenously. Hence we need an integer variable $s$. We use `LogEncInteger(f\"s_{i}_{j}\",(0,2))` from pyqubo to create an integer variable named `s_i_j`, with the lower and upper bounds (0,2). \n",
    "\n",
    "Finally, we convert it to the following constraint add to our model.\n",
    "\n",
    "$ (x_{i,j} + x_{i+1,j} + x_{i+2,j} +s_{i,j} - 2)^2$\n",
    "\n",
    "Notice that the penalty value is set as 1."
   ]
  },
  {
   "cell_type": "code",
   "execution_count": 151,
   "id": "thorough-prison",
   "metadata": {},
   "outputs": [],
   "source": [
    "for i in range(1,n-1):\n",
    "    for j in P:\n",
    "        H += Constraint((Binary(f\"x_{i+2}_{j}\") + Binary(f\"x_{i}_{j}\") + Binary(f\"x_{i+1}_{j}\") + LogEncInteger(f\"s_{i}_{j}\",(0,2))-2)**2, f\"same_note_{i}_{j}\")"
   ]
  },
  {
   "cell_type": "markdown",
   "id": "nonprofit-filing",
   "metadata": {},
   "source": [
    "<b> Running the experiment"
   ]
  },
  {
   "cell_type": "code",
   "execution_count": 152,
   "id": "minimal-fountain",
   "metadata": {},
   "outputs": [],
   "source": [
    "model = H.compile()\n",
    "qubo, of = model.to_qubo()\n",
    "bqm = dimod.BinaryQuadraticModel.from_qubo(qubo,of)"
   ]
  },
  {
   "cell_type": "markdown",
   "id": "super-newton",
   "metadata": {},
   "source": [
    "We increase the chain strength to 1.5 this time."
   ]
  },
  {
   "cell_type": "code",
   "execution_count": 153,
   "id": "every-pricing",
   "metadata": {},
   "outputs": [
    {
     "name": "stdout",
     "output_type": "stream",
     "text": [
      "[DYNEX] SAMPLER INITIALISED\n",
      "[DYNEX|TESTNET] *** WAITING FOR READS ***\n",
      "╭────────────┬──────────┬─────────────────┬─────────────┬───────────┬───────────────────────────┬────────────┬─────────┬────────────────╮\n",
      "│   DYNEXJOB │   QUBITS │   QUANTUM GATES │   BLOCK FEE │ ELAPSED   │ WORKERS READ              │ CIRCUITS   │ STEPS   │ GROUND STATE   │\n",
      "├────────────┼──────────┼─────────────────┼─────────────┼───────────┼───────────────────────────┼────────────┼─────────┼────────────────┤\n",
      "│         -1 │       53 │             199 │           0 │           │ *** WAITING FOR READS *** │            │         │                │\n",
      "╰────────────┴──────────┴─────────────────┴─────────────┴───────────┴───────────────────────────┴────────────┴─────────┴────────────────╯\n",
      "\n",
      "[DYNEX] FINISHED READ AFTER 0.32 SECONDS\n",
      "[DYNEX] SAMPLESET READY\n"
     ]
    }
   ],
   "source": [
    "#sampleset = anneal(bqm, 's', cs=1.5)\n",
    "sampleset, energy = DYNEX(bqm)"
   ]
  },
  {
   "cell_type": "markdown",
   "id": "temporal-wheat",
   "metadata": {},
   "source": [
    "<b>Interpreting the results"
   ]
  },
  {
   "cell_type": "markdown",
   "id": "photographic-moment",
   "metadata": {},
   "source": [
    "Let's print the latest sample with the lowest energy."
   ]
  },
  {
   "cell_type": "code",
   "execution_count": 154,
   "id": "refined-london",
   "metadata": {},
   "outputs": [
    {
     "name": "stdout",
     "output_type": "stream",
     "text": [
      "{'s_1_C4[0]': 1, 's_1_C4[1]': 0, 's_1_D4[0]': 1, 's_1_D4[1]': 0, 's_1_E4[0]': 1, 's_1_E4[1]': 1, 's_1_G4[0]': 0, 's_1_G4[1]': 1, 's_2_C4[0]': 1, 's_2_C4[1]': 0, 's_2_D4[0]': 1, 's_2_D4[1]': 0, 's_2_E4[0]': 1, 's_2_E4[1]': 0, 's_2_G4[0]': 1, 's_2_G4[1]': 1, 's_3_C4[0]': 1, 's_3_C4[1]': 0, 's_3_D4[0]': 1, 's_3_D4[1]': 1, 's_3_E4[0]': 0, 's_3_E4[1]': 0, 's_3_G4[0]': 1, 's_3_G4[1]': 1, 'x_1_C4': 0, 'x_1_D4': 0, 'x_1_E4': 0, 'x_1_G4': 1, 'x_2_C4': 0, 'x_2_D4': 1, 'x_2_E4': 0, 'x_2_G4': 0, 'x_3_C4': 1, 'x_3_D4': 0, 'x_3_E4': 0, 'x_3_G4': 0, 'x_4_C4': 0, 'x_4_D4': 0, 'x_4_E4': 1, 'x_4_G4': 0, 'x_5_C4': 0, 'x_5_D4': 0, 'x_5_E4': 1, 'x_5_G4': 0, 'x_6_G4': 1} 0.0\n"
     ]
    }
   ],
   "source": [
    "print(sampleset, energy)"
   ]
  },
  {
   "cell_type": "code",
   "execution_count": 155,
   "id": "nervous-microphone",
   "metadata": {},
   "outputs": [],
   "source": [
    "filename = \"experiment2\"\n",
    "solution = dimod.SampleSet.from_samples(sampleset, energy=energy, vartype=dimod.BINARY)\n",
    "store_results(filename, solution)"
   ]
  },
  {
   "cell_type": "markdown",
   "id": "altered-vessel",
   "metadata": {},
   "source": [
    "---"
   ]
  },
  {
   "cell_type": "markdown",
   "id": "patient-citizen",
   "metadata": {},
   "source": [
    "### Example 3 (Page 14) - Semitones and avoiding augmented intervals"
   ]
  },
  {
   "cell_type": "markdown",
   "id": "trained-connecticut",
   "metadata": {},
   "source": [
    " <b> Creating the model"
   ]
  },
  {
   "cell_type": "markdown",
   "id": "latin-eugene",
   "metadata": {},
   "source": [
    "We select the subset of the chromatic scale as `P` and we will generate 20 notes."
   ]
  },
  {
   "cell_type": "code",
   "execution_count": 156,
   "id": "legislative-nothing",
   "metadata": {},
   "outputs": [],
   "source": [
    "P= [0,2,4,5,7,9,11,12]\n",
    "n = 20"
   ]
  },
  {
   "cell_type": "markdown",
   "id": "knowing-wesley",
   "metadata": {},
   "source": [
    "`A` is the list of unallowed intervals."
   ]
  },
  {
   "cell_type": "code",
   "execution_count": 157,
   "id": "suited-nevada",
   "metadata": {},
   "outputs": [],
   "source": [
    "A= [6,8,10,12]"
   ]
  },
  {
   "cell_type": "markdown",
   "id": "residential-algeria",
   "metadata": {},
   "source": [
    "This time, we will set some penalty values to be  different from 1."
   ]
  },
  {
   "cell_type": "code",
   "execution_count": 158,
   "id": "hydraulic-blood",
   "metadata": {},
   "outputs": [],
   "source": [
    "P1, P2, P3, P4 = 20,2,1,1"
   ]
  },
  {
   "cell_type": "markdown",
   "id": "liquid-occupation",
   "metadata": {},
   "source": [
    "We start with the single note constraint. (Eq.18)"
   ]
  },
  {
   "cell_type": "code",
   "execution_count": 159,
   "id": "apart-disease",
   "metadata": {},
   "outputs": [],
   "source": [
    "H = 0\n",
    "for i in range(1,n+1):\n",
    "    H += Constraint(P1*(1-sum(Binary(f\"x_{i}_{p}\") for p in P))**2, f\"Single_note_{i}\")"
   ]
  },
  {
   "cell_type": "markdown",
   "id": "preliminary-inspection",
   "metadata": {},
   "source": [
    "We include the rule about no more than two same note in a sequence. (Eq.22)"
   ]
  },
  {
   "cell_type": "code",
   "execution_count": 160,
   "id": "engaging-consensus",
   "metadata": {},
   "outputs": [],
   "source": [
    "for i in range(1,n-1):\n",
    "    for j in P:\n",
    "        H += Constraint(P2*(Binary(f\"x_{i+2}_{j}\") + Binary(f\"x_{i}_{j}\") + Binary(f\"x_{i+1}_{j}\") + LogEncInteger(f\"s_{i}_{j}\",(0,2))-2)**2, f\"same_note_{i}_{j}\")"
   ]
  },
  {
   "cell_type": "markdown",
   "id": "plain-certificate",
   "metadata": {},
   "source": [
    "We add penalty terms to the objective for the unallowed intervals, by adding the following term: $   x_{i,j}x_{i+1,j'}  $\n",
    "for all $i \\in [n], |j'-j| \\in A$. (Eq.24) \n",
    "\n"
   ]
  },
  {
   "cell_type": "code",
   "execution_count": 161,
   "id": "indian-mills",
   "metadata": {},
   "outputs": [],
   "source": [
    "for i in range(1,n):\n",
    "    for j, k in product(P,P):\n",
    "        if abs(j-k) in A:\n",
    "            H += P3*Binary(f\"x_{i}_{j}\")*(Binary(f\"x_{i+1}_{k}\"))"
   ]
  },
  {
   "cell_type": "markdown",
   "id": "pleased-poster",
   "metadata": {},
   "source": [
    "We add the rule about the first and the last notes by adding the following terms to the objective: $(1-x_{1,0}),~~(1-x_{n,0})$. (Eq.26)"
   ]
  },
  {
   "cell_type": "code",
   "execution_count": 162,
   "id": "going-feeling",
   "metadata": {},
   "outputs": [],
   "source": [
    "H += P4*(1-Binary(f\"x_1_0\")) + P4*(1-Binary(f\"x_20_0\"))   "
   ]
  },
  {
   "cell_type": "markdown",
   "id": "grateful-action",
   "metadata": {},
   "source": [
    "<b> Running the experiment"
   ]
  },
  {
   "cell_type": "code",
   "execution_count": 163,
   "id": "broke-metadata",
   "metadata": {},
   "outputs": [],
   "source": [
    "model = H.compile()\n",
    "qubo, of = model.to_qubo()\n",
    "bqm = dimod.BinaryQuadraticModel.from_qubo(qubo,of)"
   ]
  },
  {
   "cell_type": "markdown",
   "id": "sought-january",
   "metadata": {},
   "source": [
    "We will use Dynex Neuromorphic Computing but with higher number of reads"
   ]
  },
  {
   "cell_type": "code",
   "execution_count": 164,
   "id": "noticed-jewel",
   "metadata": {},
   "outputs": [
    {
     "name": "stdout",
     "output_type": "stream",
     "text": [
      "[DYNEX] SAMPLER INITIALISED\n",
      "[DYNEX|TESTNET] *** WAITING FOR READS ***\n",
      "╭────────────┬──────────┬─────────────────┬─────────────┬───────────┬───────────────────────────┬────────────┬─────────┬────────────────╮\n",
      "│   DYNEXJOB │   QUBITS │   QUANTUM GATES │   BLOCK FEE │ ELAPSED   │ WORKERS READ              │ CIRCUITS   │ STEPS   │ GROUND STATE   │\n",
      "├────────────┼──────────┼─────────────────┼─────────────┼───────────┼───────────────────────────┼────────────┼─────────┼────────────────┤\n",
      "│         -1 │      456 │            2472 │           0 │           │ *** WAITING FOR READS *** │            │         │                │\n",
      "╰────────────┴──────────┴─────────────────┴─────────────┴───────────┴───────────────────────────┴────────────┴─────────┴────────────────╯\n",
      "\n",
      "[DYNEX] FINISHED READ AFTER 0.30 SECONDS\n",
      "[DYNEX] SAMPLESET READY\n"
     ]
    }
   ],
   "source": [
    "#sampleset = anneal(bqm, 'h')\n",
    "sampleset, energy = DYNEX(bqm, num_reads=100000, annealing_time=1000)"
   ]
  },
  {
   "cell_type": "markdown",
   "id": "innocent-moldova",
   "metadata": {},
   "source": [
    "Dynex returns only a single solution. (lowest energy)"
   ]
  },
  {
   "cell_type": "code",
   "execution_count": 165,
   "id": "urban-device",
   "metadata": {},
   "outputs": [
    {
     "name": "stdout",
     "output_type": "stream",
     "text": [
      "{'s_10_0[0]': 1, 's_10_0[1]': 1, 's_10_11[0]': 0, 's_10_11[1]': 0, 's_10_12[0]': 1, 's_10_12[1]': 1, 's_10_2[0]': 1, 's_10_2[1]': 1, 's_10_4[0]': 1, 's_10_4[1]': 1, 's_10_5[0]': 1, 's_10_5[1]': 1, 's_10_7[0]': 0, 's_10_7[1]': 0, 's_10_9[0]': 1, 's_10_9[1]': 1, 's_11_0[0]': 1, 's_11_0[1]': 0, 's_11_11[0]': 1, 's_11_11[1]': 0, 's_11_12[0]': 1, 's_11_12[1]': 1, 's_11_2[0]': 1, 's_11_2[1]': 1, 's_11_4[0]': 1, 's_11_4[1]': 1, 's_11_5[0]': 1, 's_11_5[1]': 1, 's_11_7[0]': 0, 's_11_7[1]': 1, 's_11_9[0]': 1, 's_11_9[1]': 1, 's_12_0[0]': 0, 's_12_0[1]': 1, 's_12_11[0]': 1, 's_12_11[1]': 0, 's_12_12[0]': 1, 's_12_12[1]': 1, 's_12_2[0]': 1, 's_12_2[1]': 0, 's_12_4[0]': 1, 's_12_4[1]': 1, 's_12_5[0]': 1, 's_12_5[1]': 1, 's_12_7[0]': 1, 's_12_7[1]': 1, 's_12_9[0]': 1, 's_12_9[1]': 1, 's_13_0[0]': 0, 's_13_0[1]': 1, 's_13_11[0]': 1, 's_13_11[1]': 1, 's_13_12[0]': 1, 's_13_12[1]': 1, 's_13_2[0]': 1, 's_13_2[1]': 0, 's_13_4[0]': 1, 's_13_4[1]': 1, 's_13_5[0]': 1, 's_13_5[1]': 1, 's_13_7[0]': 1, 's_13_7[1]': 1, 's_13_9[0]': 0, 's_13_9[1]': 1, 's_14_0[0]': 1, 's_14_0[1]': 1, 's_14_11[0]': 1, 's_14_11[1]': 1, 's_14_12[0]': 1, 's_14_12[1]': 1, 's_14_2[0]': 0, 's_14_2[1]': 1, 's_14_4[0]': 1, 's_14_4[1]': 1, 's_14_5[0]': 1, 's_14_5[1]': 1, 's_14_7[0]': 1, 's_14_7[1]': 1, 's_14_9[0]': 1, 's_14_9[1]': 0, 's_15_0[0]': 1, 's_15_0[1]': 1, 's_15_11[0]': 1, 's_15_11[1]': 1, 's_15_12[0]': 1, 's_15_12[1]': 1, 's_15_2[0]': 1, 's_15_2[1]': 0, 's_15_4[0]': 1, 's_15_4[1]': 1, 's_15_5[0]': 1, 's_15_5[1]': 1, 's_15_7[0]': 1, 's_15_7[1]': 1, 's_15_9[0]': 1, 's_15_9[1]': 0, 's_16_0[0]': 0, 's_16_0[1]': 1, 's_16_11[0]': 1, 's_16_11[1]': 1, 's_16_12[0]': 1, 's_16_12[1]': 1, 's_16_2[0]': 0, 's_16_2[1]': 1, 's_16_4[0]': 1, 's_16_4[1]': 1, 's_16_5[0]': 1, 's_16_5[1]': 1, 's_16_7[0]': 1, 's_16_7[1]': 1, 's_16_9[0]': 1, 's_16_9[1]': 1, 's_17_0[0]': 1, 's_17_0[1]': 0, 's_17_11[0]': 1, 's_17_11[1]': 1, 's_17_12[0]': 1, 's_17_12[1]': 1, 's_17_2[0]': 0, 's_17_2[1]': 0, 's_17_4[0]': 1, 's_17_4[1]': 1, 's_17_5[0]': 1, 's_17_5[1]': 1, 's_17_7[0]': 1, 's_17_7[1]': 1, 's_17_9[0]': 1, 's_17_9[1]': 1, 's_18_0[0]': 1, 's_18_0[1]': 0, 's_18_11[0]': 1, 's_18_11[1]': 1, 's_18_12[0]': 1, 's_18_12[1]': 1, 's_18_2[0]': 0, 's_18_2[1]': 1, 's_18_4[0]': 1, 's_18_4[1]': 1, 's_18_5[0]': 1, 's_18_5[1]': 1, 's_18_7[0]': 1, 's_18_7[1]': 0, 's_18_9[0]': 1, 's_18_9[1]': 1, 's_1_0[0]': 0, 's_1_0[1]': 0, 's_1_11[0]': 1, 's_1_11[1]': 1, 's_1_12[0]': 1, 's_1_12[1]': 1, 's_1_2[0]': 1, 's_1_2[1]': 1, 's_1_4[0]': 1, 's_1_4[1]': 1, 's_1_5[0]': 1, 's_1_5[1]': 0, 's_1_7[0]': 0, 's_1_7[1]': 1, 's_1_9[0]': 1, 's_1_9[1]': 1, 's_2_0[0]': 1, 's_2_0[1]': 0, 's_2_11[0]': 1, 's_2_11[1]': 1, 's_2_12[0]': 1, 's_2_12[1]': 1, 's_2_2[0]': 0, 's_2_2[1]': 0, 's_2_4[0]': 1, 's_2_4[1]': 1, 's_2_5[0]': 1, 's_2_5[1]': 1, 's_2_7[0]': 0, 's_2_7[1]': 1, 's_2_9[0]': 1, 's_2_9[1]': 1, 's_3_0[0]': 1, 's_3_0[1]': 0, 's_3_11[0]': 1, 's_3_11[1]': 1, 's_3_12[0]': 0, 's_3_12[1]': 1, 's_3_2[0]': 0, 's_3_2[1]': 0, 's_3_4[0]': 1, 's_3_4[1]': 1, 's_3_5[0]': 1, 's_3_5[1]': 1, 's_3_7[0]': 1, 's_3_7[1]': 1, 's_3_9[0]': 1, 's_3_9[1]': 1, 's_4_0[0]': 1, 's_4_0[1]': 1, 's_4_11[0]': 1, 's_4_11[1]': 0, 's_4_12[0]': 1, 's_4_12[1]': 0, 's_4_2[0]': 1, 's_4_2[1]': 0, 's_4_4[0]': 1, 's_4_4[1]': 1, 's_4_5[0]': 1, 's_4_5[1]': 1, 's_4_7[0]': 1, 's_4_7[1]': 1, 's_4_9[0]': 1, 's_4_9[1]': 1, 's_5_0[0]': 1, 's_5_0[1]': 1, 's_5_11[0]': 0, 's_5_11[1]': 1, 's_5_12[0]': 0, 's_5_12[1]': 1, 's_5_2[0]': 1, 's_5_2[1]': 1, 's_5_4[0]': 1, 's_5_4[1]': 0, 's_5_5[0]': 1, 's_5_5[1]': 1, 's_5_7[0]': 1, 's_5_7[1]': 1, 's_5_9[0]': 1, 's_5_9[1]': 1, 's_6_0[0]': 1, 's_6_0[1]': 1, 's_6_11[0]': 1, 's_6_11[1]': 0, 's_6_12[0]': 1, 's_6_12[1]': 1, 's_6_2[0]': 1, 's_6_2[1]': 1, 's_6_4[0]': 0, 's_6_4[1]': 1, 's_6_5[0]': 1, 's_6_5[1]': 1, 's_6_7[0]': 1, 's_6_7[1]': 1, 's_6_9[0]': 0, 's_6_9[1]': 1, 's_7_0[0]': 1, 's_7_0[1]': 1, 's_7_11[0]': 1, 's_7_11[1]': 1, 's_7_12[0]': 1, 's_7_12[1]': 1, 's_7_2[0]': 1, 's_7_2[1]': 1, 's_7_4[0]': 1, 's_7_4[1]': 0, 's_7_5[0]': 1, 's_7_5[1]': 1, 's_7_7[0]': 1, 's_7_7[1]': 1, 's_7_9[0]': 1, 's_7_9[1]': 0, 's_8_0[0]': 1, 's_8_0[1]': 1, 's_8_11[0]': 1, 's_8_11[1]': 0, 's_8_12[0]': 1, 's_8_12[1]': 1, 's_8_2[0]': 1, 's_8_2[1]': 1, 's_8_4[0]': 0, 's_8_4[1]': 1, 's_8_5[0]': 1, 's_8_5[1]': 1, 's_8_7[0]': 1, 's_8_7[1]': 1, 's_8_9[0]': 1, 's_8_9[1]': 0, 's_9_0[0]': 1, 's_9_0[1]': 1, 's_9_11[0]': 1, 's_9_11[1]': 0, 's_9_12[0]': 1, 's_9_12[1]': 1, 's_9_2[0]': 1, 's_9_2[1]': 1, 's_9_4[0]': 0, 's_9_4[1]': 1, 's_9_5[0]': 1, 's_9_5[1]': 1, 's_9_7[0]': 1, 's_9_7[1]': 0, 's_9_9[0]': 1, 's_9_9[1]': 1, 'x_10_0': 0, 'x_10_11': 1, 'x_10_12': 0, 'x_10_2': 0, 'x_10_4': 0, 'x_10_5': 0, 'x_10_7': 0, 'x_10_9': 0, 'x_11_0': 0, 'x_11_11': 0, 'x_11_12': 0, 'x_11_2': 0, 'x_11_4': 0, 'x_11_5': 0, 'x_11_7': 1, 'x_11_9': 0, 'x_12_0': 0, 'x_12_11': 1, 'x_12_12': 0, 'x_12_2': 0, 'x_12_4': 0, 'x_12_5': 0, 'x_12_7': 0, 'x_12_9': 0, 'x_13_0': 1, 'x_13_11': 0, 'x_13_12': 0, 'x_13_2': 0, 'x_13_4': 0, 'x_13_5': 0, 'x_13_7': 0, 'x_13_9': 0, 'x_14_0': 0, 'x_14_11': 0, 'x_14_12': 0, 'x_14_2': 1, 'x_14_4': 0, 'x_14_5': 0, 'x_14_7': 0, 'x_14_9': 0, 'x_15_0': 0, 'x_15_11': 0, 'x_15_12': 0, 'x_15_2': 0, 'x_15_4': 0, 'x_15_5': 0, 'x_15_7': 0, 'x_15_9': 1, 'x_16_0': 1, 'x_16_11': 0, 'x_16_12': 0, 'x_16_2': 0, 'x_16_4': 0, 'x_16_5': 0, 'x_16_7': 0, 'x_16_9': 0, 'x_17_0': 0, 'x_17_11': 0, 'x_17_12': 0, 'x_17_2': 1, 'x_17_4': 0, 'x_17_5': 0, 'x_17_7': 0, 'x_17_9': 0, 'x_18_0': 1, 'x_18_11': 0, 'x_18_12': 0, 'x_18_2': 0, 'x_18_4': 0, 'x_18_5': 0, 'x_18_7': 0, 'x_18_9': 0, 'x_19_0': 0, 'x_19_11': 0, 'x_19_12': 0, 'x_19_2': 1, 'x_19_4': 0, 'x_19_5': 0, 'x_19_7': 0, 'x_19_9': 0, 'x_1_0': 0, 'x_1_11': 0, 'x_1_12': 0, 'x_1_2': 0, 'x_1_4': 0, 'x_1_5': 1, 'x_1_7': 0, 'x_1_9': 0, 'x_20_0': 0, 'x_20_11': 0, 'x_20_12': 0, 'x_20_2': 0, 'x_20_4': 0, 'x_20_5': 0, 'x_20_7': 1, 'x_20_9': 0, 'x_2_0': 0, 'x_2_11': 0, 'x_2_12': 0, 'x_2_2': 0, 'x_2_4': 0, 'x_2_5': 0, 'x_2_7': 1, 'x_2_9': 0, 'x_3_0': 1, 'x_3_11': 0, 'x_3_12': 0, 'x_3_2': 0, 'x_3_4': 0, 'x_3_5': 0, 'x_3_7': 0, 'x_3_9': 0, 'x_4_0': 0, 'x_4_11': 0, 'x_4_12': 0, 'x_4_2': 1, 'x_4_4': 0, 'x_4_5': 0, 'x_4_7': 0, 'x_4_9': 0, 'x_5_0': 0, 'x_5_11': 0, 'x_5_12': 1, 'x_5_2': 0, 'x_5_4': 0, 'x_5_5': 0, 'x_5_7': 0, 'x_5_9': 0, 'x_6_0': 0, 'x_6_11': 1, 'x_6_12': 0, 'x_6_2': 0, 'x_6_4': 0, 'x_6_5': 0, 'x_6_7': 0, 'x_6_9': 0, 'x_7_0': 0, 'x_7_11': 0, 'x_7_12': 0, 'x_7_2': 0, 'x_7_4': 1, 'x_7_5': 0, 'x_7_7': 0, 'x_7_9': 0, 'x_8_0': 0, 'x_8_11': 0, 'x_8_12': 0, 'x_8_2': 0, 'x_8_4': 0, 'x_8_5': 0, 'x_8_7': 0, 'x_8_9': 1, 'x_9_0': 0, 'x_9_11': 0, 'x_9_12': 0, 'x_9_2': 0, 'x_9_4': 1, 'x_9_5': 0, 'x_9_7': 0, 'x_9_9': 0} 19.0\n"
     ]
    }
   ],
   "source": [
    "print(sampleset, energy)"
   ]
  },
  {
   "cell_type": "markdown",
   "id": "figured-category",
   "metadata": {},
   "source": [
    "The following code provided by pyqubo can be used to identify the constraints that are broken (if any). You can try running the same experiment by trying quantum annealing directly and check if some constraints are violated or not. What you can try when some constraint is violated is to increase its penalty value, and overall increase the annealing time and number of reads. Still, you may not be able to get a sample in which all constraints are satisfied. In such a case, you can run hybrid solver."
   ]
  },
  {
   "cell_type": "code",
   "execution_count": 58,
   "id": "dated-trauma",
   "metadata": {},
   "outputs": [
    {
     "name": "stdout",
     "output_type": "stream",
     "text": [
      "{'same_note_6_4': (False, 2.0), 'same_note_1_9': (False, 2.0), 'same_note_6_0': (False, 2.0), 'same_note_15_9': (False, 2.0), 'same_note_3_9': (False, 2.0), 'same_note_9_9': (False, 2.0), 'same_note_15_7': (False, 2.0), 'same_note_1_0': (False, 2.0), 'same_note_18_2': (False, 2.0)}\n"
     ]
    }
   ],
   "source": [
    "dec = model.decode_sample(sampleset, vartype='BINARY')\n",
    "print(dec.constraints(only_broken=True))"
   ]
  },
  {
   "cell_type": "code",
   "execution_count": 59,
   "id": "realistic-composite",
   "metadata": {},
   "outputs": [],
   "source": [
    "filename = \"experiment4\"\n",
    "solution = dimod.SampleSet.from_samples(sampleset, energy=energy, vartype=dimod.BINARY)\n",
    "store_results(filename, solution)"
   ]
  },
  {
   "cell_type": "markdown",
   "id": "alternate-hollow",
   "metadata": {},
   "source": [
    "---"
   ]
  },
  {
   "cell_type": "markdown",
   "id": "square-numbers",
   "metadata": {},
   "source": [
    "### Example 4 (Page 15) - Diatonic scale and tendency notes"
   ]
  },
  {
   "cell_type": "markdown",
   "id": "associate-reynolds",
   "metadata": {},
   "source": [
    "<b>Creating the model"
   ]
  },
  {
   "cell_type": "markdown",
   "id": "loved-alarm",
   "metadata": {},
   "source": [
    "This time, we take the diatonic scale and select `P` as follows. We will generate 20 notes."
   ]
  },
  {
   "cell_type": "code",
   "execution_count": 60,
   "id": "accredited-script",
   "metadata": {},
   "outputs": [],
   "source": [
    "P = [1,2,3,4,5,6,7,8]\n",
    "n = 20"
   ]
  },
  {
   "cell_type": "markdown",
   "id": "distributed-setting",
   "metadata": {},
   "source": [
    "We start by adding the single note constraint. (Eq. 18)"
   ]
  },
  {
   "cell_type": "code",
   "execution_count": 61,
   "id": "organic-enhancement",
   "metadata": {},
   "outputs": [],
   "source": [
    "H = 0\n",
    "for i in range(1,n+1):\n",
    "    H += Constraint((1-sum(Binary(f\"x_{i}_{p}\") for p in P))**2, f\"Single_note_{i}\")"
   ]
  },
  {
   "cell_type": "markdown",
   "id": "extended-services",
   "metadata": {},
   "source": [
    "We initialize the first and the last note of the sequence. (Eq. 26)"
   ]
  },
  {
   "cell_type": "code",
   "execution_count": 62,
   "id": "affected-turkey",
   "metadata": {},
   "outputs": [],
   "source": [
    "H += (1-Binary(f\"x_1_1\")) + (1-Binary(f\"x_20_1\"))"
   ]
  },
  {
   "cell_type": "markdown",
   "id": "agricultural-dance",
   "metadata": {},
   "source": [
    "Next we add the rules about tendency notes (Eq.28), by adding the following terms directly to the objective."
   ]
  },
  {
   "cell_type": "code",
   "execution_count": 63,
   "id": "tracked-vulnerability",
   "metadata": {},
   "outputs": [],
   "source": [
    "for i in range(1,n):\n",
    "    H += Binary(f\"x_{i}_2\")*(1-Binary(f\"x_{i+1}_1\"))\n",
    "    H += Binary(f\"x_{i}_4\")*(1-Binary(f\"x_{i+1}_3\"))\n",
    "    H += Binary(f\"x_{i}_6\")*(1-Binary(f\"x_{i+1}_5\"))\n",
    "    H += Binary(f\"x_{i}_7\")*(1-Binary(f\"x_{i+1}_8\"))"
   ]
  },
  {
   "cell_type": "markdown",
   "id": "loose-pressure",
   "metadata": {},
   "source": [
    "<b> Running the experiment"
   ]
  },
  {
   "cell_type": "code",
   "execution_count": 64,
   "id": "peripheral-vehicle",
   "metadata": {},
   "outputs": [],
   "source": [
    "model = H.compile()\n",
    "qubo, of = model.to_qubo()\n",
    "bqm = dimod.BinaryQuadraticModel.from_qubo(qubo,of)"
   ]
  },
  {
   "cell_type": "code",
   "execution_count": 66,
   "id": "endless-fifth",
   "metadata": {},
   "outputs": [
    {
     "name": "stdout",
     "output_type": "stream",
     "text": [
      "[DYNEX] SAMPLER INITIALISED\n",
      "[DYNEX|TESTNET] *** WAITING FOR READS ***\n",
      "╭────────────┬──────────┬─────────────────┬─────────────┬───────────┬───────────────────────────┬────────────┬─────────┬────────────────╮\n",
      "│   DYNEXJOB │   QUBITS │   QUANTUM GATES │   BLOCK FEE │ ELAPSED   │ WORKERS READ              │ CIRCUITS   │ STEPS   │ GROUND STATE   │\n",
      "├────────────┼──────────┼─────────────────┼─────────────┼───────────┼───────────────────────────┼────────────┼─────────┼────────────────┤\n",
      "│         -1 │      168 │             880 │           0 │           │ *** WAITING FOR READS *** │            │         │                │\n",
      "╰────────────┴──────────┴─────────────────┴─────────────┴───────────┴───────────────────────────┴────────────┴─────────┴────────────────╯\n",
      "\n",
      "[DYNEX] FINISHED READ AFTER 0.29 SECONDS\n",
      "[DYNEX] SAMPLESET READY\n"
     ]
    }
   ],
   "source": [
    "#cs = 1.5\n",
    "#sampleset = anneal(bqm, 'q', cs)\n",
    "sampleset, energy = DYNEX(bqm, num_reads=100000, annealing_time=1000)"
   ]
  },
  {
   "cell_type": "markdown",
   "id": "integrated-angola",
   "metadata": {},
   "source": [
    "<b> Interpreting the results"
   ]
  },
  {
   "cell_type": "markdown",
   "id": "attached-singer",
   "metadata": {},
   "source": [
    "Let's print the first sample and lowest energy."
   ]
  },
  {
   "cell_type": "code",
   "execution_count": 67,
   "id": "economic-track",
   "metadata": {},
   "outputs": [
    {
     "name": "stdout",
     "output_type": "stream",
     "text": [
      "{'x_10_1': 0, 'x_10_2': 0, 'x_10_3': 0, 'x_10_4': 0, 'x_10_5': 1, 'x_10_6': 0, 'x_10_7': 0, 'x_10_8': 0, 'x_11_1': 0, 'x_11_2': 0, 'x_11_3': 0, 'x_11_4': 0, 'x_11_5': 0, 'x_11_6': 1, 'x_11_7': 0, 'x_11_8': 0, 'x_12_1': 0, 'x_12_2': 0, 'x_12_3': 0, 'x_12_4': 0, 'x_12_5': 1, 'x_12_6': 0, 'x_12_7': 0, 'x_12_8': 0, 'x_13_1': 1, 'x_13_2': 0, 'x_13_3': 0, 'x_13_4': 0, 'x_13_5': 0, 'x_13_6': 0, 'x_13_7': 0, 'x_13_8': 0, 'x_14_1': 0, 'x_14_2': 0, 'x_14_3': 0, 'x_14_4': 0, 'x_14_5': 1, 'x_14_6': 0, 'x_14_7': 0, 'x_14_8': 0, 'x_15_1': 0, 'x_15_2': 0, 'x_15_3': 0, 'x_15_4': 0, 'x_15_5': 1, 'x_15_6': 0, 'x_15_7': 0, 'x_15_8': 0, 'x_16_1': 0, 'x_16_2': 0, 'x_16_3': 1, 'x_16_4': 0, 'x_16_5': 0, 'x_16_6': 0, 'x_16_7': 0, 'x_16_8': 0, 'x_17_1': 1, 'x_17_2': 0, 'x_17_3': 0, 'x_17_4': 0, 'x_17_5': 0, 'x_17_6': 0, 'x_17_7': 0, 'x_17_8': 0, 'x_18_1': 0, 'x_18_2': 0, 'x_18_3': 0, 'x_18_4': 0, 'x_18_5': 0, 'x_18_6': 0, 'x_18_7': 0, 'x_18_8': 1, 'x_19_1': 0, 'x_19_2': 0, 'x_19_3': 1, 'x_19_4': 0, 'x_19_5': 0, 'x_19_6': 0, 'x_19_7': 0, 'x_19_8': 0, 'x_1_1': 1, 'x_1_2': 0, 'x_1_3': 0, 'x_1_4': 0, 'x_1_5': 0, 'x_1_6': 0, 'x_1_7': 0, 'x_1_8': 0, 'x_20_1': 1, 'x_20_2': 0, 'x_20_3': 0, 'x_20_4': 0, 'x_20_5': 0, 'x_20_6': 0, 'x_20_7': 0, 'x_20_8': 0, 'x_2_1': 0, 'x_2_2': 0, 'x_2_3': 1, 'x_2_4': 0, 'x_2_5': 0, 'x_2_6': 0, 'x_2_7': 0, 'x_2_8': 0, 'x_3_1': 0, 'x_3_2': 0, 'x_3_3': 1, 'x_3_4': 0, 'x_3_5': 0, 'x_3_6': 0, 'x_3_7': 0, 'x_3_8': 0, 'x_4_1': 0, 'x_4_2': 0, 'x_4_3': 0, 'x_4_4': 0, 'x_4_5': 1, 'x_4_6': 0, 'x_4_7': 0, 'x_4_8': 0, 'x_5_1': 0, 'x_5_2': 0, 'x_5_3': 0, 'x_5_4': 0, 'x_5_5': 0, 'x_5_6': 0, 'x_5_7': 0, 'x_5_8': 1, 'x_6_1': 0, 'x_6_2': 0, 'x_6_3': 0, 'x_6_4': 0, 'x_6_5': 1, 'x_6_6': 0, 'x_6_7': 0, 'x_6_8': 0, 'x_7_1': 0, 'x_7_2': 0, 'x_7_3': 0, 'x_7_4': 0, 'x_7_5': 0, 'x_7_6': 0, 'x_7_7': 0, 'x_7_8': 1, 'x_8_1': 0, 'x_8_2': 0, 'x_8_3': 0, 'x_8_4': 0, 'x_8_5': 1, 'x_8_6': 0, 'x_8_7': 0, 'x_8_8': 0, 'x_9_1': 0, 'x_9_2': 0, 'x_9_3': 1, 'x_9_4': 0, 'x_9_5': 0, 'x_9_6': 0, 'x_9_7': 0, 'x_9_8': 0} 0.0\n"
     ]
    }
   ],
   "source": [
    "print(sampleset, energy)"
   ]
  },
  {
   "cell_type": "code",
   "execution_count": 69,
   "id": "together-parameter",
   "metadata": {},
   "outputs": [],
   "source": [
    "filename = \"experiment4\"\n",
    "solution = dimod.SampleSet.from_samples(sampleset, energy=energy, vartype=dimod.BINARY)\n",
    "store_results(filename, solution)"
   ]
  },
  {
   "cell_type": "markdown",
   "id": "dedicated-roots",
   "metadata": {},
   "source": [
    "---"
   ]
  },
  {
   "cell_type": "markdown",
   "id": "prostate-spiritual",
   "metadata": {},
   "source": [
    "### Example 5 (Page 16-17) - Objective function"
   ]
  },
  {
   "cell_type": "markdown",
   "id": "younger-seller",
   "metadata": {},
   "source": [
    "<b>Creating the model"
   ]
  },
  {
   "cell_type": "markdown",
   "id": "stylish-senator",
   "metadata": {},
   "source": [
    "We use the diatonic scale as the list of pitches and we will generate 20 notes."
   ]
  },
  {
   "cell_type": "code",
   "execution_count": 70,
   "id": "earlier-pension",
   "metadata": {},
   "outputs": [],
   "source": [
    "P = [1,2,3,4,5,6,7,8]\n",
    "n = 20"
   ]
  },
  {
   "cell_type": "markdown",
   "id": "greenhouse-speaker",
   "metadata": {},
   "source": [
    "We define some penalty values. "
   ]
  },
  {
   "cell_type": "code",
   "execution_count": 71,
   "id": "automatic-theta",
   "metadata": {},
   "outputs": [],
   "source": [
    "P1,P2,P3,P4,P5 = 5,3,1,1,1"
   ]
  },
  {
   "cell_type": "markdown",
   "id": "instant-coral",
   "metadata": {},
   "source": [
    "We define the matrix of the weights."
   ]
  },
  {
   "cell_type": "code",
   "execution_count": 72,
   "id": "prerequisite-payroll",
   "metadata": {},
   "outputs": [],
   "source": [
    "M = [[0 for i in range(9)] for j in range(9)]\n",
    "M[4][4]=2\n",
    "M[4][3]=2\n",
    "M[4][5]=1\n",
    "\n",
    "M[5][6]=1\n",
    "M[5][4]=1\n",
    "\n",
    "M[6][6]=1\n",
    "M[6][5]=1\n",
    "\n",
    "\n",
    "M[2][1]=1\n",
    "M[2][3]=1\n",
    "M[2][2]=1\n",
    "\n",
    "M[1][1]=1\n",
    "M[1][2]=1"
   ]
  },
  {
   "cell_type": "markdown",
   "id": "approximate-outside",
   "metadata": {},
   "source": [
    "As always, we start by single note constraint. (Eq.18)"
   ]
  },
  {
   "cell_type": "code",
   "execution_count": 73,
   "id": "systematic-puppy",
   "metadata": {},
   "outputs": [],
   "source": [
    "H = 0\n",
    "for i in range(1,n+1):\n",
    "    H += P1*Constraint((1-sum(Binary(f\"x_{i}_{p}\") for p in P))**2, f\"Single_note_{i}\")"
   ]
  },
  {
   "cell_type": "markdown",
   "id": "after-bookmark",
   "metadata": {},
   "source": [
    "We add the rule about the first and the last note. (Eq.26)"
   ]
  },
  {
   "cell_type": "code",
   "execution_count": 74,
   "id": "polish-seven",
   "metadata": {},
   "outputs": [],
   "source": [
    "H += P2*Constraint(1-Binary(f\"x_1_1\"),\"first\") + P2*Constraint(1-Binary(f\"x_20_1\"),\"last\")"
   ]
  },
  {
   "cell_type": "markdown",
   "id": "secure-combine",
   "metadata": {},
   "source": [
    "We include the rule about no more than two same note in a sequence. (Eq.22)"
   ]
  },
  {
   "cell_type": "code",
   "execution_count": 75,
   "id": "emotional-equality",
   "metadata": {},
   "outputs": [],
   "source": [
    "for i in range(1,n-1):\n",
    "    for j in P:\n",
    "        H += Constraint(P3*(Binary(f\"x_{i+2}_{j}\") + Binary(f\"x_{i}_{j}\") + Binary(f\"x_{i+1}_{j}\") + LogEncInteger(f\"s_{i}_{j}\",(0,2))-2)**2, f\"same_note_{i}_{j}\")"
   ]
  },
  {
   "cell_type": "markdown",
   "id": "statistical-mississippi",
   "metadata": {},
   "source": [
    "Next we add the rules about tendency notes (Eq.28), by adding the following terms directly to the objective."
   ]
  },
  {
   "cell_type": "code",
   "execution_count": 76,
   "id": "fresh-banks",
   "metadata": {},
   "outputs": [],
   "source": [
    "for i in range(1,n):\n",
    "    H += P4*Binary(f\"x_{i}_2\")*(1-Binary(f\"x_{i+1}_1\"))\n",
    "    H += P4*Binary(f\"x_{i}_4\")*(1-Binary(f\"x_{i+1}_3\"))\n",
    "    H += P4*Binary(f\"x_{i}_6\")*(1-Binary(f\"x_{i+1}_5\"))\n",
    "    H += P4*Binary(f\"x_{i}_7\")*(1-Binary(f\"x_{i+1}_8\"))"
   ]
  },
  {
   "cell_type": "markdown",
   "id": "alert-socket",
   "metadata": {},
   "source": [
    "Finally, we add the 'rewards' to our objective function, defined as $\n",
    "    -\\sum_{ \\substack{i\\in [n-1]  \\\\ j,j' \\in P}} W_{j,j'} x_{i,j} x_{i+1,j'}\n",
    "$. The weights we use are stored inside `M`. (Eq. 29)\n",
    "\n"
   ]
  },
  {
   "cell_type": "code",
   "execution_count": 77,
   "id": "noted-rally",
   "metadata": {},
   "outputs": [],
   "source": [
    "for i in range(1,n+1):\n",
    "    for j, jp in product(P,P):\n",
    "        if M[j][jp]!=0:\n",
    "            H += -P5*M[j][jp]*Binary(f\"x_{i}_{j}\")*Binary(f\"x_{i+1}_{jp}\")           "
   ]
  },
  {
   "cell_type": "markdown",
   "id": "difficult-paragraph",
   "metadata": {},
   "source": [
    "<b> Running the experiment"
   ]
  },
  {
   "cell_type": "code",
   "execution_count": 78,
   "id": "silver-optimum",
   "metadata": {},
   "outputs": [],
   "source": [
    "model = H.compile()\n",
    "qubo, of = model.to_qubo()\n",
    "bqm = dimod.BinaryQuadraticModel.from_qubo(qubo,of)"
   ]
  },
  {
   "cell_type": "markdown",
   "id": "banner-breast",
   "metadata": {},
   "source": [
    "We will use Dynex Neuromorphic Computing but with higher number of reads"
   ]
  },
  {
   "cell_type": "code",
   "execution_count": 79,
   "id": "signal-recruitment",
   "metadata": {},
   "outputs": [
    {
     "name": "stdout",
     "output_type": "stream",
     "text": [
      "[DYNEX] SAMPLER INITIALISED\n",
      "[DYNEX|TESTNET] *** WAITING FOR READS ***\n",
      "╭────────────┬──────────┬─────────────────┬─────────────┬───────────┬───────────────────────────┬────────────┬─────────┬────────────────╮\n",
      "│   DYNEXJOB │   QUBITS │   QUANTUM GATES │   BLOCK FEE │ ELAPSED   │ WORKERS READ              │ CIRCUITS   │ STEPS   │ GROUND STATE   │\n",
      "├────────────┼──────────┼─────────────────┼─────────────┼───────────┼───────────────────────────┼────────────┼─────────┼────────────────┤\n",
      "│         -1 │      462 │            2867 │           0 │           │ *** WAITING FOR READS *** │            │         │                │\n",
      "╰────────────┴──────────┴─────────────────┴─────────────┴───────────┴───────────────────────────┴────────────┴─────────┴────────────────╯\n",
      "\n",
      "[DYNEX] FINISHED READ AFTER 0.35 SECONDS\n",
      "[DYNEX] SAMPLESET READY\n"
     ]
    }
   ],
   "source": [
    "sampleset, energy = DYNEX(bqm, num_reads=100000, annealing_time=1000)"
   ]
  },
  {
   "cell_type": "markdown",
   "id": "regulation-rebate",
   "metadata": {},
   "source": [
    "<b> Interpreting the results"
   ]
  },
  {
   "cell_type": "code",
   "execution_count": 80,
   "id": "operating-devon",
   "metadata": {},
   "outputs": [
    {
     "name": "stdout",
     "output_type": "stream",
     "text": [
      "{'s_10_1[0]': 1, 's_10_1[1]': 1, 's_10_2[0]': 1, 's_10_2[1]': 1, 's_10_3[0]': 0, 's_10_3[1]': 0, 's_10_4[0]': 1, 's_10_4[1]': 1, 's_10_5[0]': 0, 's_10_5[1]': 1, 's_10_6[0]': 1, 's_10_6[1]': 1, 's_10_7[0]': 1, 's_10_7[1]': 1, 's_10_8[0]': 1, 's_10_8[1]': 1, 's_11_1[0]': 1, 's_11_1[1]': 1, 's_11_2[0]': 1, 's_11_2[1]': 1, 's_11_3[0]': 1, 's_11_3[1]': 1, 's_11_4[0]': 0, 's_11_4[1]': 0, 's_11_5[0]': 0, 's_11_5[1]': 1, 's_11_6[0]': 1, 's_11_6[1]': 1, 's_11_7[0]': 1, 's_11_7[1]': 1, 's_11_8[0]': 1, 's_11_8[1]': 1, 's_12_1[0]': 1, 's_12_1[1]': 1, 's_12_2[0]': 1, 's_12_2[1]': 1, 's_12_3[0]': 1, 's_12_3[1]': 1, 's_12_4[0]': 1, 's_12_4[1]': 0, 's_12_5[0]': 1, 's_12_5[1]': 0, 's_12_6[0]': 1, 's_12_6[1]': 1, 's_12_7[0]': 1, 's_12_7[1]': 1, 's_12_8[0]': 1, 's_12_8[1]': 1, 's_13_1[0]': 1, 's_13_1[1]': 1, 's_13_2[0]': 1, 's_13_2[1]': 1, 's_13_3[0]': 1, 's_13_3[1]': 1, 's_13_4[0]': 0, 's_13_4[1]': 0, 's_13_5[0]': 1, 's_13_5[1]': 0, 's_13_6[0]': 1, 's_13_6[1]': 1, 's_13_7[0]': 1, 's_13_7[1]': 1, 's_13_8[0]': 1, 's_13_8[1]': 1, 's_14_1[0]': 1, 's_14_1[1]': 1, 's_14_2[0]': 1, 's_14_2[1]': 1, 's_14_3[0]': 1, 's_14_3[1]': 1, 's_14_4[0]': 0, 's_14_4[1]': 0, 's_14_5[0]': 0, 's_14_5[1]': 0, 's_14_6[0]': 1, 's_14_6[1]': 1, 's_14_7[0]': 1, 's_14_7[1]': 1, 's_14_8[0]': 1, 's_14_8[1]': 1, 's_15_1[0]': 1, 's_15_1[1]': 1, 's_15_2[0]': 1, 's_15_2[1]': 1, 's_15_3[0]': 0, 's_15_3[1]': 0, 's_15_4[0]': 0, 's_15_4[1]': 0, 's_15_5[0]': 1, 's_15_5[1]': 1, 's_15_6[0]': 1, 's_15_6[1]': 1, 's_15_7[0]': 1, 's_15_7[1]': 1, 's_15_8[0]': 1, 's_15_8[1]': 1, 's_16_1[0]': 1, 's_16_1[1]': 1, 's_16_2[0]': 1, 's_16_2[1]': 1, 's_16_3[0]': 0, 's_16_3[1]': 0, 's_16_4[0]': 0, 's_16_4[1]': 1, 's_16_5[0]': 1, 's_16_5[1]': 1, 's_16_6[0]': 1, 's_16_6[1]': 1, 's_16_7[0]': 1, 's_16_7[1]': 1, 's_16_8[0]': 1, 's_16_8[1]': 1, 's_17_1[0]': 1, 's_17_1[1]': 1, 's_17_2[0]': 1, 's_17_2[1]': 1, 's_17_3[0]': 1, 's_17_3[1]': 0, 's_17_4[0]': 0, 's_17_4[1]': 1, 's_17_5[0]': 1, 's_17_5[1]': 1, 's_17_6[0]': 1, 's_17_6[1]': 1, 's_17_7[0]': 1, 's_17_7[1]': 1, 's_17_8[0]': 1, 's_17_8[1]': 1, 's_18_1[0]': 1, 's_18_1[1]': 1, 's_18_2[0]': 1, 's_18_2[1]': 1, 's_18_3[0]': 1, 's_18_3[1]': 1, 's_18_4[0]': 0, 's_18_4[1]': 0, 's_18_5[0]': 1, 's_18_5[1]': 0, 's_18_6[0]': 1, 's_18_6[1]': 1, 's_18_7[0]': 1, 's_18_7[1]': 1, 's_18_8[0]': 1, 's_18_8[1]': 1, 's_1_1[0]': 0, 's_1_1[1]': 0, 's_1_2[0]': 1, 's_1_2[1]': 1, 's_1_3[0]': 0, 's_1_3[1]': 1, 's_1_4[0]': 1, 's_1_4[1]': 1, 's_1_5[0]': 0, 's_1_5[1]': 0, 's_1_6[0]': 1, 's_1_6[1]': 1, 's_1_7[0]': 1, 's_1_7[1]': 1, 's_1_8[0]': 1, 's_1_8[1]': 1, 's_2_1[0]': 1, 's_2_1[1]': 1, 's_2_2[0]': 1, 's_2_2[1]': 1, 's_2_3[0]': 1, 's_2_3[1]': 1, 's_2_4[0]': 1, 's_2_4[1]': 1, 's_2_5[0]': 0, 's_2_5[1]': 1, 's_2_6[0]': 1, 's_2_6[1]': 1, 's_2_7[0]': 1, 's_2_7[1]': 1, 's_2_8[0]': 1, 's_2_8[1]': 1, 's_3_1[0]': 1, 's_3_1[1]': 1, 's_3_2[0]': 1, 's_3_2[1]': 1, 's_3_3[0]': 0, 's_3_3[1]': 0, 's_3_4[0]': 1, 's_3_4[1]': 1, 's_3_5[0]': 1, 's_3_5[1]': 1, 's_3_6[0]': 1, 's_3_6[1]': 1, 's_3_7[0]': 1, 's_3_7[1]': 1, 's_3_8[0]': 1, 's_3_8[1]': 1, 's_4_1[0]': 1, 's_4_1[1]': 1, 's_4_2[0]': 1, 's_4_2[1]': 1, 's_4_3[0]': 1, 's_4_3[1]': 1, 's_4_4[0]': 1, 's_4_4[1]': 1, 's_4_5[0]': 1, 's_4_5[1]': 1, 's_4_6[0]': 1, 's_4_6[1]': 1, 's_4_7[0]': 1, 's_4_7[1]': 1, 's_4_8[0]': 1, 's_4_8[1]': 1, 's_5_1[0]': 1, 's_5_1[1]': 1, 's_5_2[0]': 1, 's_5_2[1]': 1, 's_5_3[0]': 0, 's_5_3[1]': 0, 's_5_4[0]': 1, 's_5_4[1]': 1, 's_5_5[0]': 1, 's_5_5[1]': 1, 's_5_6[0]': 1, 's_5_6[1]': 1, 's_5_7[0]': 1, 's_5_7[1]': 1, 's_5_8[0]': 1, 's_5_8[1]': 1, 's_6_1[0]': 1, 's_6_1[1]': 1, 's_6_2[0]': 1, 's_6_2[1]': 1, 's_6_3[0]': 0, 's_6_3[1]': 0, 's_6_4[0]': 0, 's_6_4[1]': 1, 's_6_5[0]': 1, 's_6_5[1]': 1, 's_6_6[0]': 1, 's_6_6[1]': 1, 's_6_7[0]': 1, 's_6_7[1]': 1, 's_6_8[0]': 1, 's_6_8[1]': 1, 's_7_1[0]': 1, 's_7_1[1]': 1, 's_7_2[0]': 1, 's_7_2[1]': 1, 's_7_3[0]': 0, 's_7_3[1]': 0, 's_7_4[0]': 0, 's_7_4[1]': 0, 's_7_5[0]': 1, 's_7_5[1]': 1, 's_7_6[0]': 1, 's_7_6[1]': 1, 's_7_7[0]': 1, 's_7_7[1]': 1, 's_7_8[0]': 1, 's_7_8[1]': 1, 's_8_1[0]': 1, 's_8_1[1]': 1, 's_8_2[0]': 1, 's_8_2[1]': 1, 's_8_3[0]': 0, 's_8_3[1]': 1, 's_8_4[0]': 0, 's_8_4[1]': 0, 's_8_5[0]': 1, 's_8_5[1]': 1, 's_8_6[0]': 1, 's_8_6[1]': 1, 's_8_7[0]': 1, 's_8_7[1]': 1, 's_8_8[0]': 1, 's_8_8[1]': 1, 's_9_1[0]': 1, 's_9_1[1]': 1, 's_9_2[0]': 1, 's_9_2[1]': 1, 's_9_3[0]': 1, 's_9_3[1]': 0, 's_9_4[0]': 1, 's_9_4[1]': 1, 's_9_5[0]': 0, 's_9_5[1]': 0, 's_9_6[0]': 1, 's_9_6[1]': 1, 's_9_7[0]': 1, 's_9_7[1]': 1, 's_9_8[0]': 1, 's_9_8[1]': 1, 'x_10_1': 0, 'x_10_2': 0, 'x_10_3': 1, 'x_10_4': 0, 'x_10_5': 0, 'x_10_6': 0, 'x_10_7': 0, 'x_10_8': 0, 'x_11_1': 0, 'x_11_2': 0, 'x_11_3': 0, 'x_11_4': 0, 'x_11_5': 1, 'x_11_6': 0, 'x_11_7': 0, 'x_11_8': 0, 'x_12_1': 0, 'x_12_2': 0, 'x_12_3': 0, 'x_12_4': 1, 'x_12_5': 0, 'x_12_6': 0, 'x_12_7': 0, 'x_12_8': 0, 'x_13_1': 0, 'x_13_2': 0, 'x_13_3': 0, 'x_13_4': 1, 'x_13_5': 0, 'x_13_6': 0, 'x_13_7': 0, 'x_13_8': 0, 'x_14_1': 0, 'x_14_2': 0, 'x_14_3': 0, 'x_14_4': 0, 'x_14_5': 1, 'x_14_6': 0, 'x_14_7': 0, 'x_14_8': 0, 'x_15_1': 0, 'x_15_2': 0, 'x_15_3': 0, 'x_15_4': 1, 'x_15_5': 0, 'x_15_6': 0, 'x_15_7': 0, 'x_15_8': 0, 'x_16_1': 0, 'x_16_2': 0, 'x_16_3': 0, 'x_16_4': 1, 'x_16_5': 0, 'x_16_6': 0, 'x_16_7': 0, 'x_16_8': 0, 'x_17_1': 0, 'x_17_2': 0, 'x_17_3': 1, 'x_17_4': 0, 'x_17_5': 0, 'x_17_6': 0, 'x_17_7': 0, 'x_17_8': 0, 'x_18_1': 0, 'x_18_2': 0, 'x_18_3': 0, 'x_18_4': 1, 'x_18_5': 0, 'x_18_6': 0, 'x_18_7': 0, 'x_18_8': 0, 'x_19_1': 0, 'x_19_2': 0, 'x_19_3': 0, 'x_19_4': 1, 'x_19_5': 0, 'x_19_6': 0, 'x_19_7': 0, 'x_19_8': 0, 'x_1_1': 1, 'x_1_2': 0, 'x_1_3': 0, 'x_1_4': 0, 'x_1_5': 0, 'x_1_6': 0, 'x_1_7': 0, 'x_1_8': 0, 'x_20_1': 0, 'x_20_2': 0, 'x_20_3': 0, 'x_20_4': 0, 'x_20_5': 1, 'x_20_6': 0, 'x_20_7': 0, 'x_20_8': 0, 'x_21_1': 0, 'x_21_2': 0, 'x_21_3': 0, 'x_21_4': 0, 'x_21_5': 1, 'x_21_6': 1, 'x_2_1': 0, 'x_2_2': 0, 'x_2_3': 0, 'x_2_4': 0, 'x_2_5': 1, 'x_2_6': 0, 'x_2_7': 0, 'x_2_8': 0, 'x_3_1': 0, 'x_3_2': 0, 'x_3_3': 1, 'x_3_4': 0, 'x_3_5': 0, 'x_3_6': 0, 'x_3_7': 0, 'x_3_8': 0, 'x_4_1': 0, 'x_4_2': 1, 'x_4_3': 0, 'x_4_4': 0, 'x_4_5': 0, 'x_4_6': 0, 'x_4_7': 0, 'x_4_8': 0, 'x_5_1': 0, 'x_5_2': 0, 'x_5_3': 1, 'x_5_4': 0, 'x_5_5': 0, 'x_5_6': 0, 'x_5_7': 0, 'x_5_8': 0, 'x_6_1': 0, 'x_6_2': 0, 'x_6_3': 0, 'x_6_4': 0, 'x_6_5': 1, 'x_6_6': 0, 'x_6_7': 0, 'x_6_8': 0, 'x_7_1': 0, 'x_7_2': 0, 'x_7_3': 1, 'x_7_4': 0, 'x_7_5': 0, 'x_7_6': 0, 'x_7_7': 0, 'x_7_8': 0, 'x_8_1': 0, 'x_8_2': 0, 'x_8_3': 0, 'x_8_4': 1, 'x_8_5': 0, 'x_8_6': 0, 'x_8_7': 0, 'x_8_8': 0, 'x_9_1': 0, 'x_9_2': 0, 'x_9_3': 0, 'x_9_4': 1, 'x_9_5': 0, 'x_9_6': 0, 'x_9_7': 0, 'x_9_8': 0} 14.0\n"
     ]
    }
   ],
   "source": [
    "print(sampleset, energy)"
   ]
  },
  {
   "cell_type": "code",
   "execution_count": 81,
   "id": "gross-object",
   "metadata": {},
   "outputs": [
    {
     "name": "stdout",
     "output_type": "stream",
     "text": [
      "{'same_note_6_5': (False, 1.0), 'same_note_16_4': (False, 1.0), 'same_note_4_5': (False, 1.0), 'same_note_14_5': (False, 1.0), 'same_note_10_3': (False, 1.0), 'same_note_17_4': (False, 1.0), 'same_note_2_3': (False, 1.0), 'same_note_7_3': (False, 1.0), 'same_note_5_5': (False, 1.0), 'same_note_15_3': (False, 1.0), 'same_note_9_4': (False, 1.0), 'same_note_9_5': (False, 1.0), 'same_note_2_2': (False, 1.0), 'same_note_1_1': (False, 1.0), 'last': (False, 1.0), 'same_note_3_2': (False, 1.0), 'same_note_12_4': (False, 1.0), 'same_note_4_2': (False, 1.0), 'same_note_1_5': (False, 1.0), 'same_note_16_3': (False, 1.0), 'same_note_6_3': (False, 1.0), 'same_note_4_3': (False, 1.0), 'same_note_10_4': (False, 1.0)}\n"
     ]
    }
   ],
   "source": [
    "dec = model.decode_sample(sampleset, vartype='BINARY')\n",
    "print(dec.constraints(only_broken=True))"
   ]
  },
  {
   "cell_type": "code",
   "execution_count": 82,
   "id": "decreased-sellers",
   "metadata": {},
   "outputs": [],
   "source": [
    "filename = \"experiment5\"\n",
    "solution = dimod.SampleSet.from_samples(sampleset, energy=energy, vartype=dimod.BINARY)\n",
    "store_results(filename, solution)"
   ]
  },
  {
   "cell_type": "markdown",
   "id": "bound-belarus",
   "metadata": {},
   "source": [
    "---"
   ]
  },
  {
   "cell_type": "markdown",
   "id": "novel-reflection",
   "metadata": {},
   "source": [
    "### Example 6 (Page 17-18) - Rhythm generation"
   ]
  },
  {
   "cell_type": "markdown",
   "id": "equipped-nursing",
   "metadata": {},
   "source": [
    "<b> Creating the model"
   ]
  },
  {
   "cell_type": "markdown",
   "id": "express-saint",
   "metadata": {},
   "source": [
    "We identify quarter, dotted quarted, eighth and half notes by 0,1,2,3 respectively. Later on, we will use this `Pdict` to translate our sample back."
   ]
  },
  {
   "cell_type": "code",
   "execution_count": 83,
   "id": "utility-special",
   "metadata": {},
   "outputs": [],
   "source": [
    "Pdict = {0:\"Q\", 1:\"DQ\", 2:\"E\", 3:\"H\"}\n",
    "P = [0,1,2,3]\n",
    "n = 20"
   ]
  },
  {
   "cell_type": "markdown",
   "id": "downtown-philip",
   "metadata": {},
   "source": [
    "We define the matrix of weights for the note durations."
   ]
  },
  {
   "cell_type": "code",
   "execution_count": 84,
   "id": "uniform-underground",
   "metadata": {},
   "outputs": [],
   "source": [
    "M = [[0 for i in range(4)] for j in range(4)]\n",
    "M[0][0]=11\n",
    "M[0][1]=1\n",
    "\n",
    "M[1][2] = 1\n",
    "M[2][3]=1"
   ]
  },
  {
   "cell_type": "markdown",
   "id": "clinical-warrant",
   "metadata": {},
   "source": [
    "Penalty values."
   ]
  },
  {
   "cell_type": "code",
   "execution_count": 85,
   "id": "associate-coating",
   "metadata": {},
   "outputs": [],
   "source": [
    "P1, P2, P3 = 50, 50, 1"
   ]
  },
  {
   "cell_type": "markdown",
   "id": "resident-jewelry",
   "metadata": {},
   "source": [
    "We start by single note constraint. (Eq.18)"
   ]
  },
  {
   "cell_type": "code",
   "execution_count": 86,
   "id": "wired-evolution",
   "metadata": {},
   "outputs": [],
   "source": [
    "H = 0\n",
    "for i in range(1,n+1):\n",
    "    H += P1*Constraint((1-sum(Binary(f\"x_{i}_{p}\") for p in P))**2, f\"Single_note_{i}\")"
   ]
  },
  {
   "cell_type": "markdown",
   "id": "macro-growing",
   "metadata": {},
   "source": [
    "We add the rule forcing that each duration appears at least twice. (Eq.36)"
   ]
  },
  {
   "cell_type": "code",
   "execution_count": 87,
   "id": "studied-alert",
   "metadata": {},
   "outputs": [],
   "source": [
    "for d in P:\n",
    "    H += P2*Constraint((2-sum(Binary(f\"x_{i}_{d}\") for i in range(1,n+1))+LogEncInteger(f\"s_{d}\",(0,14)))**2, f\"At_least_two_{d}\")"
   ]
  },
  {
   "cell_type": "markdown",
   "id": "present-senior",
   "metadata": {},
   "source": [
    "We add the 'rewards' reflecting the weights for consecutive durations. (Eq. 29)"
   ]
  },
  {
   "cell_type": "code",
   "execution_count": 88,
   "id": "above-tonight",
   "metadata": {},
   "outputs": [],
   "source": [
    "for i in range(1,n+1):\n",
    "    for j, jp in product(P,P):\n",
    "        if M[j][jp]!=0:\n",
    "            H += P3 * -M[j][jp]*Binary(f\"x_{i}_{j}\")*Binary(f\"x_{i+1}_{jp}\")"
   ]
  },
  {
   "cell_type": "markdown",
   "id": "consecutive-salem",
   "metadata": {},
   "source": [
    "<b> Running the experiment"
   ]
  },
  {
   "cell_type": "code",
   "execution_count": 89,
   "id": "helpful-acquisition",
   "metadata": {},
   "outputs": [],
   "source": [
    "model = H.compile()\n",
    "qubo, of = model.to_qubo()\n",
    "bqm = dimod.BinaryQuadraticModel.from_qubo(qubo,of)"
   ]
  },
  {
   "cell_type": "markdown",
   "id": "afraid-consumption",
   "metadata": {},
   "source": [
    "We will use Dynex Neuromorphic Computing but with higher number of reads"
   ]
  },
  {
   "cell_type": "code",
   "execution_count": 90,
   "id": "printable-impact",
   "metadata": {},
   "outputs": [
    {
     "name": "stdout",
     "output_type": "stream",
     "text": [
      "[DYNEX] SAMPLER INITIALISED\n",
      "[DYNEX|TESTNET] *** WAITING FOR READS ***\n",
      "╭────────────┬──────────┬─────────────────┬─────────────┬───────────┬───────────────────────────┬────────────┬─────────┬────────────────╮\n",
      "│   DYNEXJOB │   QUBITS │   QUANTUM GATES │   BLOCK FEE │ ELAPSED   │ WORKERS READ              │ CIRCUITS   │ STEPS   │ GROUND STATE   │\n",
      "├────────────┼──────────┼─────────────────┼─────────────┼───────────┼───────────────────────────┼────────────┼─────────┼────────────────┤\n",
      "│         -1 │      108 │            2151 │           0 │           │ *** WAITING FOR READS *** │            │         │                │\n",
      "╰────────────┴──────────┴─────────────────┴─────────────┴───────────┴───────────────────────────┴────────────┴─────────┴────────────────╯\n",
      "\n",
      "[DYNEX] FINISHED READ AFTER 0.32 SECONDS\n",
      "[DYNEX] SAMPLESET READY\n"
     ]
    }
   ],
   "source": [
    "sampleset, energy = DYNEX(bqm, num_reads=100000, annealing_time=1000)"
   ]
  },
  {
   "cell_type": "markdown",
   "id": "egyptian-bidder",
   "metadata": {},
   "source": [
    "<b> Interpreting the results"
   ]
  },
  {
   "cell_type": "code",
   "execution_count": 102,
   "id": "according-advantage",
   "metadata": {
    "scrolled": true
   },
   "outputs": [
    {
     "name": "stdout",
     "output_type": "stream",
     "text": [
      "{'s_0[0]': 0, 's_0[1]': 0, 's_0[2]': 1, 's_0[3]': 0, 's_1[0]': 0, 's_1[1]': 0, 's_1[2]': 0, 's_1[3]': 0, 's_2[0]': 1, 's_2[1]': 0, 's_2[2]': 1, 's_2[3]': 0, 's_3[0]': 0, 's_3[1]': 0, 's_3[2]': 0, 's_3[3]': 0, 'x_10_0': 0, 'x_10_1': 0, 'x_10_2': 1, 'x_10_3': 0, 'x_11_0': 0, 'x_11_1': 0, 'x_11_2': 1, 'x_11_3': 0, 'x_12_0': 0, 'x_12_1': 0, 'x_12_2': 0, 'x_12_3': 0, 'x_13_0': 0, 'x_13_1': 0, 'x_13_2': 1, 'x_13_3': 0, 'x_14_0': 0, 'x_14_1': 0, 'x_14_2': 1, 'x_14_3': 0, 'x_15_0': 1, 'x_15_1': 0, 'x_15_2': 0, 'x_15_3': 0, 'x_16_0': 1, 'x_16_1': 0, 'x_16_2': 0, 'x_16_3': 0, 'x_17_0': 0, 'x_17_1': 0, 'x_17_2': 0, 'x_17_3': 1, 'x_18_0': 0, 'x_18_1': 0, 'x_18_2': 1, 'x_18_3': 0, 'x_19_0': 1, 'x_19_1': 0, 'x_19_2': 0, 'x_19_3': 0, 'x_1_0': 0, 'x_1_1': 0, 'x_1_2': 0, 'x_1_3': 0, 'x_20_0': 0, 'x_20_1': 0, 'x_20_2': 0, 'x_20_3': 1, 'x_21_0': 1, 'x_21_1': 0, 'x_21_2': 0, 'x_21_3': 0, 'x_2_0': 0, 'x_2_1': 0, 'x_2_2': 1, 'x_2_3': 0, 'x_3_0': 0, 'x_3_1': 1, 'x_3_2': 0, 'x_3_3': 0, 'x_4_0': 0, 'x_4_1': 0, 'x_4_2': 0, 'x_4_3': 1, 'x_5_0': 1, 'x_5_1': 0, 'x_5_2': 0, 'x_5_3': 0, 'x_6_0': 1, 'x_6_1': 0, 'x_6_2': 0, 'x_6_3': 0, 'x_7_0': 1, 'x_7_1': 0, 'x_7_2': 0, 'x_7_3': 0, 'x_8_0': 0, 'x_8_1': 0, 'x_8_2': 1, 'x_8_3': 0, 'x_9_0': 0, 'x_9_1': 1, 'x_9_2': 0, 'x_9_3': 0} 116.0\n"
     ]
    }
   ],
   "source": [
    "print(sampleset,energy)"
   ]
  },
  {
   "cell_type": "code",
   "execution_count": 103,
   "id": "wireless-newfoundland",
   "metadata": {},
   "outputs": [
    {
     "name": "stdout",
     "output_type": "stream",
     "text": [
      "{'Single_note_12': (False, 1.0), 'At_least_two_3': (False, 1.0), 'Single_note_1': (False, 1.0)}\n"
     ]
    }
   ],
   "source": [
    "dec = model.decode_sample(sampleset, vartype='BINARY')\n",
    "print(dec.constraints(only_broken=True))"
   ]
  },
  {
   "cell_type": "code",
   "execution_count": 104,
   "id": "certain-tucson",
   "metadata": {},
   "outputs": [],
   "source": [
    "filename = f\"experiment6\"\n",
    "solution = dimod.SampleSet.from_samples(sampleset, energy=energy, vartype=dimod.BINARY)\n",
    "store_results(filename, solution)"
   ]
  },
  {
   "cell_type": "markdown",
   "id": "african-compensation",
   "metadata": {},
   "source": [
    "---"
   ]
  },
  {
   "cell_type": "markdown",
   "id": "tender-elder",
   "metadata": {},
   "source": [
    "### Example 7 (Page 19-20-21) Markov Random Fields"
   ]
  },
  {
   "cell_type": "markdown",
   "id": "driving-ridge",
   "metadata": {},
   "source": [
    "<b> Creating the model</b>"
   ]
  },
  {
   "cell_type": "markdown",
   "id": "binary-video",
   "metadata": {},
   "source": [
    "In order to build a Markov Network it is neccessary to create a dictionary which will contain the information about the potentials relating each pair of binary random variables. We want to have a dictionary with the following format:\n",
    "\n",
    "```\n",
    "potentials = {('a', 'b'): {(0, 0): 1,  # for when a = 0, b = 0\n",
    "                          (0, 1): .5,  # for when a = 0, b = 1\n",
    "                          (1, 0): .5,  # for when a = 1, b = 0\n",
    "                          (1, 1): 2}}  # for when a = 1, b = 1\n",
    "```\n",
    "\n",
    "For our harmonization task we are going to create a list with the chords that we are going to be considering.\n",
    "\n",
    "We are also going to assign values to all the combinations of two chords that we can have in our sequence. These values will be the values for the potentials."
   ]
  },
  {
   "cell_type": "markdown",
   "id": "specialized-obligation",
   "metadata": {},
   "source": [
    "Let's start by defiining the `chord_list`."
   ]
  },
  {
   "cell_type": "code",
   "execution_count": 105,
   "id": "confirmed-sailing",
   "metadata": {},
   "outputs": [],
   "source": [
    "chords_list= ['I','ii','iii','IV','V','vi','viid']"
   ]
  },
  {
   "cell_type": "markdown",
   "id": "fallen-cologne",
   "metadata": {},
   "source": [
    "We'll create a dictionary named potentials, whose keys will pairs of variables representing the chord at each time point, i.e. $\\mathtt{I}_i, \\mathtt{ii}_i, \\mathtt{iii}_i, \\mathtt{IV}_i, \\mathtt{V}_i, \\mathtt{vi}_i, \\mathtt{VIIdim}_i$ where $i\\in [4]$"
   ]
  },
  {
   "cell_type": "code",
   "execution_count": 106,
   "id": "homeless-departure",
   "metadata": {},
   "outputs": [],
   "source": [
    "potentials = {} "
   ]
  },
  {
   "cell_type": "markdown",
   "id": "activated-spank",
   "metadata": {},
   "source": [
    "We will use the following values to avoid having multiple chords at a time point. (Table 7)"
   ]
  },
  {
   "cell_type": "code",
   "execution_count": 107,
   "id": "strong-religious",
   "metadata": {},
   "outputs": [],
   "source": [
    "not_simultaneous = {(0, 0): 50,(0, 1): 50,(1, 0): 50,(1, 1): 100} # to avoid having two simultaneous chords"
   ]
  },
  {
   "cell_type": "markdown",
   "id": "continuing-princeton",
   "metadata": {},
   "source": [
    "We define the potentials to be used when both variables are `(1,1)`. (Table 8 and Table 9)"
   ]
  },
  {
   "cell_type": "code",
   "execution_count": 108,
   "id": "architectural-hydrogen",
   "metadata": {},
   "outputs": [],
   "source": [
    "values={('I','I'):100, ('I','ii'):50,('I','iii'):50,('I','IV'):50, ('I','V'):50, ('I','vi'):50, ('I','viid'):50,\n",
    "             ('ii','I'):50, ('ii','ii'):100,('ii','iii'):50,('ii','IV'): 50, ('ii','V'): 50, ('ii','vi'):50, ('ii','viid'):50,\n",
    "             ('iii','I'):50, ('iii','ii'):50,('iii','iii'):100,('iii','IV'):50, ('iii','V'):50, ('iii','vi'):50, ('iii','viid'):50,\n",
    "             ('IV','I'):50, ('IV','ii'):50,('IV','iii'):50,('IV','IV'):100, ('IV','V'):50, ('IV','vi'):50, ('IV','viid'):50,\n",
    "             ('V','I'):0, ('V','ii'):50,('V','iii'):50,('V','IV'):50, ('V','V'):50, ('V','vi'):50, ('V','viid'):50,\n",
    "             ('vi','I'):50, ('vi','ii'):50,('vi','iii'):50,('vi','IV'):50, ('vi','V'):50, ('vi','vi'):100, ('vi','viid'):50,\n",
    "             ('viid','I'):50, ('viid','ii'):50,('viid','iii'):50,('viid','IV'):50, ('viid','V'):50, ('viid','vi'):50, ('viid','viid'):100\n",
    "            }"
   ]
  },
  {
   "cell_type": "markdown",
   "id": "dimensional-living",
   "metadata": {},
   "source": [
    "Finally we fill the potentials dictionary. Note that we need to consider combinations of all time points and chords."
   ]
  },
  {
   "cell_type": "code",
   "execution_count": 109,
   "id": "threaded-endorsement",
   "metadata": {},
   "outputs": [],
   "source": [
    "for i, j in product(range(1,4),chords_list): # in this example we consider a sequence of four chords only\n",
    "    for m in chords_list:\n",
    "        index = chords_list.index(m)\n",
    "        inner_list = chords_list[index+1:(len(chords_list))]\n",
    "        for n in inner_list:\n",
    "            potentials[(f\"{i}_{m}\",f\"{i}_{n}\")]= not_simultaneous # to avoid simultaneous chords\n",
    "    for k in chords_list:\n",
    "            potentials[(f\"{i}_{j}\",f\"{i+1}_{k}\")]={(0, 0): 50,(0, 1): 50,(1, 0): 50,(1, 1): values[(j,k)]}"
   ]
  },
  {
   "cell_type": "markdown",
   "id": "prostate-miller",
   "metadata": {},
   "source": [
    "In the previous cell we have considered the last chord as i was restricted to 1,2,3. We avoid having muliple chords as the last chord using the following cell. "
   ]
  },
  {
   "cell_type": "code",
   "execution_count": 110,
   "id": "cultural-reasoning",
   "metadata": {},
   "outputs": [],
   "source": [
    "last_chord = 4\n",
    "for j in chords_list:\n",
    "    index = chords_list.index(j)\n",
    "    inner_list = chords_list[index+1:(len(chords_list))]\n",
    "    for k in inner_list:\n",
    "        potentials[(f\"{last_chord}_{j}\",f\"{last_chord}_{k}\")] = not_simultaneous # to avoid simultaneous chords"
   ]
  },
  {
   "cell_type": "markdown",
   "id": "pediatric-parent",
   "metadata": {},
   "source": [
    "<b>Running the experiment"
   ]
  },
  {
   "cell_type": "markdown",
   "id": "liquid-electronics",
   "metadata": {},
   "source": [
    "We first create a markov network using the networx. "
   ]
  },
  {
   "cell_type": "code",
   "execution_count": 119,
   "id": "naval-citizen",
   "metadata": {},
   "outputs": [],
   "source": [
    "MN = dnx.markov_network(potentials)  # create a Markov Network from the potentials\n",
    "bqm = dnx.markov_network_bqm(MN)  # convert the Markov Network to a BQM"
   ]
  },
  {
   "cell_type": "markdown",
   "id": "rising-combination",
   "metadata": {},
   "source": [
    "Next, we create the sample and use `sample_markov_network` function. We can use the `fixed_variables` parameter to set certain variables. In this example, we fix the first and the last chords. "
   ]
  },
  {
   "cell_type": "code",
   "execution_count": 120,
   "id": "appropriate-duncan",
   "metadata": {},
   "outputs": [
    {
     "name": "stdout",
     "output_type": "stream",
     "text": [
      "[DYNEX] SAMPLER INITIALISED\n",
      "[DYNEX|TESTNET] *** WAITING FOR READS ***\n",
      "╭────────────┬──────────┬─────────────────┬─────────────┬───────────┬───────────────────────────┬────────────┬─────────┬────────────────╮\n",
      "│   DYNEXJOB │   QUBITS │   QUANTUM GATES │   BLOCK FEE │ ELAPSED   │ WORKERS READ              │ CIRCUITS   │ STEPS   │ GROUND STATE   │\n",
      "├────────────┼──────────┼─────────────────┼─────────────┼───────────┼───────────────────────────┼────────────┼─────────┼────────────────┤\n",
      "│         -1 │       34 │             117 │           0 │           │ *** WAITING FOR READS *** │            │         │                │\n",
      "╰────────────┴──────────┴─────────────────┴─────────────┴───────────┴───────────────────────────┴────────────┴─────────┴────────────────╯\n",
      "\n",
      "[DYNEX] FINISHED READ AFTER 0.29 SECONDS\n",
      "[DYNEX] SAMPLESET READY\n"
     ]
    }
   ],
   "source": [
    "# let's consider a 4 chords progression starting in I and ending in I\n",
    "bqm.fix_variable('1_I', 1)  # fix the first chord to 'I'\n",
    "bqm.fix_variable('4_I', 1)  # fix the last chord to 'I' \n",
    "sampleset, energy = DYNEX(bqm, num_reads=100000, annealing_time=1000)"
   ]
  },
  {
   "cell_type": "markdown",
   "id": "incomplete-accommodation",
   "metadata": {},
   "source": [
    "<b> Interpreting the results"
   ]
  },
  {
   "cell_type": "markdown",
   "id": "historic-group",
   "metadata": {},
   "source": [
    "Let's check how the sample looks like. At a certain time point, there should be exactly one variable which is set to 1."
   ]
  },
  {
   "cell_type": "code",
   "execution_count": 124,
   "id": "ancient-cargo",
   "metadata": {},
   "outputs": [
    {
     "name": "stdout",
     "output_type": "stream",
     "text": [
      "dict_items([('1_IV', 0), ('1_V', 0), ('1_ii', 0), ('1_iii', 0), ('1_vi', 0), ('1_viid', 0), ('2_I', 0), ('2_IV', 0), ('2_V', 0), ('2_ii', 0), ('2_iii', 0), ('2_vi', 0), ('2_viid', 0), ('3_I', 0), ('3_IV', 0), ('3_V', 1), ('3_ii', 0), ('3_iii', 0), ('3_vi', 0), ('3_viid', 0), ('4_IV', 0), ('4_V', 0), ('4_ii', 0), ('4_iii', 0), ('4_vi', 0), ('4_viid', 0)])\n"
     ]
    }
   ],
   "source": [
    "print(sampleset)"
   ]
  },
  {
   "cell_type": "markdown",
   "id": "electronic-vacuum",
   "metadata": {},
   "source": [
    "The variables that are set to 1 will give us the chord sequence we are looking for. "
   ]
  },
  {
   "cell_type": "code",
   "execution_count": 126,
   "id": "proved-student",
   "metadata": {},
   "outputs": [
    {
     "name": "stdout",
     "output_type": "stream",
     "text": [
      "['3_V']\n"
     ]
    }
   ],
   "source": [
    "chord_sequence = [k for k,v in sampleset.items() if v==1]\n",
    "print(chord_sequence)"
   ]
  },
  {
   "cell_type": "markdown",
   "id": "premier-internet",
   "metadata": {},
   "source": [
    "`sample` is a list containing only a single sample and we can directly store it using pickle."
   ]
  },
  {
   "cell_type": "code",
   "execution_count": 128,
   "id": "opening-berry",
   "metadata": {},
   "outputs": [],
   "source": [
    "filename = f\"experiment7\"\n",
    "with open(filename, 'wb') as handle:\n",
    "    pickle.dump(sampleset, handle)"
   ]
  },
  {
   "cell_type": "markdown",
   "id": "vocal-parts",
   "metadata": {},
   "source": [
    "---"
   ]
  },
  {
   "cell_type": "markdown",
   "id": "breathing-constraint",
   "metadata": {},
   "source": [
    "### Example 8 (Page 22) - Harmonizing melody"
   ]
  },
  {
   "cell_type": "markdown",
   "id": "empirical-lover",
   "metadata": {},
   "source": [
    "<b> Creating the model"
   ]
  },
  {
   "cell_type": "markdown",
   "id": "obvious-tablet",
   "metadata": {},
   "source": [
    "The list `P` represents the degrees of the scale"
   ]
  },
  {
   "cell_type": "code",
   "execution_count": 129,
   "id": "minute-reform",
   "metadata": {},
   "outputs": [],
   "source": [
    "P = [1,2,3,4,5,6,7,8]\n",
    "n = 20"
   ]
  },
  {
   "cell_type": "markdown",
   "id": "personalized-feelings",
   "metadata": {},
   "source": [
    "The `note_list` represents the music pieace we would like to harmonize."
   ]
  },
  {
   "cell_type": "code",
   "execution_count": 130,
   "id": "french-bathroom",
   "metadata": {},
   "outputs": [],
   "source": [
    "note_list = [1, 4, 3, 5, 1, 7, 8, 3, 5, 4, 3, 5, 4, 3, 6, 5, 4, 3, 5, 1]"
   ]
  },
  {
   "cell_type": "markdown",
   "id": "common-advantage",
   "metadata": {},
   "source": [
    "We would like to generate a triad. Hence, as opposed to single note constraint, we have the constraint forcing that there are three notes at each time point $\n",
    "\\sum_{j \\in P} x_{i,j} = 3\n",
    "$. (Eq.41)\n",
    "\n"
   ]
  },
  {
   "cell_type": "code",
   "execution_count": 131,
   "id": "thick-guarantee",
   "metadata": {},
   "outputs": [],
   "source": [
    "H = 0\n",
    "for i in range(1,n+1):\n",
    "    H += 2*Constraint((3-sum(Binary(f\"x_{i}_{p}\") for p in P))**2, f\"Triad_{i}\")"
   ]
  },
  {
   "cell_type": "markdown",
   "id": "loved-scottish",
   "metadata": {},
   "source": [
    "We would like to have the first and the last triad to be built on the first degree of the scale, hence we use the following constraints. (Eq. 42)"
   ]
  },
  {
   "cell_type": "code",
   "execution_count": 132,
   "id": "sought-signature",
   "metadata": {},
   "outputs": [],
   "source": [
    "H += Constraint((1-Binary(f\"x_{1}_{3}\"))**2, f\"note_{1}_3\")\n",
    "H += Constraint((1-Binary(f\"x_{1}_{5}\"))**2, f\"note_{1}_5\")\n",
    "H += Constraint((1-Binary(f\"x_{20}_{3}\"))**2, f\"note_{20}_3\")\n",
    "H += Constraint((1-Binary(f\"x_{20}_{5}\"))**2, f\"note_{20}_5\")\n",
    "H += Constraint((1-Binary(f\"x_{20}_{1}\"))**2, f\"note_{20}_1\")"
   ]
  },
  {
   "cell_type": "markdown",
   "id": "comparative-wells",
   "metadata": {},
   "source": [
    "Each triad should contain the note given in the `note_list`."
   ]
  },
  {
   "cell_type": "code",
   "execution_count": 133,
   "id": "three-change",
   "metadata": {},
   "outputs": [],
   "source": [
    "for i in range(1,n+1):\n",
    "    H += Constraint((1-Binary(f\"x_{i}_{note_list[(i-1)]}\"))**2, f\"note_{i}\")"
   ]
  },
  {
   "cell_type": "markdown",
   "id": "likely-noise",
   "metadata": {},
   "source": [
    "We would like to avoid consecutive degrees to appear in the triad, as well as degrees 1-7, 2-6, 1-8. Hence we add the following penalty terms to the objective. (Eq. 44)"
   ]
  },
  {
   "cell_type": "code",
   "execution_count": 134,
   "id": "prompt-regression",
   "metadata": {},
   "outputs": [],
   "source": [
    "A = [1,6,7]\n",
    "for i in range(1,n+1):\n",
    "    for j, k in product(P,P):\n",
    "        if abs(j-k) in A:\n",
    "            H += Binary(f\"x_{i}_{j}\")*(Binary(f\"x_{i}_{k}\"))"
   ]
  },
  {
   "cell_type": "markdown",
   "id": "solid-behavior",
   "metadata": {},
   "source": [
    "<b> Running the experiment"
   ]
  },
  {
   "cell_type": "code",
   "execution_count": 135,
   "id": "addressed-timer",
   "metadata": {},
   "outputs": [],
   "source": [
    "model = H.compile()\n",
    "qubo, of = model.to_qubo()\n",
    "bqm = dimod.BinaryQuadraticModel.from_qubo(qubo,of)"
   ]
  },
  {
   "cell_type": "code",
   "execution_count": 136,
   "id": "pretty-enhancement",
   "metadata": {},
   "outputs": [
    {
     "name": "stdout",
     "output_type": "stream",
     "text": [
      "[DYNEX] SAMPLER INITIALISED\n",
      "[DYNEX|TESTNET] *** WAITING FOR READS ***\n",
      "╭────────────┬──────────┬─────────────────┬─────────────┬───────────┬───────────────────────────┬────────────┬─────────┬────────────────╮\n",
      "│   DYNEXJOB │   QUBITS │   QUANTUM GATES │   BLOCK FEE │ ELAPSED   │ WORKERS READ              │ CIRCUITS   │ STEPS   │ GROUND STATE   │\n",
      "├────────────┼──────────┼─────────────────┼─────────────┼───────────┼───────────────────────────┼────────────┼─────────┼────────────────┤\n",
      "│         -1 │      168 │             728 │           0 │           │ *** WAITING FOR READS *** │            │         │                │\n",
      "╰────────────┴──────────┴─────────────────┴─────────────┴───────────┴───────────────────────────┴────────────┴─────────┴────────────────╯\n",
      "\n",
      "[DYNEX] FINISHED READ AFTER 0.30 SECONDS\n",
      "[DYNEX] SAMPLESET READY\n"
     ]
    }
   ],
   "source": [
    "sampleset, energy = DYNEX(bqm, num_reads=100000, annealing_time=1000)"
   ]
  },
  {
   "cell_type": "markdown",
   "id": "shaped-price",
   "metadata": {},
   "source": [
    "<b> Interpreting the results"
   ]
  },
  {
   "cell_type": "markdown",
   "id": "motivated-stranger",
   "metadata": {},
   "source": [
    "We use the method `translate_chord` to convert our sample into a list of chords."
   ]
  },
  {
   "cell_type": "code",
   "execution_count": 138,
   "id": "involved-planet",
   "metadata": {},
   "outputs": [
    {
     "name": "stdout",
     "output_type": "stream",
     "text": [
      "{1: [1, 3, 5], 2: [4, 6, 8], 3: [3, 5, 7], 4: [1, 3, 5], 5: [1, 3, 6], 6: [3, 5, 7], 7: [3, 6, 8], 8: [1, 3, 5], 9: [3, 5, 7], 10: [1, 4, 6], 11: [3, 5, 8], 12: [3, 5, 7], 13: [4, 6, 8], 14: [1, 3, 6], 15: [1, 3, 6], 16: [1, 3, 6], 17: [1, 4, 6], 18: [3, 6, 8], 19: [3, 5, 8], 20: [1, 3, 5]}\n"
     ]
    }
   ],
   "source": [
    "seq = translate_chord(sampleset,P,n)\n",
    "print(seq)"
   ]
  },
  {
   "cell_type": "markdown",
   "id": "turkish-accordance",
   "metadata": {},
   "source": [
    "You can check if any of the constraints are broken or not."
   ]
  },
  {
   "cell_type": "code",
   "execution_count": 139,
   "id": "annual-brass",
   "metadata": {},
   "outputs": [
    {
     "name": "stdout",
     "output_type": "stream",
     "text": [
      "{'note_16': (False, 1.0)}\n"
     ]
    }
   ],
   "source": [
    "dec = model.decode_sample(sampleset, vartype='BINARY')\n",
    "print(dec.constraints(only_broken=True))"
   ]
  },
  {
   "cell_type": "code",
   "execution_count": 140,
   "id": "herbal-fruit",
   "metadata": {},
   "outputs": [],
   "source": [
    "filename = f\"experiment8\"\n",
    "solution = dimod.SampleSet.from_samples(sampleset, energy=energy, vartype=dimod.BINARY)\n",
    "store_results(filename, solution)"
   ]
  },
  {
   "cell_type": "code",
   "execution_count": null,
   "id": "774c10d8-87de-4909-831f-3d29768b8623",
   "metadata": {},
   "outputs": [],
   "source": []
  }
 ],
 "metadata": {
  "kernelspec": {
   "display_name": "Python 3 (ipykernel)",
   "language": "python",
   "name": "python3"
  },
  "language_info": {
   "codemirror_mode": {
    "name": "ipython",
    "version": 3
   },
   "file_extension": ".py",
   "mimetype": "text/x-python",
   "name": "python",
   "nbconvert_exporter": "python",
   "pygments_lexer": "ipython3",
   "version": "3.10.12"
  }
 },
 "nbformat": 4,
 "nbformat_minor": 5
}
