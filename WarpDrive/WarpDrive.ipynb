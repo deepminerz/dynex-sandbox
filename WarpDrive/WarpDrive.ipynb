{
 "cells": [
  {
   "cell_type": "markdown",
   "id": "7d4bb29f-0437-4e1f-9751-251343abf775",
   "metadata": {},
   "source": [
    "# Quantum Alcubierre Warp Drive"
   ]
  },
  {
   "cell_type": "markdown",
   "id": "963f5e83-5de9-4fa6-a473-550a1c0e2e1c",
   "metadata": {},
   "source": [
    "The Alcubierre drive is a speculative warp drive idea according to which a spacecraft could achieve apparent faster-than-light travel by contracting space in front of it and expanding space behind it, under the assumption that a configurable energy-density field lower than that of vacuum (that is, negative mass) could be created."
   ]
  },
  {
   "cell_type": "markdown",
   "id": "4e0caed0-9cb8-4727-9394-2b7a860bd807",
   "metadata": {},
   "source": [
    "![My Image](1.jfif)"
   ]
  },
  {
   "cell_type": "markdown",
   "id": "fc3e6fdb-11ac-4dc1-ac99-b4d28a383413",
   "metadata": {},
   "source": [
    "Work based on whitepaper from https://arxiv.org/abs/gr-qc/0009013"
   ]
  },
  {
   "cell_type": "markdown",
   "id": "8454934e-6c53-4d94-b6d9-c1d6bcfc4eff",
   "metadata": {},
   "source": [
    "Coded by Sam Rahmeh & Y3TI"
   ]
  },
  {
   "cell_type": "markdown",
   "id": "a32e82f7",
   "metadata": {},
   "source": [
    "#### Load Libraries"
   ]
  },
  {
   "cell_type": "code",
   "execution_count": null,
   "id": "96d0c4f7-88ab-4a09-b331-398f2f432dbf",
   "metadata": {},
   "outputs": [],
   "source": [
    "import math\n",
    "import matplotlib as mpl\n",
    "import matplotlib.pyplot as plt\n",
    "import numpy as np\n",
    "from pyqubo import Array, Constraint\n",
    "import dynex "
   ]
  },
  {
   "cell_type": "markdown",
   "id": "f6bfd66d",
   "metadata": {},
   "source": [
    "#### Setup the Alcubierre Warp Drive Parameters"
   ]
  },
  {
   "cell_type": "code",
   "execution_count": null,
   "id": "180c4fb1",
   "metadata": {},
   "outputs": [],
   "source": [
    "xm, xM = 1.0, 8.0\n",
    "pm, pM = -4.0, 4.0\n",
    "numPts = 90\n",
    "xsm, xsM = 1.0, 10.0 \n",
    "numSTEPS = 10"
   ]
  },
  {
   "cell_type": "markdown",
   "id": "599c1425-3fa3-4fdf-ace6-5c839c4c0a69",
   "metadata": {},
   "source": [
    "### Building the Alcubierre Warp Drive"
   ]
  },
  {
   "cell_type": "markdown",
   "id": "91530c15-a4a4-4a48-9f4d-70a3c7102915",
   "metadata": {},
   "source": [
    "As you know, the Alcubierre Warp Drive is based on:\n",
    "\n",
    "#### 1. The Metric Tensor\n",
    "\n",
    "The metric for the Alcubierre Warp Drive is given by:\n",
    "\n",
    "$$\n",
    "ds^2 = -c^2 dt^2 + (dx - v_s f(r_s) dt)^2 + dy^2 + dz^2\n",
    "$$\n",
    "\n",
    "where:\n",
    "$c$ is the speed of light.\n",
    "$ds$ is the spacetime interval.\n",
    "$ v_s $ is the speed of the warp bubble.\n",
    "$ f(r_s) $ is a smooth function that describes the shape of the warp bubble.\n",
    "$ r_s = \\sqrt{(x - x_s(t))^2 + y^2 + z^2} $ is the radial distance from the center of the bubble.\n",
    "$ x_s(t) $ is the position of the center of the warp bubble as a function of time.\n",
    "\n",
    "#### 2. Energy Density\n",
    "\n",
    "The energy density required for the Alcubierre Warp Drive is given by:\n",
    "\n",
    "$$\n",
    "\\rho = \\frac{c^2}{8\\pi G} \\left( \\frac{v_s^2}{4r_s^2} \\left( \\frac{\\partial f}{\\partial r_s} \\right)^2 + \\frac{v_s^2}{2r_s} \\frac{\\partial^2 f}{\\partial r_s^2} \\right)\n",
    "$$\n",
    "\n",
    "where:\n",
    "$ G $ is the gravitational constant.\n",
    "\n",
    "## Now in order to build that in **Quantum-based** solution, I rebuilt the equations as follow:\n",
    "\n",
    "#### 1. Radial Distance Function\n",
    "\n",
    "$$\n",
    "r_s(x, \\rho, x_s) = \\sqrt{(x - x_s)^2 + \\rho^2}\n",
    "$$\n",
    "\n",
    "where:\n",
    "- $ x $ is the position coordinate.\n",
    "- $ x_s $ is the position of the warp bubble center.\n",
    "- $ \\rho = \\sqrt{y^2 + z^2} $.\n",
    "\n",
    "#### 2. Warp Field Gradient\n",
    "\n",
    "The warp field gradient $ \\frac{df}{dr_s} $ is:\n",
    "\n",
    "$$\n",
    "\\begin{aligned}\n",
    "\\frac{df}{dr_s} &= -\\frac{1}{2} \\left[ \\sigma \\left( \\tanh^2(\\sigma (R + r_s)) - 1 \\right) - \\frac{\\sigma \\left( \\tanh^2(-\\sigma (R - r_s)) - 1 \\right)}{\\tanh(\\sigma R)} \\right] \\\\\n",
    "&\\quad + \\frac{1}{4} \\left[ \\sigma^2 (R + r_s) \\text{sech}^2(\\sigma (R + r_s)) \\tanh(\\sigma (R + r_s)) - \\frac{\\sigma^2 (R - r_s) \\text{sech}^2(\\sigma (R - r_s)) \\tanh(\\sigma (R - r_s))}{\\tanh(\\sigma R)} \\right] \\\\\n",
    "&\\quad - \\frac{1}{8} \\left[ \\sigma^3 (R + r_s)^2 \\text{sech}^4(\\sigma (R + r_s)) - \\frac{\\sigma^3 (R - r_s)^2 \\text{sech}^4(\\sigma (R - r_s))}{\\tanh^2(\\sigma R)} \\right] \\\\\n",
    "&\\quad + \\frac{1}{16} \\left[ \\sigma^4 (R + r_s)^3 \\text{sech}^6(\\sigma (R + r_s)) - \\frac{\\sigma^4 (R - r_s)^3 \\text{sech}^6(\\sigma (R - r_s))}{\\tanh^3(\\sigma R)} \\right] \\\\\n",
    "&\\quad + \\frac{1}{32} \\left[ \\sigma^5 (R + r_s)^4 \\text{sech}^8(\\sigma (R + r_s)) - \\frac{\\sigma^5 (R - r_s)^4 \\text{sech}^8(\\sigma (R - r_s))}{\\tanh^4(\\sigma R)} \\right]\n",
    "\\end{aligned}\n",
    "$$\n",
    "\n",
    "where:\n",
    "- $ \\sigma $ is a parameter controlling the steepness of the warp bubble.\n",
    "- $ R $ is the radius of the warp bubble.\n",
    "- $ r_s $ is the radial distance.\n",
    "\n",
    "#### 3. The Hamiltonian Energy Term\n",
    "\n",
    "The Hamiltonian energy term $ H $ in the BQM is something like this:\n",
    "\n",
    "$$\n",
    "\\begin{aligned}\n",
    "H &= \\sum_{i=1}^{N} \\sum_{j=1}^{N} \\sum_{k=1}^{M} \\theta_{ijk} \\, x_i \\, p_j \\, x_s^k \\\\\n",
    "&\\quad + \\lambda_1 \\sum_{i=1}^{N} \\sum_{j=1}^{N} \\sum_{k=1}^{M} \\left( \\alpha_{ijk} \\, x_i^2 \\, p_j^2 \\, x_s^k + \\beta_{ijk} \\, x_i \\, p_j^3 \\, x_s^2 \\right) \\\\\n",
    "&\\quad + \\lambda_2 \\sum_{i=1}^{N} \\sum_{j=1}^{N} \\sum_{k=1}^{M} \\left( \\gamma_{ijk} \\, x_i^3 \\, p_j \\, x_s^2 + \\delta_{ijk} \\, x_i \\, p_j \\, x_s^3 \\right) \\\\\n",
    "&\\quad + \\sum_{\\text{constraints}} \\left[ \\mu_1 \\sum_{i=1}^{N} \\left( \\sum_{j=1}^{N} x_i p_j - \\sum_{k=1}^{M} x_s^k \\right)^2 + \\mu_2 \\sum_{j=1}^{N} \\left( \\sum_{i=1}^{N} p_j x_i - \\sum_{k=1}^{M} x_s^k \\right)^2 \\right] \\\\\n",
    "&\\quad + \\nu \\sum_{i=1}^{N} \\sum_{j=1}^{N} \\sum_{k=1}^{M} \\left( \\frac{(x_i - p_j)^2}{x_s^k + 1} + \\frac{(x_s^k - x_i)^2}{p_j + 1} \\right) \\\\\n",
    "&\\quad + \\omega \\sum_{i=1}^{N} \\sum_{j=1}^{N} \\sum_{k=1}^{M} \\left( \\frac{x_i \\, p_j \\, x_s^k}{(x_i + 1)(p_j + 1)(x_s^k + 1)} \\right)\n",
    "\\end{aligned}\n",
    "$$\n",
    "\n",
    "where:\n",
    "- $ \\theta_{ijk} = v_s \\frac{(x - x_s)}{r_s} \\frac{df}{dr_s} $\n",
    "- $ \\alpha_{ijk}, \\beta_{ijk}, \\gamma_{ijk}, \\delta_{ijk} $ are higher-order coefficients for interactions.\n",
    "- $ \\lambda_1, \\lambda_2, \\mu_1, \\mu_2, \\nu, \\omega $ are weighting factors for constraints and terms.\n",
    "- $ x, p, x_s $ are binary variables representing spatial and momentum states.\n",
    "- The constraints ensure the physical feasibility of the model, including terms for curvature, momentum, and angular momentum."
   ]
  },
  {
   "cell_type": "code",
   "execution_count": null,
   "id": "15f00aaa-e116-4488-8321-667277fea3cd",
   "metadata": {},
   "outputs": [],
   "source": [
    "def RHO(y, z):\n",
    "    return np.sqrt(y**2 + z**2)\n",
    "def dRS(x, rho, xs=2.5):\n",
    "    return ((x - xs)**2 + rho**2)**(1/2)\n",
    "def dFRS(rs, sigma=8, R=1):\n",
    "    a = sigma * (np.tanh((R + rs)*sigma)**2 - 1)\n",
    "    b = sigma * ((np.tanh(-(R - rs)*sigma)**2 - 1) / np.tanh(R * sigma))\n",
    "    return (-1/2) * (a - b)\n",
    "def THETA(x, p, xs=2.5, s=8, R=1):\n",
    "    vs = R\n",
    "    drs = dRS(x, p, xs)\n",
    "    dfrs = dFRS(drs, s, R)\n",
    "    return vs * ((x - xs) / drs) * dfrs\n",
    "def CURVEConst(x, p, xs, a=2.5, b=1.5, c=3.0):\n",
    "    return a * np.sin(x) + b * np.cos(p) + c * np.tan(xs)\n",
    "def ENERGYConst(x, p, xs, alpha=1, beta=2, gamma=1.5):\n",
    "    return alpha * x**2 + beta * p**2 + gamma * xs**2\n",
    "def InterTERM(xV, pV, xsV, factor=0.5):\n",
    "    return sum(factor * x * p * xs for x in xV for p in pV for xs in xsV)\n",
    "def MOMENTUMConst(xV, pV, xsV, coef=1.0):\n",
    "    return sum(coef * (xV[i] * pV[j] - xsV[k])**2\n",
    "               for i in range(len(xV)) for j in range(len(pV)) for k in range(len(xsV)))\n",
    "def AngularMomentumConst(xV, pV, xsV, coef=1.0):\n",
    "    return sum(coef * (xV[i] * pV[j] + xsV[k])**2\n",
    "               for i in range(len(xV)) for j in range(len(pV)) for k in range(len(xsV)))\n",
    "def ENERGY(x, p, xs, coef=1.0):\n",
    "    return coef * (np.sin(x) * np.cos(p) * np.tan(xs))\n",
    "def BuildWarpDriveBQM(xm, xM, pm, pM, numPts, xsm, xsM, numSTEPS):\n",
    "    xRan = np.linspace(xm, xM, numPts)\n",
    "    pRan = np.linspace(pm, pM, numPts)\n",
    "    xsRan = np.linspace(xsm, xsM, numSTEPS)\n",
    "    xV = Array.create('x', shape=numPts, vartype='BINARY')\n",
    "    pV = Array.create('p', shape=numPts, vartype='BINARY')\n",
    "    xsV = Array.create('xs', shape=numSTEPS, vartype='BINARY')\n",
    "    H = sum(THETA(xRan[i], pRan[j], xsRan[k]) * xV[i] * pV[j] * xsV[k]\n",
    "            for i in range(numPts) for j in range(numPts) for k in range(numSTEPS))\n",
    "    for var_array in [xV, pV, xsV]:\n",
    "        H += 0.1 * Constraint((sum(var_array) - 1)**2, label='oneHotConst')\n",
    "    CURVE = sum(CURVEConst(xRan[i], pRan[j], xsRan[k]) * xV[i] * pV[j] * xsV[k]\n",
    "                     for i in range(numPts) for j in range(numPts) for k in range(numSTEPS))\n",
    "    H += Constraint(CURVE, label='CURVEConst')\n",
    "    INTER = InterTERM(xV, pV, xsV)\n",
    "    H += Constraint(INTER, label='InterConst')\n",
    "    MOMENTUM = MOMENTUMConst(xV, pV, xsV)\n",
    "    H += Constraint(MOMENTUM, label='MOMENTUMConst')\n",
    "    angMOMENTUM = AngularMomentumConst(xV, pV, xsV)\n",
    "    H += Constraint(angMOMENTUM, label='AngularMomentumConst')\n",
    "    EN = sum(ENERGY(xRan[i], pRan[j], xsRan[k]) * xV[i] * pV[j] * xsV[k]\n",
    "                    for i in range(numPts) for j in range(numPts) for k in range(numSTEPS))\n",
    "    H += Constraint(EN, label='ENERGY')\n",
    "    model = H.compile()\n",
    "    bqm = model.to_bqm()\n",
    "    return bqm\n",
    "\n",
    "def DeSolutionSH(xR, pR, xsR, solution):\n",
    "    xSH = sum(xR[i] * solution.get(f'x[{i}]', 0) for i in range(len(xR)))\n",
    "    pSH = sum(pR[i] * solution.get(f'p[{i}]', 0) for i in range(len(pR)))\n",
    "    xsSH = sum(xsR[i] * solution.get(f'xs[{i}]', 0) for i in range(len(xsR)))\n",
    "    return xSH, pSH, xsSH\n",
    "\n",
    "def Visualization(solution):\n",
    "    _, axs = plt.subplots(5, 2, figsize=(14, 30), subplot_kw={'projection': '3d'})\n",
    "    axs = axs.flatten()\n",
    "    x = np.linspace(xm, xM, num=numPts)\n",
    "    p = np.linspace(pm, pM, num=numPts)\n",
    "    xsVal = np.linspace(xsm, xsM, numSTEPS)\n",
    "    xSH, pSH, xsSH = DeSolutionSH(x, p, xsVal, solution)\n",
    "    xmADJ, xMADJ = xm + xSH, xM + xSH\n",
    "    pmADJ, pMADJ = pm + pSH, pM + pSH\n",
    "    xsmADJ, xsMADJ = xsm + xsSH, xsM + xsSH\n",
    "    for ax in axs:\n",
    "        ax.set_xlabel(r'$\\phi_\\mathrm{real}$')\n",
    "        ax.set_ylabel(r'$\\phi_\\mathrm{im}$')\n",
    "        ax.set_zlabel(r'$V(\\phi)$')\n",
    "        ax.set_xlim(xmADJ, xMADJ)\n",
    "        ax.set_ylim(pmADJ, pMADJ)\n",
    "        ax.set_zlim(-4.2, 4.2)\n",
    "    X, P = np.meshgrid(np.linspace(xmADJ, xMADJ, num=numPts),\n",
    "                       np.linspace(pmADJ, pMADJ, num=numPts))\n",
    "    frame_count = 0\n",
    "    for xs in np.linspace(xsmADJ, xsMADJ, numSTEPS):\n",
    "        Z = THETA(X, P, xs, 8, 1)\n",
    "        ax = axs[frame_count]\n",
    "        ax.plot_wireframe(X, P, Z, rstride=2, cstride=2, linewidth=0.5, antialiased=True)\n",
    "        ax.contour(X, P, Z, zdir='x', offset=xmADJ, cmap=plt.cm.coolwarm)\n",
    "        ax.contour(X, P, Z, zdir='y', offset=pMADJ, cmap=plt.cm.coolwarm)\n",
    "        ax.contour(X, P, Z, zdir='z', offset=-4.2, cmap=plt.cm.coolwarm)\n",
    "        frame_count += 1\n",
    "    plt.tight_layout()\n",
    "    plt.show()"
   ]
  },
  {
   "cell_type": "markdown",
   "id": "ea485552",
   "metadata": {},
   "source": [
    "#### Build Alcubierre Warp Drive as BQM/QUBO"
   ]
  },
  {
   "cell_type": "code",
   "execution_count": null,
   "id": "d564836e-09a1-40e9-ac81-7ec9e6ab4ee8",
   "metadata": {},
   "outputs": [],
   "source": [
    "bqm = BuildWarpDriveBQM(xm, xM, pm, pM, numPts, xsm, xsM, numSTEPS)"
   ]
  },
  {
   "cell_type": "code",
   "execution_count": null,
   "id": "38253e87-f78a-49a1-8a9f-ee76cf35c397",
   "metadata": {},
   "outputs": [],
   "source": [
    "#print(bqm)"
   ]
  },
  {
   "cell_type": "markdown",
   "id": "fb12b723",
   "metadata": {},
   "source": [
    "#### COMPUTE on DYNEX"
   ]
  },
  {
   "cell_type": "code",
   "execution_count": null,
   "id": "4b80fce8-23ea-4810-a813-f1fe7ef4d8e1",
   "metadata": {},
   "outputs": [],
   "source": [
    "model = dynex.BQM(bqm)\n",
    "sampler = dynex.DynexSampler(model, mainnet=False, description='Quantum Alcubierre Warp Drive')\n",
    "sampleset = sampler.sample(num_reads=100000, annealing_time = 500, debugging=False)\n",
    "solution = sampleset.first.sample"
   ]
  },
  {
   "cell_type": "markdown",
   "id": "28d1d0eb",
   "metadata": {},
   "source": [
    "#### Visualize the Warp Drive"
   ]
  },
  {
   "cell_type": "code",
   "execution_count": null,
   "id": "b99f3e03-96a8-4871-b7de-25746e345f95",
   "metadata": {},
   "outputs": [],
   "source": [
    "Visualization(solution)"
   ]
  },
  {
   "cell_type": "code",
   "execution_count": null,
   "id": "ce9f2613-8982-41f7-997c-a07728d92ac4",
   "metadata": {},
   "outputs": [],
   "source": []
  }
 ],
 "metadata": {
  "kernelspec": {
   "display_name": "Python 3 (ipykernel)",
   "language": "python",
   "name": "python3"
  },
  "language_info": {
   "codemirror_mode": {
    "name": "ipython",
    "version": 3
   },
   "file_extension": ".py",
   "mimetype": "text/x-python",
   "name": "python",
   "nbconvert_exporter": "python",
   "pygments_lexer": "ipython3",
   "version": "3.10.12"
  }
 },
 "nbformat": 4,
 "nbformat_minor": 5
}
