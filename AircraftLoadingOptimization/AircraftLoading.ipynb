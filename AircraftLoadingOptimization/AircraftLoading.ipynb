{
 "cells": [
  {
   "cell_type": "markdown",
   "id": "dd0f53d7-7b3d-4f13-9a03-b6341e3ba32b",
   "metadata": {},
   "source": [
    "# Airbus Quantum Computing Challenge - Aircraft Loading Optimisation"
   ]
  },
  {
   "cell_type": "markdown",
   "id": "fad78e56-480b-43c2-98d0-511b78ffde55",
   "metadata": {},
   "source": [
    "Aircraft Loading Optimization is about making the best choices on which parts of the available payload to take\n",
    "on board, and where to place them on the aircraft. An airline tries to make best use of the aircraft’s payload\n",
    "capabilities in order to maximise revenue, and to optimise parameters with performance impact towards lower\n",
    "operating costs (fuel burn). The space for optimization is limited by the operational envelope of the aircraft,\n",
    "which must be respected at all times. The most notable limits here are the maximum payload capacity of the\n",
    "aircraft on a specific mission, the centre of gravity position of the loaded aircraft and its fuselage shear limits.\n",
    "This problem statement describes a simplified representation of this class of problems, with stepwise\n",
    "implementation of the constraints and the associated optimization target. The overall objective is the practical\n",
    "demonstration of problem solving by use of quantum computing, and the robust assessment of scalability\n",
    "towards more complex problems."
   ]
  },
  {
   "cell_type": "markdown",
   "id": "6877d5fe-d60e-41b3-9046-e94769c80483",
   "metadata": {},
   "source": [
    "A freighter aircraft has 𝑁 positions for standard size cargo containers equally distributed along the fuselage\n",
    "main deck. A set of 𝑛 cargo containers of up to three different sizes is available for loading. Standard size containers (1)\n",
    "occupy a single position, half size containers (2) may share a single position, whereas double size containers\n",
    "(3) occupy two adjacent positions. Each container in this set has an individual mass mi , which lies in between\n",
    "the empty mass and the maximum mass of each container type. Typically, the combined maximum masses\n",
    "of all containers exceed the aircraft’s payload capacity. "
   ]
  },
  {
   "cell_type": "code",
   "execution_count": null,
   "id": "7b394965-b7cb-4a17-9fe7-45438ca3ab1d",
   "metadata": {},
   "outputs": [],
   "source": [
    "import sympy as sym\n",
    "import numpy as np\n",
    "import dynex\n",
    "import matplotlib.pyplot as plt\n",
    "import copy"
   ]
  },
  {
   "cell_type": "code",
   "execution_count": null,
   "id": "7cdda786-f949-4921-b997-3edc27b1f7e9",
   "metadata": {},
   "outputs": [],
   "source": [
    "n=35\n",
    "N=20\n",
    "W=40000\n",
    "m=[2134.0, 3455.0, 1866.0, 1699.0, 3500.0, 3332.0, 2578.0, 2315.0, 1888.0, 1786.0, \n",
    "   3277.0, 2987.0, 2534.0, 2111.0, 2607.0, 1566.0, 1765.0, 1946.0, 1732.0, 1641.0, \n",
    "   1800.0, 986.0, 873.0, 1764.0, 1239.0, 1487.0, 769.0, 836.0, 659.0, 765.0, 3132.0, \n",
    "   3530.0, 3892.0, 3464.0, 3282.0] \n",
    "t=[1.0, 1.0, 1.0, 1.0, 1.0, 1.0, 1.0, 1.0, 1.0, 1.0,\n",
    "   1.0, 1.0, 1.0, 1.0, 1.0, 1.0, 1.0, 1.0, 1.0, 1.0,\n",
    "   1.0, 1.0, 1.0, 1.0, 1.0, 1.0, 1.0, 1.0, 1.0, 1.0,\n",
    "   0.5, 0.5, 0.5, 0.5, 0.5]\n",
    "d=[1.0, 1.0, 1.0, 1.0, 1.0, 1.0, 1.0, 1.0, 1.0, 1.0,\n",
    "   1.0, 1.0, 1.0, 1.0, 1.0, 1.0, 1.0, 1.0, 1.0, 1.0,\n",
    "   0.5, 0.5, 0.5, 0.5, 0.5, 0.5, 0.5, 0.5, 0.5, 0.5,\n",
    "   1.0, 1.0, 1.0, 1.0, 1.0]\n",
    " \n",
    "K = n + N + (len(bin(W))-2) # number of slack variables: K = n + N + number of bits of binary expansion of W\n",
    "\n",
    "# len(z) equals the number of qubits in QAOA circuit\n",
    "z=[sym.Symbol(f'z_{i}') for i in range(n*N+K)]\n",
    "\n",
    "# Load results obtained from Mathematica notebook airbus.nb\n",
    "def read_quadratic(path):\n",
    "    lines=[]\n",
    "    with open(path) as f:\n",
    "        for line in f:\n",
    "            cols = line.strip().split(',')\n",
    "            lines.append(np.array([float(x) for x in cols]))\n",
    "    quadratic = np.stack(lines)\n",
    "    return quadratic\n",
    "\n",
    "def read_linear(path):\n",
    "    lst = []\n",
    "    with open(path) as f:\n",
    "        for line in f:\n",
    "            lst.append(float(line.strip()))\n",
    "    linear = np.array(lst)\n",
    "    return linear\n",
    "\n",
    "quadratic = read_quadratic('airbus-data/quadratic.csv')\n",
    "linear = read_linear('airbus-data/linear.csv')\n",
    "\n",
    "def f_obj():\n",
    "    \"\"\" objective fucntion \"\"\"\n",
    "    exp = 0 # init a expression\n",
    "    for i in range(n):\n",
    "        for j in range(N):\n",
    "            exp = exp - t[i] * m[i] * z[i*N+j]\n",
    "\n",
    "    return exp\n",
    "\n",
    "payload = f_obj()\n",
    "qubo = None"
   ]
  },
  {
   "cell_type": "markdown",
   "id": "eac901e1-2404-4096-bb60-5d452c76e145",
   "metadata": {},
   "source": [
    "## Generate QUBO"
   ]
  },
  {
   "cell_type": "code",
   "execution_count": null,
   "id": "52cc9f3d-ced0-49fc-becd-0024cb85863a",
   "metadata": {},
   "outputs": [],
   "source": [
    "def mix_linear_quadratic(linear, quadratic, dict_=True):\n",
    "    \"\"\"\n",
    "    for bianry variable z_i, z_i = z_i^2\n",
    "    \"\"\"\n",
    "    quadratic = copy.deepcopy(quadratic)\n",
    "    for i in range(len(z)):\n",
    "        quadratic[i,i] += linear[i]\n",
    "    \n",
    "    quadratic_dict = {}\n",
    "    for i in range(len(z)):\n",
    "        for j in range(len(z)):\n",
    "            if j >= i:\n",
    "                quadratic_dict[(i, j)] = quadratic[i, j]\n",
    "\n",
    "    if dict_:\n",
    "        return quadratic_dict\n",
    "    else:\n",
    "        return quadratic"
   ]
  },
  {
   "cell_type": "code",
   "execution_count": null,
   "id": "27bd9fb8-3f68-4f40-b9cb-fe373d92d61b",
   "metadata": {},
   "outputs": [],
   "source": [
    "Q = mix_linear_quadratic(linear, quadratic)\n",
    "print(len(Q))"
   ]
  },
  {
   "cell_type": "markdown",
   "id": "19f4f512-e172-4cb6-b032-09ce543d45bc",
   "metadata": {},
   "source": [
    "## Sample on Dynex"
   ]
  },
  {
   "cell_type": "code",
   "execution_count": null,
   "id": "a1e9dec1-e652-4999-8ebc-2289624681d9",
   "metadata": {},
   "outputs": [],
   "source": [
    "sampleset = dynex.sample_qubo(Q, 0.0, mainnet=False, num_reads=50000, annealing_time=1000);\n",
    "print('Result:')\n",
    "print(sampleset)"
   ]
  },
  {
   "cell_type": "code",
   "execution_count": null,
   "id": "f462540c-ade1-48ae-8e31-4c24b9ca39c0",
   "metadata": {},
   "outputs": [],
   "source": [
    "results = list(sampleset.samples())"
   ]
  },
  {
   "cell_type": "code",
   "execution_count": null,
   "id": "1b8a5bce-7bc4-48b6-a803-9a80409a48ee",
   "metadata": {},
   "outputs": [],
   "source": [
    "payload = f_obj()\n",
    "for i, result in enumerate(results):\n",
    "      replacements = []\n",
    "      for key, val in result.items():\n",
    "          replacements.append((z[key], val))\n",
    "      print(f'{i}: {payload.subs(replacements)}')"
   ]
  },
  {
   "cell_type": "code",
   "execution_count": null,
   "id": "26e00fb1-2898-469d-9d35-a41a4f60a151",
   "metadata": {},
   "outputs": [],
   "source": [
    "if qubo is not None:\n",
    "    print('optimal function value:', qubo.subs(replacements))\n",
    "else:\n",
    "    print('optimal function value:', payload.subs(replacements))\n",
    "    \n",
    "optimal_values = [j for i, j in replacements]\n",
    "array = np.zeros((35,20))\n",
    "for i in range(n):\n",
    "    for j in range(N):\n",
    "        array[i,j] = optimal_values[i*N+j] \n",
    "\n",
    "print('optimal value:', optimal_values)\n",
    "print('status: SUCCESS')"
   ]
  },
  {
   "cell_type": "code",
   "execution_count": null,
   "id": "cd044507-9858-4175-a700-c94b59b83cc2",
   "metadata": {},
   "outputs": [],
   "source": [
    "%matplotlib inline\n",
    "plt.figure(figsize=(12, 12))\n",
    "plt.imshow(array, cmap='gray', vmin=0, vmax=1.)\n",
    "plt.xticks(np.arange(0, 20, 1))\n",
    "plt.yticks(np.arange(0, 35, 1))\n",
    "plt.show()"
   ]
  },
  {
   "cell_type": "code",
   "execution_count": null,
   "id": "9fe56f5b-c750-4361-9970-da7d4c3dfa25",
   "metadata": {},
   "outputs": [],
   "source": []
  }
 ],
 "metadata": {
  "kernelspec": {
   "display_name": "Python 3 (ipykernel)",
   "language": "python",
   "name": "python3"
  },
  "language_info": {
   "codemirror_mode": {
    "name": "ipython",
    "version": 3
   },
   "file_extension": ".py",
   "mimetype": "text/x-python",
   "name": "python",
   "nbconvert_exporter": "python",
   "pygments_lexer": "ipython3",
   "version": "3.10.12"
  }
 },
 "nbformat": 4,
 "nbformat_minor": 5
}
