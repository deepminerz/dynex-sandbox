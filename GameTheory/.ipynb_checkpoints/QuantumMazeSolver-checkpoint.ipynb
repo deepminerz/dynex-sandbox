{
 "cells": [
  {
   "cell_type": "markdown",
   "id": "689901fc-df88-4aea-a360-f4fefd53a2e0",
   "metadata": {},
   "source": [
    "# Quantum Game Theory - Maze Pathway Solving"
   ]
  },
  {
   "cell_type": "markdown",
   "id": "0644f6e1-0997-4a93-bd7f-a0e55eed5598",
   "metadata": {},
   "source": [
    "A maze-solving algorithm is an automated method for solving a maze. The random mouse, wall follower, Pledge, and Trémaux's algorithms are designed to be used inside the maze by a traveler with no prior knowledge of the maze, whereas the dead-end filling and shortest path algorithms are designed to be used by a person or computer program that can see the whole maze at once. "
   ]
  },
  {
   "cell_type": "markdown",
   "id": "59089126-dc78-4e01-8d00-f36e9c09dedd",
   "metadata": {},
   "source": [
    "Coded by Y3TI & Sam Rahmeh"
   ]
  },
  {
   "cell_type": "code",
   "execution_count": 1,
   "id": "74ba5179-2271-4592-a692-ba6690a32dfa",
   "metadata": {},
   "outputs": [],
   "source": [
    "import numpy as np\n",
    "import random\n",
    "import dimod\n",
    "import dynex\n",
    "import matplotlib.pyplot as plt\n",
    "import networkx as nx\n",
    "from collections import deque"
   ]
  },
  {
   "cell_type": "code",
   "execution_count": 2,
   "id": "60f77fb1-429b-4e7a-9554-85f3829002a8",
   "metadata": {},
   "outputs": [],
   "source": [
    "def generateMaze(dim):\n",
    "    maze = np.ones((dim * 2 + 1, dim * 2 + 1))\n",
    "    stack = [(0, 0)]\n",
    "    while stack:\n",
    "        x, y = stack.pop()\n",
    "        directions = [(dx, dy) for dx, dy in [(0, 1), (1, 0), (0, -1), (-1, 0)]]\n",
    "        random.shuffle(directions)\n",
    "        for dx, dy in directions:\n",
    "            nx, ny = x + dx, y + dy\n",
    "            if 0 <= nx < dim and 0 <= ny < dim and maze[2 * nx + 1, 2 * ny + 1] == 1:\n",
    "                maze[2 * nx + 1, 2 * ny + 1] = 0\n",
    "                maze[2 * x + 1 + dx, 2 * y + 1 + dy] = 0\n",
    "                stack.append((nx, ny))\n",
    "    maze[1, 0] = 0\n",
    "    maze[-2, -1] = 0\n",
    "    return maze\n",
    "\n",
    "def buildBQM(maze):\n",
    "    rows, cols = maze.shape\n",
    "    bqm = dimod.BinaryQuadraticModel.empty(dimod.BINARY)\n",
    "    pathIncentive = -1000\n",
    "    connectivityReward = 200\n",
    "    directionalBiasFactor = 0.1\n",
    "    extraPenaltyForTurns = -50\n",
    "    exitPoint = (rows - 2, cols - 1)\n",
    "    for rowIndex in range(rows):\n",
    "        for columnIndex in range(cols):\n",
    "            if maze[rowIndex, columnIndex] != 1:\n",
    "                distanceToExit = abs(exitPoint[0] - rowIndex) + abs(exitPoint[1] - columnIndex)\n",
    "                directionalIncentive = pathIncentive - directionalBiasFactor * distanceToExit\n",
    "                bqm.add_variable((rowIndex, columnIndex), directionalIncentive)\n",
    "    for rowIndex in range(rows):\n",
    "        for columnIndex in range(cols):\n",
    "            if (rowIndex, columnIndex) in bqm.linear:\n",
    "                if rowIndex > 0 and (rowIndex - 1, columnIndex) in bqm.linear:\n",
    "                    verticalBias = connectivityReward\n",
    "                    if rowIndex > exitPoint[0]:\n",
    "                        verticalBias /= 2\n",
    "                    bqm.add_interaction((rowIndex, columnIndex), (rowIndex - 1, columnIndex), verticalBias)\n",
    "                if columnIndex > 0 and (rowIndex, columnIndex - 1) in bqm.linear:\n",
    "                    horizontalBias = connectivityReward\n",
    "                    if columnIndex > exitPoint[1]:\n",
    "                        horizontalBias /= 2\n",
    "                    bqm.add_interaction((rowIndex, columnIndex), (rowIndex, columnIndex - 1), horizontalBias)\n",
    "                if rowIndex > 0 and columnIndex > 0 and (rowIndex - 1, columnIndex - 1) in bqm.linear:\n",
    "                    diagonalInteractionPenalty = extraPenaltyForTurns\n",
    "                    bqm.add_interaction((rowIndex, columnIndex), (rowIndex - 1, columnIndex - 1), diagonalInteractionPenalty)\n",
    "                if rowIndex < rows - 1 and columnIndex < cols - 1 and (rowIndex + 1, columnIndex + 1) in bqm.linear:\n",
    "                    if rowIndex < exitPoint[0] and columnIndex < exitPoint[1]:\n",
    "                        diagonalInteractionReward = connectivityReward / 3\n",
    "                        bqm.add_interaction((rowIndex, columnIndex), (rowIndex + 1, columnIndex + 1), diagonalInteractionReward)\n",
    "    return bqm\n",
    "\n",
    "def solveMaze(bqm, num_reads=20000, annealing_time=1000):\n",
    "    model = dynex.BQM(bqm)\n",
    "    sampler = dynex.DynexSampler(model, mainnet=False, description='Quantum Maze Solver', bnb=False)\n",
    "    sampleset = sampler.sample(num_reads=num_reads, annealing_time=annealing_time, debugging=False, alpha=10, beta=1)\n",
    "    solution = sampleset.first.sample\n",
    "    return solution\n",
    "\n",
    "def bfsAlgorithm(start, goal, graph):\n",
    "    queue = deque([start])\n",
    "    path = {start: None}\n",
    "    while queue:\n",
    "        current = queue.popleft()\n",
    "        if current == goal:\n",
    "            break\n",
    "        for neighbor in graph[current]:\n",
    "            if neighbor not in path:  \n",
    "                queue.append(neighbor)\n",
    "                path[neighbor] = current  \n",
    "    if goal in path:\n",
    "        step = goal\n",
    "        path_sequence = []\n",
    "        while step is not None:\n",
    "            path_sequence.append(step)\n",
    "            step = path.get(step)\n",
    "        return path_sequence[::-1]  \n",
    "    else:\n",
    "        return None \n",
    "\n",
    "def visualizeSolution(maze, solution=None):\n",
    "    fig, ax = plt.subplots(figsize=(8, 8))\n",
    "    ax.imshow(maze, cmap=plt.cm.binary, interpolation='nearest')\n",
    "    ax.set_xticks([])\n",
    "    ax.set_yticks([])\n",
    "    if solution is not None:\n",
    "        graph = {}\n",
    "        path_nodes = [node for node, active in solution.items() if active == 1]\n",
    "        for node in path_nodes:\n",
    "            graph[node] = []\n",
    "            neighbors = [(node[0] + dx, node[1] + dy) for dx, dy in [(0, 1), (1, 0), (0, -1), (-1, 0)]]\n",
    "            for neighbor in neighbors:\n",
    "                if neighbor in path_nodes:\n",
    "                    graph[node].append(neighbor)\n",
    "        start_point = (1, 0)\n",
    "        exit_point = (maze.shape[0]-2, maze.shape[1]-1)\n",
    "        path = bfsAlgorithm(start_point, exit_point, graph)\n",
    "        if path:\n",
    "            x_data = [p[1] for p in path]\n",
    "            y_data = [p[0] for p in path]\n",
    "            ax.plot(x_data, y_data, color='red', linewidth=2)\n",
    "        else:\n",
    "            print(\"No path found\")\n",
    "    plt.show()"
   ]
  },
  {
   "cell_type": "code",
   "execution_count": 3,
   "id": "ba09293d-9730-4c71-b92d-8f57d5dc7b3d",
   "metadata": {},
   "outputs": [],
   "source": [
    "# Any Maze Size larger than 30 requires mainnet=True in the solveMaze function\n",
    "mazeSize = 150"
   ]
  },
  {
   "cell_type": "code",
   "execution_count": 4,
   "id": "43a47915-0413-4ceb-b93f-df7601e97533",
   "metadata": {},
   "outputs": [
    {
     "name": "stdout",
     "output_type": "stream",
     "text": [
      "[DYNEX] MAZE GENERATED TO SIZE: 50\n"
     ]
    },
    {
     "data": {
      "image/png": "[encoded data removed]",
      "text/plain": [
       "<Figure size 800x800 with 1 Axes>"
      ]
     },
     "metadata": {},
     "output_type": "display_data"
    }
   ],
   "source": [
    "print(\"[DYNEX] MAZE GENERATED TO SIZE:\", mazeSize)\n",
    "maze = generateMaze(mazeSize)\n",
    "visualizeSolution(maze, None)"
   ]
  },
  {
   "cell_type": "code",
   "execution_count": 5,
   "id": "f3523f2f-621a-4903-aeca-adef87e7f35d",
   "metadata": {},
   "outputs": [
    {
     "name": "stdout",
     "output_type": "stream",
     "text": [
      "[DYNEX] BUILDING BQM JOB PLEASE WAIT.....\n",
      "[DYNEX] SAMPLER INITIALISED\n",
      "[DYNEX|TESTNET] *** WAITING FOR READS ***\n",
      "╭────────────┬──────────┬─────────────────┬─────────────┬───────────┬───────────────────────────┬────────────┬─────────┬────────────────╮\n",
      "│   DYNEXJOB │   QUBITS │   QUANTUM GATES │   BLOCK FEE │ ELAPSED   │ WORKERS READ              │ CIRCUITS   │ STEPS   │ GROUND STATE   │\n",
      "├────────────┼──────────┼─────────────────┼─────────────┼───────────┼───────────────────────────┼────────────┼─────────┼────────────────┤\n",
      "│         -1 │     5009 │           11334 │           0 │           │ *** WAITING FOR READS *** │            │         │                │\n",
      "╰────────────┴──────────┴─────────────────┴─────────────┴───────────┴───────────────────────────┴────────────┴─────────┴────────────────╯\n",
      "\n",
      "[DYNEX] FINISHED READ AFTER 0.42 SECONDS\n",
      "[DYNEX] SAMPLESET READY\n"
     ]
    }
   ],
   "source": [
    "# Compute using Dynex\n",
    "num_reads = 20000\n",
    "annealing_time = 1000\n",
    "print(\"[DYNEX] BUILDING BQM JOB PLEASE WAIT.....\")\n",
    "bqm = buildBQM(maze)\n",
    "solution = solveMaze(bqm, num_reads,annealing_time)"
   ]
  },
  {
   "cell_type": "code",
   "execution_count": 6,
   "id": "bfef9db5-65aa-4601-b927-0c298cc9c971",
   "metadata": {},
   "outputs": [
    {
     "name": "stdout",
     "output_type": "stream",
     "text": [
      "[DYNEX] MAZE SOLUTION FOUND FOR MAZE SIZE: 50\n"
     ]
    },
    {
     "data": {
      "image/png": "[encoded data removed]",
      "text/plain": [
       "<Figure size 800x800 with 1 Axes>"
      ]
     },
     "metadata": {},
     "output_type": "display_data"
    }
   ],
   "source": [
    "if solution:\n",
    "    print(\"[DYNEX] MAZE SOLUTION FOUND FOR MAZE SIZE:\", mazeSize)\n",
    "    visualizeSolution(maze, solution)\n",
    "else:\n",
    "    print(\"[DYNEX] MAZE SOLUTION NOT FOUND FOR MAZE SIZE:\", mazeSize)"
   ]
  },
  {
   "cell_type": "code",
   "execution_count": null,
   "id": "c41c58f4-cb2c-498e-87b0-8c79a65d4c7a",
   "metadata": {},
   "outputs": [],
   "source": []
  }
 ],
 "metadata": {
  "kernelspec": {
   "display_name": "Python 3 (ipykernel)",
   "language": "python",
   "name": "python3"
  },
  "language_info": {
   "codemirror_mode": {
    "name": "ipython",
    "version": 3
   },
   "file_extension": ".py",
   "mimetype": "text/x-python",
   "name": "python",
   "nbconvert_exporter": "python",
   "pygments_lexer": "ipython3",
   "version": "3.10.12"
  }
 },
 "nbformat": 4,
 "nbformat_minor": 5
}
