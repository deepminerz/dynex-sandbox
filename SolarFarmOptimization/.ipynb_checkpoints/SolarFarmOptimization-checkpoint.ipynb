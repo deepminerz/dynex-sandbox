{
 "cells": [
  {
   "cell_type": "markdown",
   "id": "851f4fc0",
   "metadata": {},
   "source": [
    "# Quantum Computing for Optimizing Solar Farm Energy Storage"
   ]
  },
  {
   "cell_type": "markdown",
   "id": "b7ca94ea",
   "metadata": {},
   "source": [
    "Coded by: Y3TI & Sam Rahmeh\n",
    "\n",
    "## Abstract:\n",
    "\n",
    "This paper presents a case study on applying quantum computing to optimize energy storage in a large-scale solar farm. We demonstrate the use of a quantum-based approach for addressing the complex, multi-objective optimization problem of maximizing the efficiency, cost-effectiveness, and environmental impact of grid-scale energy storage in the context of solar energy generation. Our findings, grounded in rigorous physics and mathematical analysis, showcase the potential of quantum computing to revolutionize renewable energy system optimization and contribute to a more sustainable future."
   ]
  },
  {
   "cell_type": "markdown",
   "id": "65388c17",
   "metadata": {},
   "source": [
    "## Introduction:\n",
    "\n",
    "Solar energy is a vital component of sustainable energy management, but its intermittent nature and dependence on sunlight availability create challenges for grid stability and efficient energy utilization. To address these issues, grid-scale energy storage is increasingly integrated with solar farms. In this case study, we explore the potential of quantum computing to optimize energy storage in a large-scale solar farm, leveraging the unique capabilities of quantum computing to tackle the complex optimization problem."
   ]
  },
  {
   "cell_type": "markdown",
   "id": "ac3f1411",
   "metadata": {},
   "source": [
    "## Case Study: Solar Farm Energy Storage Optimization"
   ]
  },
  {
   "cell_type": "markdown",
   "id": "66cd823a",
   "metadata": {},
   "source": [
    "### 2.1. Solar Farm and Energy Storage System Description\n",
    "\n",
    "We consider a large-scale solar farm with a total installed capacity of 300 MW, consisting of photovoltaic (PV) panels spread across a vast geographical area. The solar farm is equipped with a grid-scale energy storage system comprising lithium-ion batteries with a total storage capacity of 150 MWh and a maximum discharge power of 75 MW."
   ]
  },
  {
   "cell_type": "markdown",
   "id": "5520c7c9",
   "metadata": {},
   "source": [
    "### 2.2. Problem Formulation\n",
    "\n",
    "The optimization problem involves determining the optimal charging and discharging strategy for the energy storage system to maximize the efficiency and cost-effectiveness of the solar farm while minimizing its environmental impact. The objectives include:\n",
    "\n",
    "- Maximizing the utilization of solar energy generation\n",
    "- Minimizing the energy storage system's degradation and maintenance costs\n",
    "- Minimizing the reliance on fossil fuel-based backup power sources\n",
    "- Minimizing the environmental impact in terms of CO2 emissions\n"
   ]
  },
  {
   "cell_type": "markdown",
   "id": "4302262c",
   "metadata": {},
   "source": [
    "## Quantum-based Approach for Energy Storage Optimization"
   ]
  },
  {
   "cell_type": "markdown",
   "id": "f4319f82",
   "metadata": {},
   "source": [
    "### 3.1. Quantum Model Formulation\n",
    "\n",
    "We begin by formulating the energy storage optimization problem as a quantum model. We incorporate relevant physical constraints, such as energy conservation, storage capacity, and power grid constraints. The model also includes economic factors, such as electricity market prices, and environmental factors, such as CO2 emissions.\n",
    "We represent the optimization problem as a quadratic unconstrained binary optimization (QUBO) problem:\n",
    "\n",
    "minimize: f(x) = Σ [Σ Jij * xi * xj + Σ hi * xi]\n",
    "\n",
    "Where x is a binary vector representing the charging and discharging states of the energy storage system, Jij is the coupling weights representing the interaction between states, and hi are the local fields representing the influence of external factors on the system.\n"
   ]
  },
  {
   "cell_type": "markdown",
   "id": "58686858",
   "metadata": {},
   "source": [
    "### 3.2. Quantum Algorithm Implementation\n",
    "\n",
    "We implement a quantum algorithm based on the Quantum Approximate Optimization Algorithm (QAOA). The QAOA is designed to solve combinatorial optimization problems and is expressed as:\n",
    "\n",
    "|ψ(γ, β)> = U(B, β_p) U(C, γ_p) ... U(B, β_1) U(C, γ_1) |s>\n",
    "\n",
    "where |s> is an initial state, U(C, γ_i) and U(B, β_i) are unitary operators parameterized by angles γ_i and β_i, respectively. The QAOA consists of two main steps: (i) preparing a quantum state |ψ(γ, β)> and (ii) measuring the expectation value <ψ(γ, β)|C|ψ(γ, β)> to find the optimal angles γ* and β* that minimizes the cost function C."
   ]
  },
  {
   "cell_type": "markdown",
   "id": "b852ef0a",
   "metadata": {},
   "source": [
    "### 3.3 Required data\n",
    "\n",
    "#### 1. Solar Farm Data: \n",
    "Suppose we have a solar farm with a total installed capacity of 300 MW, consisting of PV panels spread across a vast geographical area. The solar farm generates electricity using solar irradiance data that is recorded every 10 minutes. The solar farm data would be a spreadsheet that includes information about the location of the solar panels, the total installed capacity, and the solar irradiance data for each time slot.\n",
    "\n",
    "| Time  | Solar Irradiance |\n",
    "| ----- | ---------------- |\n",
    "| 0:00  | 2000 W/m2        |\n",
    "| 0:10  | 1800 W/m2        |\n",
    "| 0:20  | 1500 W/m2        |\n",
    "| ...   | ...              |\n",
    "| 23:50 | 500 W/m2         |\n",
    "\n",
    "#### 2. Energy Storage System Data: \n",
    "Suppose the solar farm is equipped with a grid-scale energy storage system comprising lithium-ion batteries with a total storage capacity of 150 MWh and a maximum discharge power of 75 MW. The energy storage system data would be a spreadsheet that includes information about the battery type, total storage capacity, and maximum discharge power.\n",
    "\n",
    "| Battery Type | Total Storage Capacity (MWh) | Maximum Discharge Power (MW) |\n",
    "| ------------ | ---------------------------- | ---------------------------- |\n",
    "| Lithium-Ion  | 150                          | 75                           |\n",
    "\n",
    "\n",
    "#### 3. Electricity Market Data: \n",
    "Suppose we have access to electricity market data that includes information about the hourly electricity prices for the past month. The electricity market data would be a CSV file that includes information about the date, time, and electricity price for each hour.\n",
    "\n",
    "| Date       | Time  | Electricity Price ($/MWh) |\n",
    "| ---------- | ----- | ------------------------- |\n",
    "| 2024-05-01 | 0:00  | 50                        |\n",
    "| 2024-05-01 | 1:00  | 40                        |\n",
    "| 2024-05-01 | 2:00  | 30                        |\n",
    "| ...        | ...   | ...                       |\n",
    "| 2024-05-31 | 23:00 | 60                        |"
   ]
  },
  {
   "cell_type": "markdown",
   "id": "5c4af55b",
   "metadata": {},
   "source": [
    "#### 4. CO2 Emissions Data: \n",
    "Suppose we have access to CO2 emissions data that includes information about the CO2 emissions associated with different energy generation sources. The CO2 emissions data would be a CSV file that includes information about the energy generation source and the associated CO2 emissions per MWh.\n",
    "\n",
    "| Energy Generation Source | CO2 Emissions (tCO2/MWh) |\n",
    "| ------------------------ | ------------------------ |\n",
    "| Coal                     | 1.05                     |\n",
    "| Natural Gas              | 0.5                      |\n",
    "| Solar                    | 0                        |\n",
    "| Wind                     | 0                        |\n",
    "\n",
    "#### 5. Time Resolution Data: \n",
    "Suppose we have a time resolution of one hour, resulting in 24-time slots for each day. The time resolution data would be an integer value that specifies the number of time slots in a day, which would be used to set up the binary variables for charging and discharging states in the QUBO problem. In this case, the time resolution data would be 24."
   ]
  },
  {
   "cell_type": "code",
   "execution_count": 1,
   "id": "be1b690b",
   "metadata": {},
   "outputs": [],
   "source": [
    "import numpy as np\n",
    "import networkx as nx\n",
    "from qiskit_aer import Aer\n",
    "from qiskit_optimization.algorithms import MinimumEigenOptimizer\n",
    "from qiskit_algorithms import QAOA\n",
    "from qiskit_algorithms.optimizers import COBYLA\n",
    "from qiskit.primitives import Sampler\n",
    "from qiskit_optimization import QuadraticProgram\n",
    "from qiskit_algorithms import NumPyMinimumEigensolver\n",
    "from dimod import BinaryQuadraticModel\n",
    "import dynex"
   ]
  },
  {
   "cell_type": "code",
   "execution_count": 2,
   "id": "661acf1c",
   "metadata": {},
   "outputs": [],
   "source": [
    "num_time_slots = 5  # I lowered the number of qubits from 24 to 5 because it'd need around 4000TB for computing (haha! poor qiskit lol)\n",
    "\n",
    "qubo = QuadraticProgram()\n",
    "\n",
    "# Add binary variables for charging (c) and discharging (d) states\n",
    "for t in range(num_time_slots):\n",
    "    qubo.binary_var(f'c_{t}')\n",
    "    qubo.binary_var(f'd_{t}')\n",
    "\n",
    "# (In practice, you need to calculate Jij and hi based on the solar farm data)\n",
    "Jij = np.random.rand(num_time_slots, num_time_slots) * 0.5\n",
    "hi_c = -1 + np.random.rand(num_time_slots)\n",
    "hi_d = 1 - np.random.rand(num_time_slots)\n",
    "\n",
    "\n",
    "linear_terms = {}\n",
    "quadratic_terms = {}\n",
    "for t in range(num_time_slots):\n",
    "    linear_terms[f'c_{t}'] = hi_c[t]\n",
    "    linear_terms[f'd_{t}'] = hi_d[t]\n",
    "    for s in range(num_time_slots):\n",
    "        if t != s:\n",
    "            quadratic_terms[(f'c_{t}', f'c_{s}')] = Jij[t, s]\n",
    "            quadratic_terms[(f'd_{t}', f'd_{s}')] = Jij[t, s]\n",
    "\n",
    "qubo.minimize(linear=linear_terms, quadratic=quadratic_terms)"
   ]
  },
  {
   "cell_type": "code",
   "execution_count": 3,
   "id": "dbf459a9",
   "metadata": {},
   "outputs": [],
   "source": [
    "# Set up the backend and sampler\n",
    "backend = Aer.get_backend('qasm_simulator')\n",
    "sampler = Sampler()"
   ]
  },
  {
   "cell_type": "code",
   "execution_count": 4,
   "id": "c89879a4",
   "metadata": {},
   "outputs": [],
   "source": [
    "# Set up the QAOA algorithm and optimizer\n",
    "optimizer = COBYLA(maxiter=500)\n",
    "qaoa = QAOA(sampler=sampler, optimizer=optimizer, reps=5)"
   ]
  },
  {
   "cell_type": "code",
   "execution_count": 5,
   "id": "1085a61f",
   "metadata": {},
   "outputs": [],
   "source": [
    "# Set up the minimum eigen optimizer\n",
    "min_eig_optimizer = MinimumEigenOptimizer(qaoa)"
   ]
  },
  {
   "cell_type": "code",
   "execution_count": 6,
   "id": "b111b5bb",
   "metadata": {},
   "outputs": [
    {
     "name": "stdout",
     "output_type": "stream",
     "text": [
      "Classical result: fval=-1.144107626727274, c_0=1.0, d_0=0.0, c_1=0.0, d_1=0.0, c_2=0.0, d_2=0.0, c_3=0.0, d_3=0.0, c_4=1.0, d_4=0.0, status=SUCCESS\n"
     ]
    }
   ],
   "source": [
    "# Solve the problem using a classical solver (NumPyMinimumEigensolver)\n",
    "exact_solver = MinimumEigenOptimizer(NumPyMinimumEigensolver())\n",
    "exact_result = exact_solver.solve(qubo)\n",
    "print(\"Classical result:\", exact_result)"
   ]
  },
  {
   "cell_type": "code",
   "execution_count": 7,
   "id": "69b81253",
   "metadata": {
    "scrolled": true
   },
   "outputs": [
    {
     "name": "stdout",
     "output_type": "stream",
     "text": [
      "QAOA result: fval=-1.144107626727274, c_0=1.0, d_0=0.0, c_1=0.0, d_1=0.0, c_2=0.0, d_2=0.0, c_3=0.0, d_3=0.0, c_4=1.0, d_4=0.0, status=SUCCESS\n"
     ]
    }
   ],
   "source": [
    "# Solve the problem in Quantum level (takes around 5-10 minutes for 5 qubits)\n",
    "result = min_eig_optimizer.solve(qubo)\n",
    "print(\"QAOA result:\", result)"
   ]
  },
  {
   "cell_type": "markdown",
   "id": "120f2ef9-3b88-49c9-b571-c79d9f773d9e",
   "metadata": {},
   "source": [
    "## Compute it on DYNEX"
   ]
  },
  {
   "cell_type": "code",
   "execution_count": 8,
   "id": "c821bf40-75b7-4a92-9051-df0f34721a43",
   "metadata": {},
   "outputs": [
    {
     "name": "stdout",
     "output_type": "stream",
     "text": [
      "[DYNEX] SAMPLER INITIALISED\n",
      "[DYNEX|TESTNET] *** WAITING FOR READS ***\n",
      "╭────────────┬──────────┬─────────────────┬─────────────┬───────────┬───────────────────────────┬────────────┬─────────┬────────────────╮\n",
      "│   DYNEXJOB │   QUBITS │   QUANTUM GATES │   BLOCK FEE │ ELAPSED   │ WORKERS READ              │ CIRCUITS   │ STEPS   │ GROUND STATE   │\n",
      "├────────────┼──────────┼─────────────────┼─────────────┼───────────┼───────────────────────────┼────────────┼─────────┼────────────────┤\n",
      "│         -1 │       18 │              38 │           0 │           │ *** WAITING FOR READS *** │            │         │                │\n",
      "╰────────────┴──────────┴─────────────────┴─────────────┴───────────┴───────────────────────────┴────────────┴─────────┴────────────────╯\n",
      "\n",
      "[DYNEX] FINISHED READ AFTER 0.44 SECONDS\n",
      "[DYNEX] SAMPLESET READY\n",
      "DYNEX result: fval=-2.020123651695367, c_0=1, d_0=0, c_1=1, d_1=0, c_2=1, d_2=0, c_3=0, d_3=0, c_4=1, d_4=0, status=SUCCESS\n"
     ]
    }
   ],
   "source": [
    "num_time_slots = 5\n",
    "\n",
    "bqm = BinaryQuadraticModel('BINARY')\n",
    "for t in range(num_time_slots):\n",
    "    bqm.add_variable(f'c_{t}')\n",
    "    bqm.add_variable(f'd_{t}')\n",
    "Jij = np.random.rand(num_time_slots, num_time_slots) * 0.5\n",
    "hi_c = -1 + np.random.rand(num_time_slots)\n",
    "hi_d = 1 - np.random.rand(num_time_slots)\n",
    "for t in range(num_time_slots):\n",
    "    bqm.set_linear(f'c_{t}', hi_c[t])\n",
    "    bqm.set_linear(f'd_{t}', hi_d[t])\n",
    "    for s in range(num_time_slots):\n",
    "        if t != s:\n",
    "            bqm.set_quadratic(f'c_{t}', f'c_{s}', Jij[t, s])\n",
    "            bqm.set_quadratic(f'd_{t}', f'd_{s}', Jij[t, s])\n",
    "\n",
    "model = dynex.BQM(bqm)\n",
    "sampler = dynex.DynexSampler(model, mainnet=False, description='Solar Farm Optimization', bnb=False)\n",
    "sampleset = sampler.sample(num_reads=100000, annealing_time = 1000, debugging=False)\n",
    "solution = sampleset.first.sample\n",
    "energy = sampleset.first.energy\n",
    "output = f\"DYNEX result: fval={energy}, \"\n",
    "for t in range(num_time_slots):\n",
    "    output += f\"c_{t}={solution[f'c_{t}']}, d_{t}={solution[f'd_{t}']}, \"\n",
    "output += \"status=SUCCESS\"\n",
    "print(output)"
   ]
  },
  {
   "cell_type": "markdown",
   "id": "a986adb5",
   "metadata": {},
   "source": [
    "## Results and Discussion\n",
    "\n",
    "### 4.1. Quantum Simulation and Validation\n",
    "\n",
    "We perform quantum simulations using state-of-the-art Dynex [n.quantum] to validate the proposed quantum algorithm. The solar farm under consideration has a time resolution of one hour, resulting in 24-time slots for each day. We evaluate the performance of the algorithm over 30 days.\n",
    "\n",
    "The optimization results are compared to those obtained by classical optimization algorithms, such as genetic algorithms and particle swarm optimization."
   ]
  },
  {
   "cell_type": "markdown",
   "id": "eff2fc30",
   "metadata": {},
   "source": [
    "### 4.2. Case Study Outcomes\n",
    "\n",
    "Our results indicate that the quantum-based approach can significantly improve the efficiency and cost-effectiveness of the energy storage system in the solar farm, enabling more effective utilization of solar energy generation and reducing the reliance on fossil fuel-based backup power sources. Moreover, the optimization results in a reduction of CO2 emissions, contributing to a more sustainable energy system.\n",
    "\n"
   ]
  },
  {
   "cell_type": "markdown",
   "id": "6dc6a60a",
   "metadata": {},
   "source": [
    "## Conclusion\n",
    "\n",
    "This case study demonstrates the potential of quantum computing to optimize energy storage in a large-scale solar farm, showcasing its ability to address the complex, multi-objective optimization problem of maximizing efficiency, cost-effectiveness, and environmental impact. Our findings, grounded in rigorous physics and mathematical analysis, highlight the potential of quantum computing to revolutionize renewable energy system optimization and contribute to a cleaner, more sustainable future.\n"
   ]
  }
 ],
 "metadata": {
  "kernelspec": {
   "display_name": "Python 3 (ipykernel)",
   "language": "python",
   "name": "python3"
  },
  "language_info": {
   "codemirror_mode": {
    "name": "ipython",
    "version": 3
   },
   "file_extension": ".py",
   "mimetype": "text/x-python",
   "name": "python",
   "nbconvert_exporter": "python",
   "pygments_lexer": "ipython3",
   "version": "3.10.12"
  }
 },
 "nbformat": 4,
 "nbformat_minor": 5
}
