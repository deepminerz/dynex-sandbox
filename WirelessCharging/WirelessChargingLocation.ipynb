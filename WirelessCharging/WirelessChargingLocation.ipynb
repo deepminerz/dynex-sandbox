{
 "cells": [
  {
   "cell_type": "markdown",
   "id": "56f0b47e",
   "metadata": {},
   "source": [
    "# Example: Placement of Charging Stations"
   ]
  },
  {
   "cell_type": "markdown",
   "id": "d8cd7b01",
   "metadata": {},
   "source": [
    "Determining optimal locations to build new electric vehicle charging stations is a complex optimization problem. Many factors should be taken into consideration, like existing charger locations, points of interest (POIs), quantity to build, etc. In this example, we take a look at how we might formulate this optimization problem and solve it using the Dynex Neuromorphic Platform."
   ]
  },
  {
   "cell_type": "markdown",
   "id": "af01a808",
   "metadata": {},
   "source": [
    "## Problem Formulation"
   ]
  },
  {
   "cell_type": "markdown",
   "id": "b86bbd3d",
   "metadata": {},
   "source": [
    "There are many different variations of the electric vehicle charger placement problem that might be considered. For this demo, we examine the case in which a small region is under consideration, and all locations in our area of consideration are within walking distance. In this situation, we want to place new charging locations that are convenient to all POIs. For example, if the POIs are shops on a main street it is most convenient to park once in a central location. We will satisfy this need by considering the average distance from a potential new charging location all POIs. Additionally, we want to place new chargers away from existing and other new charging locations so as to minimize overlap and maximize coverage of the region.\n",
    "\n",
    "This problem can be considered as a set of 4 independent constraints (or objectives) with binary variables that represent each potential new charging station location."
   ]
  },
  {
   "cell_type": "markdown",
   "id": "5462db6e",
   "metadata": {},
   "source": [
    "## Minimize distance to POIs "
   ]
  },
  {
   "cell_type": "markdown",
   "id": "85a3a5f7",
   "metadata": {},
   "source": [
    "For each potential new charging station location, we compute the average distance to all POIs on the map. Using this value as a linear bias on each binary variable, our program will prefer locations that are (on average) close to the POIs. Note that this constraint could be replaced by an alternative one depending on the real world scenario for this problem."
   ]
  },
  {
   "cell_type": "markdown",
   "id": "81e01b57",
   "metadata": {},
   "source": [
    "## Maximize distance to existing charging stations "
   ]
  },
  {
   "cell_type": "markdown",
   "id": "76c9ebec",
   "metadata": {},
   "source": [
    "For each potential new charging station location, we compute the average distance to all existing charging locations on the map. Using the negative of this value as a linear bias on each binary variable, our program will prefer locations that are (on average) far from existing chargers."
   ]
  },
  {
   "cell_type": "markdown",
   "id": "ddbc439f",
   "metadata": {},
   "source": [
    "## Maximize distance to other new charging stations "
   ]
  },
  {
   "cell_type": "markdown",
   "id": "82bf3b88",
   "metadata": {},
   "source": [
    "For the pair of new charging station locations, we would like to maximize the distance between them. To do this, we consider all possible pairs of locations and compute the distance between them. Using the negative of this value as a quadratic bias on the product of the corresponding binary variables, our program will prefer locations that are far apart."
   ]
  },
  {
   "cell_type": "markdown",
   "id": "c8f3e471",
   "metadata": {},
   "source": [
    "## Build exactly two new charging stations "
   ]
  },
  {
   "cell_type": "markdown",
   "id": "b41da02a",
   "metadata": {},
   "source": [
    "To select exactly two new charging stations, we use dimod.generators.combinations. This function in dimod's package sets exactly num_new_cs of our binary variables (bqm.variables) to have a value of 1, and applies a strength to this constraint (gamma4). See below for more information on the tunable strength parameter."
   ]
  },
  {
   "cell_type": "markdown",
   "id": "7172487a",
   "metadata": {},
   "source": [
    "## Parameter tuning "
   ]
  },
  {
   "cell_type": "markdown",
   "id": "0a60ffbe",
   "metadata": {},
   "source": [
    "Each of these constraints is built into our BQM object with a coefficient (names all start with gamma). This term gamma is known as a Lagrange parameter and can be used to weight the constraints against each other to accurately reflect the requirements of the problem. You may wish to adjust this parameter depending on your problem requirements and size. The value set here in this program was chosen to empirically work well as a starting point for problems of a wide-variety of sizes. "
   ]
  },
  {
   "cell_type": "markdown",
   "id": "538b8380",
   "metadata": {},
   "source": [
    "# Implementation "
   ]
  },
  {
   "cell_type": "markdown",
   "id": "a08e9c86",
   "metadata": {},
   "source": [
    "First, we load the required packages:"
   ]
  },
  {
   "cell_type": "code",
   "execution_count": 1,
   "id": "0f9a8b92",
   "metadata": {},
   "outputs": [],
   "source": [
    "from itertools import product\n",
    "import json\n",
    "import random \n",
    "import numpy as np\n",
    "import pandas as pd\n",
    "import networkx as nx\n",
    "import matplotlib\n",
    "import matplotlib.pyplot as plt\n",
    "import dynex\n",
    "import dimod"
   ]
  },
  {
   "cell_type": "markdown",
   "id": "cdc6761b",
   "metadata": {},
   "source": [
    "We create a few helper functions to set up the scenario given the width and height of the grid as well as the number of points of intersts and existing number of charging stations:"
   ]
  },
  {
   "cell_type": "code",
   "execution_count": 2,
   "id": "d3b9d980",
   "metadata": {},
   "outputs": [],
   "source": [
    "def set_up_scenario(w, h, num_poi, num_cs):\n",
    "    \"\"\"Build scenario set up with specified parameters.\n",
    "    \n",
    "    Args:\n",
    "        w (int): Width of grid\n",
    "        h (int): Height of grid\n",
    "        num_poi (int): Number of points of interest\n",
    "        num_cs (int): Number of existing charging stations\n",
    "    \n",
    "    Returns:\n",
    "        G (networkx graph): Grid graph of size w by h\n",
    "        pois (list of tuples of ints): A fixed set of points of interest\n",
    "        charging_stations (list of tuples of ints): \n",
    "            Set of current charging locations\n",
    "        potential_new_cs_nodes (list of tuples of ints): \n",
    "            Potential new charging locations\n",
    "    \"\"\"\n",
    "\n",
    "    G = nx.grid_2d_graph(w, h)\n",
    "    nodes = list(G.nodes)\n",
    "\n",
    "    # Identify a fixed set of points of interest\n",
    "    pois = random.sample(nodes, k=num_poi)\n",
    "\n",
    "    # Identify a fixed set of current charging locations\n",
    "    charging_stations = random.sample(nodes, k=num_cs)\n",
    "\n",
    "    # Identify potential new charging locations\n",
    "    potential_new_cs_nodes = list(G.nodes() - charging_stations)\n",
    "\n",
    "    return G, pois, charging_stations, potential_new_cs_nodes"
   ]
  },
  {
   "cell_type": "markdown",
   "id": "34f452ad",
   "metadata": {},
   "source": [
    "The distance function returns the distance between two coordinates:"
   ]
  },
  {
   "cell_type": "code",
   "execution_count": 3,
   "id": "50f21d9b",
   "metadata": {},
   "outputs": [],
   "source": [
    "def distance(a, b):\n",
    "    return (a[0]**2 - 2*a[0]*b[0] + b[0]**2) + (a[1]**2 - 2*a[1]*b[1] + b[1]**2)"
   ]
  },
  {
   "cell_type": "markdown",
   "id": "789e1ead",
   "metadata": {},
   "source": [
    "The following function builds a binary quadratic model (bqm) from our problem scenario:"
   ]
  },
  {
   "cell_type": "code",
   "execution_count": 4,
   "id": "af54583d",
   "metadata": {},
   "outputs": [],
   "source": [
    "def build_bqm(potential_new_cs_nodes, num_poi, pois, num_cs, charging_stations, num_new_cs):\n",
    "    \"\"\"Build bqm that models our problem scenario. \n",
    "\n",
    "    Args:\n",
    "        potential_new_cs_nodes (list of tuples of ints):\n",
    "            Potential new charging locations\n",
    "        num_poi (int): Number of points of interest\n",
    "        pois (list of tuples of ints): A fixed set of points of interest\n",
    "        num_cs (int): Number of existing charging stations\n",
    "        charging_stations (list of tuples of ints): \n",
    "            Set of current charging locations\n",
    "        num_new_cs (int): Number of new charging stations desired\n",
    "    \n",
    "    Returns:\n",
    "        bqm_np (BinaryQuadraticModel): QUBO model for the input scenario\n",
    "    \"\"\"\n",
    "\n",
    "    # Tunable parameters\n",
    "    gamma1 = len(potential_new_cs_nodes) * 4\n",
    "    gamma2 = len(potential_new_cs_nodes) / 3\n",
    "    gamma3 = len(potential_new_cs_nodes) * 1.7\n",
    "    gamma4 = len(potential_new_cs_nodes) ** 3\n",
    "\n",
    "    # Build BQM using adjVectors to find best new charging location s.t. min\n",
    "    # distance to POIs and max distance to existing charging locations\n",
    "    bqm = dimod.BinaryQuadraticModel(len(potential_new_cs_nodes), 'BINARY')\n",
    "\n",
    "    # Constraint 1: Min average distance to POIs\n",
    "    if num_poi > 0:\n",
    "        for i in range(len(potential_new_cs_nodes)):\n",
    "            # Compute average distance to POIs from this node\n",
    "            cand_loc = potential_new_cs_nodes[i]\n",
    "            avg_dist = sum(distance(cand_loc, loc) for loc in pois) / num_poi\n",
    "            bqm.linear[i] += avg_dist * gamma1\n",
    "\n",
    "    # Constraint 2: Max distance to existing chargers\n",
    "    if num_cs > 0:\n",
    "        for i in range(len(potential_new_cs_nodes)):\n",
    "            # Compute average distance to POIs from this node\n",
    "            cand_loc = potential_new_cs_nodes[i]\n",
    "            avg_dist = -sum(distance(cand_loc, loc)\n",
    "                            for loc in charging_stations) / num_cs\n",
    "            bqm.linear[i] += avg_dist * gamma2\n",
    "\n",
    "    # Constraint 3: Max distance to other new charging locations\n",
    "    if num_new_cs > 1:\n",
    "        for i in range(len(potential_new_cs_nodes)):\n",
    "            for j in range(i+1, len(potential_new_cs_nodes)):\n",
    "                ai = potential_new_cs_nodes[i]\n",
    "                aj = potential_new_cs_nodes[j]\n",
    "                dist = -distance(ai, aj)\n",
    "                bqm.add_interaction(i, j, dist * gamma3)\n",
    "\n",
    "    # Constraint 4: Choose exactly num_new_cs new charging locations\n",
    "    bqm.update(dimod.generators.combinations(bqm.variables, num_new_cs, strength=gamma4))\n",
    "\n",
    "    return bqm"
   ]
  },
  {
   "cell_type": "markdown",
   "id": "cd1f8e51",
   "metadata": {},
   "source": [
    "Next we define a function to retrieve the results in the terminal output:"
   ]
  },
  {
   "cell_type": "code",
   "execution_count": 5,
   "id": "719805a4",
   "metadata": {},
   "outputs": [],
   "source": [
    "def printout_solution_to_cmdline(pois, num_poi, charging_stations, num_cs, new_charging_nodes, num_new_cs):\n",
    "    \"\"\"Print solution statistics to command line.\n",
    "    \n",
    "    Args:\n",
    "        pois (list of tuples of ints): A fixed set of points of interest\n",
    "        num_poi (int): Number of points of interest\n",
    "        charging_stations (list of tuples of ints): \n",
    "            A fixed set of current charging locations\n",
    "        num_cs (int): Number of existing charging stations\n",
    "        new_charging_nodes (list of tuples of ints): \n",
    "            Locations of new charging stations\n",
    "        num_new_cs (int): Number of new charging stations desired\n",
    "    \n",
    "    Returns:\n",
    "        None.\n",
    "    \"\"\"\n",
    "\n",
    "    print(\"\\nSolution returned: \\n------------------\")\n",
    "\n",
    "    print(\"\\nNew charging locations:\\t\\t\\t\\t\", new_charging_nodes)\n",
    "\n",
    "    if num_poi > 0:\n",
    "        poi_avg_dist = [0] * len(new_charging_nodes)\n",
    "        for loc in pois:\n",
    "            for i, new in enumerate(new_charging_nodes):\n",
    "                poi_avg_dist[i] += sum(abs(a - b) for a, b in zip(new, loc)) / num_poi\n",
    "        print(\"Average distance to POIs:\\t\\t\\t\", poi_avg_dist)\n",
    "\n",
    "    if num_cs > 0:\n",
    "        old_cs_avg_dist = [sum(abs(a - b) for a, b in zip(new, loc) for loc in charging_stations) / num_cs for new in new_charging_nodes]\n",
    "        print(\"Average distance to old charging stations:\\t\", old_cs_avg_dist)\n",
    "\n",
    "    if num_new_cs > 1:\n",
    "        new_cs_dist = 0\n",
    "        for i in range(num_new_cs):\n",
    "            for j in range(i+1, num_new_cs):\n",
    "                new_cs_dist += abs(new_charging_nodes[i][0]-new_charging_nodes[j][0])+abs(new_charging_nodes[i][1]-new_charging_nodes[j][1])\n",
    "        print(\"Distance between new chargers:\\t\\t\\t\", new_cs_dist)"
   ]
  },
  {
   "cell_type": "markdown",
   "id": "2bbd8bd0",
   "metadata": {},
   "source": [
    "We also want to create an output image of the solution scenario. Black nodes represent available space, red nodes the current charger locations, nodes marked \"P\" the Point of Interest (POI) locations and finally blue nodes the new charger locations:"
   ]
  },
  {
   "cell_type": "code",
   "execution_count": 6,
   "id": "e6e5ec4b",
   "metadata": {},
   "outputs": [],
   "source": [
    "def save_output_image(G, pois, charging_stations, new_charging_nodes):\n",
    "    \"\"\" Create output image of solution scenario.\n",
    "            - Black nodes: available space\n",
    "            - Red nodes: current charger location\n",
    "            - Nodes marked 'P': POI locations\n",
    "            - Blue nodes: new charger locations\n",
    "\n",
    "    Args:\n",
    "        G (networkx graph): Grid graph of size w by h\n",
    "        pois (list of tuples of ints): A fixed set of points of interest\n",
    "        charging_stations (list of tuples of ints): \n",
    "            A fixed set of current charging locations\n",
    "        new_charging_nodes (list of tuples of ints): \n",
    "            Locations of new charging stations\n",
    "    \n",
    "    Returns:\n",
    "        None. Output saved to file \"map.png\".\n",
    "    \"\"\"\n",
    "\n",
    "    fig, (ax1, ax2) = plt.subplots(1, 2)\n",
    "    fig.suptitle('New EV Charger Locations')\n",
    "    pos = {x: [x[0],x[1]] for x in G.nodes()}\n",
    "\n",
    "    # Locate POIs in map\n",
    "    poi_graph = G.subgraph(pois)\n",
    "    poi_labels = {x: 'P' for x in poi_graph.nodes()}\n",
    "\n",
    "    # Locate old charging stations in map\n",
    "    cs_graph = G.subgraph(charging_stations)\n",
    "\n",
    "    # Locate old charging stations at POIs in map\n",
    "    poi_cs_list = set(pois) - (set(pois)-set(charging_stations))\n",
    "    poi_cs_graph = G.subgraph(poi_cs_list)\n",
    "    poi_cs_labels = {x: 'P' for x in poi_graph.nodes()}\n",
    "\n",
    "    # Draw old map (left image)\n",
    "    nx.draw_networkx(G, ax=ax1, pos=pos, with_labels=False, node_color='k', font_color='w')\n",
    "    nx.draw_networkx(poi_graph, ax=ax1, pos=pos, with_labels=True,\n",
    "                        labels=poi_labels, node_color='k', font_color='w')\n",
    "    nx.draw_networkx(cs_graph, ax=ax1, pos=pos, with_labels=False, node_color='r',\n",
    "                        font_color='k')\n",
    "    nx.draw_networkx(poi_cs_graph, ax=ax1, pos=pos, with_labels=True,\n",
    "                        labels=poi_cs_labels, node_color='r', font_color='w')\n",
    "\n",
    "    # Draw new map (right image)\n",
    "    new_cs_graph = G.subgraph(new_charging_nodes)\n",
    "    nx.draw_networkx(G, ax=ax2, pos=pos, with_labels=False, node_color='k',\n",
    "                        font_color='w')\n",
    "    nx.draw_networkx(poi_graph, ax=ax2, pos=pos, with_labels=True,\n",
    "                        labels=poi_labels,node_color='k', font_color='w')\n",
    "    nx.draw_networkx(cs_graph, ax=ax2, pos=pos, with_labels=False, node_color='r',\n",
    "                        font_color='k')\n",
    "    nx.draw_networkx(poi_cs_graph, ax=ax2, pos=pos, with_labels=True,\n",
    "                        labels=poi_cs_labels,  node_color='r', font_color='w')\n",
    "    nx.draw_networkx(new_cs_graph, ax=ax2, pos=pos, with_labels=False,\n",
    "                        node_color='#00b4d9', font_color='w')\n",
    "\n",
    "    # Save image\n",
    "    plt.savefig(\"map.png\")"
   ]
  },
  {
   "cell_type": "markdown",
   "id": "cb637036",
   "metadata": {},
   "source": [
    "## Setting the Parameters"
   ]
  },
  {
   "cell_type": "markdown",
   "id": "84445343",
   "metadata": {},
   "source": [
    "In our example we define a grid with the dimensions 15 x 15 and three Points of Interest (POI). We also place four existing charging stations and want to determine two new charging stations:"
   ]
  },
  {
   "cell_type": "code",
   "execution_count": 7,
   "id": "5932c423",
   "metadata": {},
   "outputs": [],
   "source": [
    "w = 15 # width of grid\n",
    "h = 15 # height of grid\n",
    "num_poi = 3 # number of points of interest\n",
    "num_cs = 4 # number of existing charging stations\n",
    "num_new_cs = 2 # number of new charging stations to be placed"
   ]
  },
  {
   "cell_type": "markdown",
   "id": "966badba",
   "metadata": {},
   "source": [
    "Then be build the large grid graph for the city:"
   ]
  },
  {
   "cell_type": "code",
   "execution_count": 8,
   "id": "3906fc5f",
   "metadata": {},
   "outputs": [],
   "source": [
    "# Build large grid graph for city\n",
    "G, pois, charging_stations, potential_new_cs_nodes = set_up_scenario(w, h, num_poi, num_cs)"
   ]
  },
  {
   "cell_type": "markdown",
   "id": "e4abb4de",
   "metadata": {},
   "source": [
    "And call the function to build the BQM:"
   ]
  },
  {
   "cell_type": "code",
   "execution_count": 9,
   "id": "27f5237e",
   "metadata": {},
   "outputs": [],
   "source": [
    "# Build BQM\n",
    "bqm = build_bqm(potential_new_cs_nodes, num_poi, pois, num_cs, charging_stations, num_new_cs)"
   ]
  },
  {
   "cell_type": "markdown",
   "id": "813ee6dd",
   "metadata": {},
   "source": [
    "To run the BQM on the Dynex Neuromorphic Computing Platform, we create the Dynex Sampler:"
   ]
  },
  {
   "cell_type": "code",
   "execution_count": 10,
   "id": "4208a5e2",
   "metadata": {},
   "outputs": [],
   "source": [
    "# run on Dynex:\n",
    "model = dynex.BQM(bqm);\n",
    "sampler = dynex.DynexSampler(model, mainnet=False, description='Wireless Charging Location', bnb=False);"
   ]
  },
  {
   "cell_type": "markdown",
   "id": "e09041b8",
   "metadata": {},
   "source": [
    "We submit the model to the Dynex platform and specify that we want to read from 1024 Dynex chips after an annealing time of 100 integration steps:"
   ]
  },
  {
   "cell_type": "code",
   "execution_count": 11,
   "id": "a3559fc9",
   "metadata": {},
   "outputs": [
    {
     "name": "stdout",
     "output_type": "stream",
     "text": [
      "[DYNEX] SAMPLER INITIALISED\n",
      "[DYNEX|TESTNET] *** WAITING FOR READS ***\n",
      "╭────────────┬──────────┬─────────────────┬─────────────┬───────────┬───────────────────────────┬────────────┬─────────┬────────────────╮\n",
      "│   DYNEXJOB │   QUBITS │   QUANTUM GATES │   BLOCK FEE │ ELAPSED   │ WORKERS READ              │ CIRCUITS   │ STEPS   │ GROUND STATE   │\n",
      "├────────────┼──────────┼─────────────────┼─────────────┼───────────┼───────────────────────────┼────────────┼─────────┼────────────────┤\n",
      "│         -1 │      229 │           24539 │           0 │           │ *** WAITING FOR READS *** │            │         │                │\n",
      "╰────────────┴──────────┴─────────────────┴─────────────┴───────────┴───────────────────────────┴────────────┴─────────┴────────────────╯\n",
      "\n",
      "[DYNEX] FINISHED READ AFTER 0.32 SECONDS\n",
      "[DYNEX] SAMPLESET READY\n"
     ]
    }
   ],
   "source": [
    "sampleset = sampler.sample(num_reads=1024, annealing_time=100, debugging=False);"
   ]
  },
  {
   "cell_type": "markdown",
   "id": "854e9bc1",
   "metadata": {},
   "source": [
    "The sample with the lowest energy is captured in variable 'ss', which we now apply:"
   ]
  },
  {
   "cell_type": "code",
   "execution_count": 12,
   "id": "053e4aee-2846-4fd6-8714-efc170a53fdc",
   "metadata": {},
   "outputs": [],
   "source": [
    "ss = sampleset.first.sample"
   ]
  },
  {
   "cell_type": "code",
   "execution_count": 13,
   "id": "b128ff6d",
   "metadata": {},
   "outputs": [],
   "source": [
    "new_charging_nodes = [potential_new_cs_nodes[k] for k, v in ss.items() if v == 1]"
   ]
  },
  {
   "cell_type": "markdown",
   "id": "03500f12",
   "metadata": {},
   "source": [
    "We print and plot the results for the new charging stations to be placed:"
   ]
  },
  {
   "cell_type": "code",
   "execution_count": 14,
   "id": "0435aa14",
   "metadata": {},
   "outputs": [
    {
     "name": "stdout",
     "output_type": "stream",
     "text": [
      "\n",
      "Solution returned: \n",
      "------------------\n",
      "\n",
      "New charging locations:\t\t\t\t [(9, 10), (5, 9)]\n",
      "Average distance to POIs:\t\t\t [7.333333333333334, 7.0]\n",
      "Average distance to old charging stations:\t [14.0, 9.0]\n",
      "Distance between new chargers:\t\t\t 5\n"
     ]
    }
   ],
   "source": [
    "# Print results to commnand-line for user\n",
    "printout_solution_to_cmdline(pois, num_poi, charging_stations, num_cs, new_charging_nodes, num_new_cs)"
   ]
  },
  {
   "cell_type": "code",
   "execution_count": 15,
   "id": "9108a069",
   "metadata": {},
   "outputs": [
    {
     "data": {
      "image/png": "[encoded data removed]",
      "text/plain": [
       "<Figure size 640x480 with 2 Axes>"
      ]
     },
     "metadata": {},
     "output_type": "display_data"
    }
   ],
   "source": [
    "# Create scenario output image\n",
    "save_output_image(G, pois, charging_stations, new_charging_nodes)"
   ]
  },
  {
   "cell_type": "markdown",
   "id": "6c5bd67d",
   "metadata": {},
   "source": [
    "## References "
   ]
  },
  {
   "cell_type": "markdown",
   "id": "1063cc65",
   "metadata": {},
   "source": [
    "[1] Pagany, Raphaela, Anna Marquardt, and Roland Zink. \"Electric Charging Demand Location Model—A User-and Destination-Based Locating Approach for Electric Vehicle Charging Stations.\" Sustainability 11.8 (2019): 2301. https://doi.org/10.3390/su11082301"
   ]
  }
 ],
 "metadata": {
  "kernelspec": {
   "display_name": "Python 3 (ipykernel)",
   "language": "python",
   "name": "python3"
  },
  "language_info": {
   "codemirror_mode": {
    "name": "ipython",
    "version": 3
   },
   "file_extension": ".py",
   "mimetype": "text/x-python",
   "name": "python",
   "nbconvert_exporter": "python",
   "pygments_lexer": "ipython3",
   "version": "3.10.12"
  }
 },
 "nbformat": 4,
 "nbformat_minor": 5
}
