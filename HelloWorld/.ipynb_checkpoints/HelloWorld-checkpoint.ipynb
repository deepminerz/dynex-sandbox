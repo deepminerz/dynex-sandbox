{
 "cells": [
  {
   "cell_type": "markdown",
   "id": "dab9797a-d695-430d-9345-801697b584db",
   "metadata": {},
   "source": [
    "# Dynex - Hello World"
   ]
  },
  {
   "cell_type": "code",
   "execution_count": 1,
   "id": "ce9c9138-5168-49a6-953b-69dd0c2cd297",
   "metadata": {},
   "outputs": [],
   "source": [
    "import dynex\n",
    "import dimod\n",
    "from pyqubo import Array"
   ]
  },
  {
   "cell_type": "markdown",
   "id": "e3d50bf1-174a-49a2-8e4a-4b38d755e3b9",
   "metadata": {},
   "source": [
    "## Verify Version of Dynex SDK"
   ]
  },
  {
   "cell_type": "code",
   "execution_count": 2,
   "id": "cf95e0fb-fd5e-42ef-a802-eaf70fb5eee7",
   "metadata": {},
   "outputs": [
    {
     "data": {
      "text/plain": [
       "'0.1.15'"
      ]
     },
     "execution_count": 2,
     "metadata": {},
     "output_type": "execute_result"
    }
   ],
   "source": [
    "dynex.__version__"
   ]
  },
  {
   "cell_type": "markdown",
   "id": "bc8795b4-bfd8-486e-b2e0-d98785b2aa49",
   "metadata": {},
   "source": [
    "## Test your configuration"
   ]
  },
  {
   "cell_type": "markdown",
   "id": "2e763f4f-d24f-4ca7-93a3-cdab70950a0a",
   "metadata": {},
   "source": [
    "Successful run is required to start sampling with the Dynex SDK"
   ]
  },
  {
   "cell_type": "code",
   "execution_count": 3,
   "id": "442e7b70-7213-430c-82ef-5b165d1f382a",
   "metadata": {},
   "outputs": [
    {
     "name": "stdout",
     "output_type": "stream",
     "text": [
      "[DYNEX] TEST: dimod BQM construction...\n",
      "[DYNEX] PASSED\n",
      "[DYNEX] TEST: Dynex Sampler object...\n",
      "[DYNEX] PASSED\n",
      "[DYNEX] TEST: submitting sample file...\n",
      "[DYNEX] PASSED\n",
      "[DYNEX] TEST: retrieving samples...\n",
      "[DYNEX] PASSED\n",
      "[DYNEX] TEST RESULT: ALL TESTS PASSED\n"
     ]
    }
   ],
   "source": [
    "dynex.test()"
   ]
  },
  {
   "cell_type": "markdown",
   "id": "fced7cc0-66eb-4269-b7b4-b284516dcb3e",
   "metadata": {},
   "source": [
    "## View your API acccount"
   ]
  },
  {
   "cell_type": "code",
   "execution_count": 4,
   "id": "31e09dcd-a9bb-4d7a-80e0-f343faa3f3d1",
   "metadata": {},
   "outputs": [
    {
     "name": "stdout",
     "output_type": "stream",
     "text": [
      "ACCOUNT: y3ti@y3ti.uk\n",
      "API SUCCESSFULLY CONNECTED TO DYNEX\n",
      "-----------------------------------\n",
      "ACCOUNT LIMITS:\n",
      "MAXIMUM NUM_READS: 100,000\n",
      "MAXIMUM ANNEALING_TIME: 10,000\n",
      "MAXIMUM JOB DURATION: 60 MINUTES\n",
      "COMPUTE:\n",
      "CURRENT AVG BLOCK FEE: 287.919127274 DNX\n",
      "USAGE:\n",
      "AVAILABLE BALANCE: 1,170.1119319 DNX\n",
      "USAGE TOTAL: 1,330.8880681 DNX\n"
     ]
    }
   ],
   "source": [
    "dynex.account_status()"
   ]
  },
  {
   "cell_type": "markdown",
   "id": "1e49bfb6-7181-46e1-85a2-af8c051d9139",
   "metadata": {},
   "source": [
    "## Create a simple QUBO formulation"
   ]
  },
  {
   "cell_type": "code",
   "execution_count": 5,
   "id": "aebae30f-3fd8-4f3a-9cd2-bbc9281be89a",
   "metadata": {},
   "outputs": [],
   "source": [
    "N = 15\n",
    "K = 3\n",
    "numbers = [4.8097315016016315, 4.325157567810298, 2.9877429101815127,\n",
    "           3.199880179616316, 0.5787939511978596, 1.2520928214246918,\n",
    "           2.262867466401502, 1.2300003067401255, 2.1601079352817925,\n",
    "           3.63753899583021, 4.598232793833491, 2.6215815162575646,\n",
    "           3.4227134835783364, 0.28254151584552023, 4.2548151473817075]\n",
    "\n",
    "q = Array.create('q', N, 'BINARY')\n",
    "H = sum(numbers[i] * q[i] for i in range(N)) + 5.0 * (sum(q) - K)**2\n",
    "model = H.compile()\n",
    "Q, offset = model.to_qubo(index_label=True)"
   ]
  },
  {
   "cell_type": "code",
   "execution_count": 6,
   "id": "d3f7fb3c-69f0-4078-92d7-1910533744b0",
   "metadata": {},
   "outputs": [],
   "source": [
    "# BQM from QUBO:\n",
    "bqm = dimod.BinaryQuadraticModel.from_qubo(Q, offset)"
   ]
  },
  {
   "cell_type": "markdown",
   "id": "d82490d8-17f9-47c5-a0a2-84bcc6611939",
   "metadata": {},
   "source": [
    "## Sample on Dynex"
   ]
  },
  {
   "cell_type": "code",
   "execution_count": 9,
   "id": "9c390424-e2ed-4c12-8d3c-12ce9a86d4af",
   "metadata": {},
   "outputs": [
    {
     "name": "stdout",
     "output_type": "stream",
     "text": [
      "╭────────────┬──────────┬─────────────────┬─────────────┬───────────┬────────────────┬────────────┬─────────┬────────────────╮\n",
      "│   DYNEXJOB │   QUBITS │   QUANTUM GATES │   BLOCK FEE │   ELAPSED │   WORKERS READ │   CIRCUITS │   STEPS │   GROUND STATE │\n",
      "├────────────┼──────────┼─────────────────┼─────────────┼───────────┼────────────────┼────────────┼─────────┼────────────────┤\n",
      "│       8299 │       23 │             128 │        0.04 │      0.47 │              1 │       4992 │     200 │      290466.00 │\n",
      "╰────────────┴──────────┴─────────────────┴─────────────┴───────────┴────────────────┴────────────┴─────────┴────────────────╯\n",
      "╭────────────┬─────────────────┬────────────┬───────┬───────────┬──────────────┬─────────────────────────────┬───────────┬──────────╮\n",
      "│     WORKER │         VERSION │   CIRCUITS │   LOC │    ENERGY │      RUNTIME │                 LAST UPDATE │     STEPS │   STATUS │\n",
      "├────────────┼─────────────────┼────────────┼───────┼───────────┼──────────────┼─────────────────────────────┼───────────┼──────────┤\n",
      "│ fd22..2aac │ 2.3.5.OZM.127.L │       4992 │     0 │      0.00 │ 6.623494694s │ 2024-05-15T10:14:02.901367Z │ 0 (0.00%) │  \u001b[1;31mSTOPPED\u001b[0m │\n",
      "├────────────┼─────────────────┼────────────┼───────┼───────────┼──────────────┼─────────────────────────────┼───────────┼──────────┤\n",
      "│ 0b80..ecc6 │ 2.3.5.OZM.128.W │       4992 │     0 │      0.00 │ 4.117637317s │ 2024-05-15T10:14:05.407226Z │ 0 (0.00%) │  \u001b[1;31mSTOPPED\u001b[0m │\n",
      "├────────────┼─────────────────┼────────────┼───────┼───────────┼──────────────┼─────────────────────────────┼───────────┼──────────┤\n",
      "│ 879f..e95a │ 2.3.5.OZM.127.L │       4992 │     0 │      0.00 │ 3.249056135s │ 2024-05-15T10:14:06.275808Z │ 0 (0.00%) │  \u001b[1;31mSTOPPED\u001b[0m │\n",
      "├────────────┼─────────────────┼────────────┼───────┼───────────┼──────────────┼─────────────────────────────┼───────────┼──────────┤\n",
      "│ c25a..e19b │ 2.3.5.OZM.128.L │       4992 │     0 │      0.00 │ 6.106201526s │ 2024-05-15T10:14:03.418663Z │ 0 (0.00%) │  \u001b[1;31mSTOPPED\u001b[0m │\n",
      "├────────────┼─────────────────┼────────────┼───────┼───────────┼──────────────┼─────────────────────────────┼───────────┼──────────┤\n",
      "│ d131..9148 │ 2.3.5.OZM.127.L │       4992 │     0 │      0.00 │ 1.486622001s │ 2024-05-15T10:14:08.038243Z │ 0 (0.00%) │  \u001b[1;31mSTOPPED\u001b[0m │\n",
      "├────────────┼─────────────────┼────────────┼───────┼───────────┼──────────────┼─────────────────────────────┼───────────┼──────────┤\n",
      "│ f4a9..862d │ 2.3.5.OZM.128.L │       4992 │     0 │      0.00 │ 2.791439457s │ 2024-05-15T10:14:06.733426Z │ 0 (0.00%) │  \u001b[1;31mSTOPPED\u001b[0m │\n",
      "├────────────┼─────────────────┼────────────┼───────┼───────────┼──────────────┼─────────────────────────────┼───────────┼──────────┤\n",
      "│ 05c6..f5e9 │ 2.3.5.OZM.128.W │       4992 │     0 │      0.00 │  1.09861379s │ 2024-05-15T10:14:08.426252Z │ 0 (0.00%) │  \u001b[1;31mSTOPPED\u001b[0m │\n",
      "├────────────┼─────────────────┼────────────┼───────┼───────────┼──────────────┼─────────────────────────────┼───────────┼──────────┤\n",
      "│ c70c..e588 │ 2.3.5.OZM.128.L │       4992 │     5 │ 290466.00 │ 348.629121ms │ 2024-05-15T10:14:09.176237Z │ 0 (0.00%) │  \u001b[1;31mSTOPPED\u001b[0m │\n",
      "├────────────┼─────────────────┼────────────┼───────┼───────────┼──────────────┼─────────────────────────────┼───────────┼──────────┤\n",
      "│ ef30..760a │ 2.3.5.OZM.128.L │       4992 │     5 │ 290466.00 │ 3.012136523s │  2024-05-15T10:14:06.51273Z │ 0 (0.00%) │  \u001b[1;31mSTOPPED\u001b[0m │\n",
      "├────────────┼─────────────────┼────────────┼───────┼───────────┼──────────────┼─────────────────────────────┼───────────┼──────────┤\n",
      "│ dcfd..7dbe │ 2.3.5.OZM.127.L │       4992 │     6 │ 290466.00 │ 1.646497233s │  2024-05-15T10:14:07.87837Z │ 0 (0.00%) │  \u001b[1;31mSTOPPED\u001b[0m │\n",
      "╰────────────┴─────────────────┴────────────┴───────┴───────────┴──────────────┴─────────────────────────────┴───────────┴──────────╯\n",
      "[DYNEX] FINISHED READ AFTER 47.02 SECONDS\n",
      "[DYNEX] SAMPLESET READY\n",
      "Result:\n",
      "   0  1  2  3  4  5  6  7  8  9 10 11 12 13 14   energy num_oc.\n",
      "0  0  1  0  0  0  0  0  1  0  0  1  0  0  0  0 2.091336       1\n",
      "['BINARY', 1 rows, 1 samples, 15 variables]\n"
     ]
    }
   ],
   "source": [
    "model = dynex.BQM(bqm);\n",
    "sampler = dynex.DynexSampler(model, mainnet=False, description='Dynex Hello World', bnb=False);\n",
    "sampleset = sampler.sample(num_reads=5000, annealing_time=200, debugging=False);\n",
    "print('Result:')\n",
    "print(sampleset)"
   ]
  },
  {
   "cell_type": "markdown",
   "id": "d4e5688d-bc98-4b44-8c22-0c30884ddef5",
   "metadata": {},
   "source": [
    "## Sample on Dynex using clones"
   ]
  },
  {
   "cell_type": "code",
   "execution_count": 8,
   "id": "00b7abac-2c7b-450a-ba03-399d765625ce",
   "metadata": {},
   "outputs": [
    {
     "ename": "Exception",
     "evalue": "[DYNEX] ERROR: Clone sampling is only supported on the mainnet",
     "output_type": "error",
     "traceback": [
      "\u001b[0;31m---------------------------------------------------------------------------\u001b[0m",
      "\u001b[0;31mException\u001b[0m                                 Traceback (most recent call last)",
      "Cell \u001b[0;32mIn[8], line 3\u001b[0m\n\u001b[1;32m      1\u001b[0m model \u001b[38;5;241m=\u001b[39m dynex\u001b[38;5;241m.\u001b[39mBQM(bqm);\n\u001b[1;32m      2\u001b[0m sampler \u001b[38;5;241m=\u001b[39m dynex\u001b[38;5;241m.\u001b[39mDynexSampler(model, mainnet\u001b[38;5;241m=\u001b[39m\u001b[38;5;28;01mFalse\u001b[39;00m, description\u001b[38;5;241m=\u001b[39m\u001b[38;5;124m'\u001b[39m\u001b[38;5;124m Hello World\u001b[39m\u001b[38;5;124m'\u001b[39m, bnb\u001b[38;5;241m=\u001b[39m\u001b[38;5;28;01mFalse\u001b[39;00m);\n\u001b[0;32m----> 3\u001b[0m sampleset \u001b[38;5;241m=\u001b[39m \u001b[43msampler\u001b[49m\u001b[38;5;241;43m.\u001b[39;49m\u001b[43msample\u001b[49m\u001b[43m(\u001b[49m\u001b[43mnum_reads\u001b[49m\u001b[38;5;241;43m=\u001b[39;49m\u001b[38;5;241;43m20000\u001b[39;49m\u001b[43m,\u001b[49m\u001b[43m \u001b[49m\u001b[43mannealing_time\u001b[49m\u001b[38;5;241;43m=\u001b[39;49m\u001b[38;5;241;43m1000\u001b[39;49m\u001b[43m,\u001b[49m\u001b[43m \u001b[49m\u001b[43mclones\u001b[49m\u001b[38;5;241;43m=\u001b[39;49m\u001b[38;5;241;43m4\u001b[39;49m\u001b[43m,\u001b[49m\u001b[43m \u001b[49m\u001b[43mdebugging\u001b[49m\u001b[38;5;241;43m=\u001b[39;49m\u001b[38;5;28;43;01mFalse\u001b[39;49;00m\u001b[43m)\u001b[49m;\n\u001b[1;32m      4\u001b[0m \u001b[38;5;28mprint\u001b[39m(\u001b[38;5;124m'\u001b[39m\u001b[38;5;124mResult:\u001b[39m\u001b[38;5;124m'\u001b[39m)\n\u001b[1;32m      5\u001b[0m \u001b[38;5;28mprint\u001b[39m(sampleset)\n",
      "File \u001b[0;32m~/.local/lib/python3.10/site-packages/dynex/__init__.py:1658\u001b[0m, in \u001b[0;36mDynexSampler.sample\u001b[0;34m(self, num_reads, annealing_time, clones, switchfraction, alpha, beta, gamma, delta, epsilon, zeta, minimum_stepsize, debugging, block_fee)\u001b[0m\n\u001b[1;32m   1656\u001b[0m     \u001b[38;5;28;01mraise\u001b[39;00m \u001b[38;5;167;01mException\u001b[39;00m(\u001b[38;5;124m\"\u001b[39m\u001b[38;5;124m[DYNEX] ERROR: Value of clones must be in range [1,128]\u001b[39m\u001b[38;5;124m\"\u001b[39m);\n\u001b[1;32m   1657\u001b[0m \u001b[38;5;28;01mif\u001b[39;00m \u001b[38;5;28mself\u001b[39m\u001b[38;5;241m.\u001b[39mmainnet\u001b[38;5;241m==\u001b[39m\u001b[38;5;28;01mFalse\u001b[39;00m \u001b[38;5;129;01mand\u001b[39;00m clones \u001b[38;5;241m>\u001b[39m \u001b[38;5;241m1\u001b[39m:\n\u001b[0;32m-> 1658\u001b[0m     \u001b[38;5;28;01mraise\u001b[39;00m \u001b[38;5;167;01mException\u001b[39;00m(\u001b[38;5;124m\"\u001b[39m\u001b[38;5;124m[DYNEX] ERROR: Clone sampling is only supported on the mainnet\u001b[39m\u001b[38;5;124m\"\u001b[39m);\n\u001b[1;32m   1660\u001b[0m \u001b[38;5;66;03m# sampling without clones: -------------------------------------------------------------------------------------------\u001b[39;00m\n\u001b[1;32m   1661\u001b[0m \u001b[38;5;28;01mif\u001b[39;00m clones \u001b[38;5;241m==\u001b[39m \u001b[38;5;241m1\u001b[39m:\n",
      "\u001b[0;31mException\u001b[0m: [DYNEX] ERROR: Clone sampling is only supported on the mainnet"
     ]
    }
   ],
   "source": [
    "model = dynex.BQM(bqm);\n",
    "sampler = dynex.DynexSampler(model, mainnet=True, description='Dynex Hello World', bnb=False);\n",
    "sampleset = sampler.sample(num_reads=20000, annealing_time=1000, clones=4, debugging=False);\n",
    "print('Result:')\n",
    "print(sampleset)"
   ]
  },
  {
   "cell_type": "markdown",
   "id": "171a368e-bf05-46f7-aaaf-122034f23dcd",
   "metadata": {},
   "source": [
    "## Draw Sampleset"
   ]
  },
  {
   "cell_type": "code",
   "execution_count": null,
   "id": "eb8bd278-3162-4b72-9315-a1c64313e7bb",
   "metadata": {},
   "outputs": [],
   "source": [
    "import matplotlib.pyplot as plt\n",
    "import numpy as np"
   ]
  },
  {
   "cell_type": "code",
   "execution_count": null,
   "id": "d64d678e-62a4-42a5-90fd-d50d2e493905",
   "metadata": {},
   "outputs": [],
   "source": [
    "# generate data:\n",
    "data = np.zeros(len(sampleset.variables)) \n",
    "for s in sampleset.record: #s[0] samples [1] energy [2] num_oc\n",
    "    for i in range(0,len(s[0])):\n",
    "        data[i] += ( s[0][i] * s[2] ); # weighted by num_oc\n",
    "\n",
    "plt.bar(sampleset.variables, data)\n",
    "plt.bar(sampleset.variables, sampleset.first.sample.values())\n",
    "plt.xlabel(\"Variables\")\n",
    "plt.ylabel(\"Occurences (positive)\")\n",
    "plt.title(\"Sampleset (orange: lowest ground state)\")\n",
    "plt.show() "
   ]
  },
  {
   "cell_type": "code",
   "execution_count": null,
   "id": "69e95b5d-9b7c-4c72-9cbd-5f2f264993d1",
   "metadata": {},
   "outputs": [],
   "source": []
  },
  {
   "cell_type": "code",
   "execution_count": null,
   "id": "5e3e8d0c-61bf-41a6-948c-c6535115cc33",
   "metadata": {},
   "outputs": [],
   "source": []
  }
 ],
 "metadata": {
  "kernelspec": {
   "display_name": "Python 3 (ipykernel)",
   "language": "python",
   "name": "python3"
  },
  "language_info": {
   "codemirror_mode": {
    "name": "ipython",
    "version": 3
   },
   "file_extension": ".py",
   "mimetype": "text/x-python",
   "name": "python",
   "nbconvert_exporter": "python",
   "pygments_lexer": "ipython3",
   "version": "3.10.12"
  }
 },
 "nbformat": 4,
 "nbformat_minor": 5
}
