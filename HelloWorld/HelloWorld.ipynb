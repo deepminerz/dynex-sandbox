{
 "cells": [
  {
   "cell_type": "markdown",
   "id": "dab9797a-d695-430d-9345-801697b584db",
   "metadata": {},
   "source": [
    "# Dynex - Hello World"
   ]
  },
  {
   "cell_type": "code",
   "execution_count": 1,
   "id": "ce9c9138-5168-49a6-953b-69dd0c2cd297",
   "metadata": {},
   "outputs": [],
   "source": [
    "import dynex\n",
    "import dimod\n",
    "from pyqubo import Array"
   ]
  },
  {
   "cell_type": "markdown",
   "id": "e3d50bf1-174a-49a2-8e4a-4b38d755e3b9",
   "metadata": {},
   "source": [
    "## Verify Version of Dynex SDK"
   ]
  },
  {
   "cell_type": "code",
   "execution_count": 2,
   "id": "cf95e0fb-fd5e-42ef-a802-eaf70fb5eee7",
   "metadata": {},
   "outputs": [
    {
     "data": {
      "text/plain": [
       "'0.1.17'"
      ]
     },
     "execution_count": 2,
     "metadata": {},
     "output_type": "execute_result"
    }
   ],
   "source": [
    "dynex.__version__"
   ]
  },
  {
   "cell_type": "markdown",
   "id": "bc8795b4-bfd8-486e-b2e0-d98785b2aa49",
   "metadata": {},
   "source": [
    "## Test your configuration"
   ]
  },
  {
   "cell_type": "markdown",
   "id": "2e763f4f-d24f-4ca7-93a3-cdab70950a0a",
   "metadata": {},
   "source": [
    "Successful run is required to start sampling with the Dynex SDK"
   ]
  },
  {
   "cell_type": "code",
   "execution_count": 3,
   "id": "442e7b70-7213-430c-82ef-5b165d1f382a",
   "metadata": {},
   "outputs": [
    {
     "name": "stdout",
     "output_type": "stream",
     "text": [
      "[DYNEX] TEST: dimod BQM construction...\n",
      "[DYNEX] PASSED\n",
      "[DYNEX] TEST: Dynex Sampler object...\n",
      "[DYNEX] PASSED\n",
      "[DYNEX] TEST: submitting sample file...\n",
      "[DYNEX] PASSED\n",
      "[DYNEX] TEST: retrieving samples...\n",
      "[DYNEX] PASSED\n",
      "[DYNEX] TEST RESULT: ALL TESTS PASSED\n"
     ]
    }
   ],
   "source": [
    "dynex.test()"
   ]
  },
  {
   "cell_type": "markdown",
   "id": "fced7cc0-66eb-4269-b7b4-b284516dcb3e",
   "metadata": {
    "jp-MarkdownHeadingCollapsed": true
   },
   "source": [
    "## View your API acccount"
   ]
  },
  {
   "cell_type": "code",
   "execution_count": 4,
   "id": "31e09dcd-a9bb-4d7a-80e0-f343faa3f3d1",
   "metadata": {},
   "outputs": [
    {
     "name": "stdout",
     "output_type": "stream",
     "text": [
      "ACCOUNT: y3ti@y3ti.uk\n",
      "API SUCCESSFULLY CONNECTED TO DYNEX\n",
      "-----------------------------------\n",
      "*** PAY-PER-USE PRICING ***\n",
      "-----------------------------------\n",
      "ACCOUNT LIMITS:\n",
      "MAXIMUM NUM_READS: 100,000\n",
      "MAXIMUM ANNEALING_TIME: 10,000\n",
      "MAXIMUM JOB DURATION: 60 MINUTES\n",
      "COMPUTE:\n",
      "AVAILABLE BALANCE: 161.541342837 DNX\n"
     ]
    }
   ],
   "source": [
    "dynex.account_status()"
   ]
  },
  {
   "cell_type": "markdown",
   "id": "1e49bfb6-7181-46e1-85a2-af8c051d9139",
   "metadata": {},
   "source": [
    "## Create a simple QUBO formulation"
   ]
  },
  {
   "cell_type": "code",
   "execution_count": 5,
   "id": "aebae30f-3fd8-4f3a-9cd2-bbc9281be89a",
   "metadata": {},
   "outputs": [],
   "source": [
    "N = 15\n",
    "K = 3\n",
    "numbers = [4.8097315016016315, 4.325157567810298, 2.9877429101815127,\n",
    "           3.199880179616316, 0.5787939511978596, 1.2520928214246918,\n",
    "           2.262867466401502, 1.2300003067401255, 2.1601079352817925,\n",
    "           3.63753899583021, 4.598232793833491, 2.6215815162575646,\n",
    "           3.4227134835783364, 0.28254151584552023, 4.2548151473817075]\n",
    "\n",
    "q = Array.create('q', N, 'BINARY')\n",
    "H = sum(numbers[i] * q[i] for i in range(N)) + 5.0 * (sum(q) - K)**2\n",
    "model = H.compile()\n",
    "Q, offset = model.to_qubo(index_label=True)"
   ]
  },
  {
   "cell_type": "code",
   "execution_count": 6,
   "id": "d3f7fb3c-69f0-4078-92d7-1910533744b0",
   "metadata": {},
   "outputs": [],
   "source": [
    "# BQM from QUBO:\n",
    "bqm = dimod.BinaryQuadraticModel.from_qubo(Q, offset)"
   ]
  },
  {
   "cell_type": "markdown",
   "id": "d82490d8-17f9-47c5-a0a2-84bcc6611939",
   "metadata": {},
   "source": [
    "## Sample on Dynex"
   ]
  },
  {
   "cell_type": "code",
   "execution_count": 7,
   "id": "9c390424-e2ed-4c12-8d3c-12ce9a86d4af",
   "metadata": {},
   "outputs": [
    {
     "name": "stdout",
     "output_type": "stream",
     "text": [
      "[DYNEX] SAMPLER INITIALISED\n",
      "[DYNEX|TESTNET] *** WAITING FOR READS ***\n",
      "╭────────────┬──────────┬─────────────────┬─────────────┬───────────┬───────────────────────────┬────────────┬─────────┬────────────────╮\n",
      "│   DYNEXJOB │   QUBITS │   QUANTUM GATES │   BLOCK FEE │ ELAPSED   │ WORKERS READ              │ CIRCUITS   │ STEPS   │ GROUND STATE   │\n",
      "├────────────┼──────────┼─────────────────┼─────────────┼───────────┼───────────────────────────┼────────────┼─────────┼────────────────┤\n",
      "│         -1 │       23 │             128 │           0 │           │ *** WAITING FOR READS *** │            │         │                │\n",
      "╰────────────┴──────────┴─────────────────┴─────────────┴───────────┴───────────────────────────┴────────────┴─────────┴────────────────╯\n",
      "\n",
      "[DYNEX] FINISHED READ AFTER 0.37 SECONDS\n",
      "[DYNEX] SAMPLESET READY\n",
      "Result:\n",
      "   0  1  2  3  4  5  6  7  8  9 10 11 12 13 14   energy num_oc.\n",
      "0  0  1  0  0  0  0  0  1  0  0  1  0  0  0  0 2.091336       1\n",
      "['BINARY', 1 rows, 1 samples, 15 variables]\n"
     ]
    }
   ],
   "source": [
    "model = dynex.BQM(bqm);\n",
    "sampler = dynex.DynexSampler(model, mainnet=False, description='Dynex Hello World', bnb=False);\n",
    "sampleset = sampler.sample(num_reads=5000, annealing_time=200, debugging=False);\n",
    "print('Result:')\n",
    "print(sampleset)"
   ]
  },
  {
   "cell_type": "markdown",
   "id": "d4e5688d-bc98-4b44-8c22-0c30884ddef5",
   "metadata": {},
   "source": [
    "## Sample on Dynex using clones"
   ]
  },
  {
   "cell_type": "code",
   "execution_count": 8,
   "id": "00b7abac-2c7b-450a-ba03-399d765625ce",
   "metadata": {},
   "outputs": [
    {
     "name": "stdout",
     "output_type": "stream",
     "text": [
      "╭────────────┬──────────┬─────────────────┬─────────────┬───────────┬───────────────────────────┬────────────┬─────────┬────────────────╮\n",
      "│ DYNEXJOB   │   QUBITS │   QUANTUM GATES │ BLOCK FEE   │ ELAPSED   │ WORKERS READ              │ CIRCUITS   │ STEPS   │ GROUND STATE   │\n",
      "├────────────┼──────────┼─────────────────┼─────────────┼───────────┼───────────────────────────┼────────────┼─────────┼────────────────┤\n",
      "│            │       23 │             128 │             │           │ *** WAITING FOR READS *** │            │         │                │\n",
      "╰────────────┴──────────┴─────────────────┴─────────────┴───────────┴───────────────────────────┴────────────┴─────────┴────────────────╯\n",
      "\n",
      "[DYNEX] Clone 2 finished\n",
      "[DYNEX] Clone 0 finished\n",
      "[DYNEX] Clone 3 finished\n",
      "[DYNEX] Clone 1 finished\n",
      "Result:\n",
      "   0  1  2  3  4  5  6  7  8  9 10 11 12 13 14   energy num_oc.\n",
      "0  0  1  0  0  0  0  0  1  0  0  1  0  0  0  0 2.091336       4\n",
      "['BINARY', 1 rows, 4 samples, 15 variables]\n"
     ]
    }
   ],
   "source": [
    "model = dynex.BQM(bqm);\n",
    "sampler = dynex.DynexSampler(model, mainnet=True, description='Dynex Hello World', bnb=False);\n",
    "sampleset = sampler.sample(num_reads=20000, annealing_time=1000, clones=4, debugging=False);\n",
    "print('Result:')\n",
    "print(sampleset)"
   ]
  },
  {
   "cell_type": "markdown",
   "id": "171a368e-bf05-46f7-aaaf-122034f23dcd",
   "metadata": {},
   "source": [
    "## Draw Sampleset"
   ]
  },
  {
   "cell_type": "code",
   "execution_count": 9,
   "id": "eb8bd278-3162-4b72-9315-a1c64313e7bb",
   "metadata": {},
   "outputs": [],
   "source": [
    "import matplotlib.pyplot as plt\n",
    "import numpy as np"
   ]
  },
  {
   "cell_type": "code",
   "execution_count": 10,
   "id": "d64d678e-62a4-42a5-90fd-d50d2e493905",
   "metadata": {},
   "outputs": [
    {
     "data": {
      "image/png": "[encoded data removed]",
      "text/plain": [
       "<Figure size 640x480 with 1 Axes>"
      ]
     },
     "metadata": {},
     "output_type": "display_data"
    }
   ],
   "source": [
    "# generate data:\n",
    "data = np.zeros(len(sampleset.variables)) \n",
    "for s in sampleset.record: #s[0] samples [1] energy [2] num_oc\n",
    "    for i in range(0,len(s[0])):\n",
    "        data[i] += ( s[0][i] * s[2] ); # weighted by num_oc\n",
    "\n",
    "plt.bar(sampleset.variables, data)\n",
    "plt.bar(sampleset.variables, sampleset.first.sample.values())\n",
    "plt.xlabel(\"Variables\")\n",
    "plt.ylabel(\"Occurences (positive)\")\n",
    "plt.title(\"Sampleset (orange: lowest ground state)\")\n",
    "plt.show() "
   ]
  },
  {
   "cell_type": "code",
   "execution_count": null,
   "id": "69e95b5d-9b7c-4c72-9cbd-5f2f264993d1",
   "metadata": {},
   "outputs": [],
   "source": []
  },
  {
   "cell_type": "code",
   "execution_count": null,
   "id": "5e3e8d0c-61bf-41a6-948c-c6535115cc33",
   "metadata": {},
   "outputs": [],
   "source": []
  }
 ],
 "metadata": {
  "kernelspec": {
   "display_name": "Python 3 (ipykernel)",
   "language": "python",
   "name": "python3"
  },
  "language_info": {
   "codemirror_mode": {
    "name": "ipython",
    "version": 3
   },
   "file_extension": ".py",
   "mimetype": "text/x-python",
   "name": "python",
   "nbconvert_exporter": "python",
   "pygments_lexer": "ipython3",
   "version": "3.10.12"
  }
 },
 "nbformat": 4,
 "nbformat_minor": 5
}
